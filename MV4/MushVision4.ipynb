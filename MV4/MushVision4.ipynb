{
  "nbformat": 4,
  "nbformat_minor": 0,
  "metadata": {
    "colab": {
      "provenance": [],
      "authorship_tag": "ABX9TyObqCnm2sRI+8/o0iEibpQX",
      "include_colab_link": true
    },
    "kernelspec": {
      "name": "python3",
      "display_name": "Python 3"
    },
    "language_info": {
      "name": "python"
    }
  },
  "cells": [
    {
      "cell_type": "markdown",
      "metadata": {
        "id": "view-in-github",
        "colab_type": "text"
      },
      "source": [
        "<a href=\"https://colab.research.google.com/github/Sim98B/MushVision/blob/main/MV4/MushVision4.ipynb\" target=\"_parent\"><img src=\"https://colab.research.google.com/assets/colab-badge.svg\" alt=\"Open In Colab\"/></a>"
      ]
    },
    {
      "cell_type": "code",
      "execution_count": 1,
      "metadata": {
        "colab": {
          "base_uri": "https://localhost:8080/"
        },
        "id": "mIqrVp82Rvon",
        "outputId": "2edd89f0-7a05-4dad-d14c-384d1c51477a"
      },
      "outputs": [
        {
          "output_type": "stream",
          "name": "stdout",
          "text": [
            "torch: 2.1.0+cu118\n",
            "torchvision: 0.16.0+cu118\n"
          ]
        }
      ],
      "source": [
        "try:\n",
        "  import torch\n",
        "  print(f\"torch: {torch.__version__}\")\n",
        "  import torchvision\n",
        "  print(f\"torchvision: {torchvision.__version__}\")\n",
        "except:\n",
        "  print(\"Torch and Torchvision not installed, downloading\")\n",
        "  !pip install torch torchvision\n",
        "  import torch\n",
        "  import torchvision\n",
        "\n",
        "import os\n",
        "import zipfile\n",
        "from pathlib import Path\n",
        "import requests\n",
        "\n",
        "import numpy as np\n",
        "import pandas as pd\n",
        "\n",
        "import matplotlib.pyplot as plt\n",
        "\n",
        "from torch import nn\n",
        "from torchvision import transforms\n",
        "\n",
        "!git clone https://github.com/Sim98B/MushVision\n",
        "!mv MushVision/Modules/Libraries .\n",
        "\n",
        "from Libraries import data\n",
        "from Libraries import utils"
      ]
    },
    {
      "cell_type": "code",
      "source": [
        "device = \"cuda\" if torch.cuda.is_available() else \"cpu\"\n",
        "device"
      ],
      "metadata": {
        "colab": {
          "base_uri": "https://localhost:8080/",
          "height": 35
        },
        "id": "RO3EBsDxahdh",
        "outputId": "faeff1a8-56b3-4d30-a176-510473424522"
      },
      "execution_count": 2,
      "outputs": [
        {
          "output_type": "execute_result",
          "data": {
            "text/plain": [
              "'cpu'"
            ],
            "application/vnd.google.colaboratory.intrinsic+json": {
              "type": "string"
            }
          },
          "metadata": {},
          "execution_count": 2
        }
      ]
    },
    {
      "cell_type": "code",
      "source": [
        "data_path = download_data(\"https://github.com/Sim98B/MushVision/raw/main/Data/MV4_data.zip\",\n",
        "              \"MV4_data\")"
      ],
      "metadata": {
        "id": "sky0q4y8sqiA",
        "outputId": "e61d632a-352c-4eac-bd2e-155150492966",
        "colab": {
          "base_uri": "https://localhost:8080/"
        }
      },
      "execution_count": 4,
      "outputs": [
        {
          "output_type": "stream",
          "name": "stdout",
          "text": [
            "[INFO] Did not find data directory, creating one...\n",
            "[INFO] Downloading MV4_data.zip from https://github.com/Sim98B/MushVision/raw/main/Data/MV4_data.zip...\n",
            "[INFO] Unzipping MV4_data.zip data...\n"
          ]
        }
      ]
    },
    {
      "cell_type": "code",
      "source": [
        "data_path = download_data(\"https://github.com/Sim98B/MushVision/raw/main/Data/MV4_data.zip\")\n",
        "data_path"
      ],
      "metadata": {
        "id": "hT57DsTFwcfV",
        "outputId": "6794d346-de0a-4c23-8b24-25aae9bf13cc",
        "colab": {
          "base_uri": "https://localhost:8080/"
        }
      },
      "execution_count": 8,
      "outputs": [
        {
          "output_type": "stream",
          "name": "stdout",
          "text": [
            "[INFO] data directory exists.\n",
            "[INFO] Downloading MV4_data.zip from https://github.com/Sim98B/MushVision/raw/main/Data/MV4_data.zip...\n",
            "[INFO] Unzipping MV4_data.zip data...\n"
          ]
        },
        {
          "output_type": "execute_result",
          "data": {
            "text/plain": [
              "PosixPath('data')"
            ]
          },
          "metadata": {},
          "execution_count": 8
        }
      ]
    },
    {
      "cell_type": "code",
      "source": [
        "data.inspect_dir(data_path)"
      ],
      "metadata": {
        "id": "yJqIpe8HxAEh",
        "outputId": "ec4b64d7-ffe4-425f-9aed-96aade925a32",
        "colab": {
          "base_uri": "https://localhost:8080/"
        }
      },
      "execution_count": 10,
      "outputs": [
        {
          "output_type": "stream",
          "name": "stdout",
          "text": [
            "There are 1 directory/ies and 0 file/s in data\n",
            "There are 3 directory/ies and 0 file/s in data/MV4_data\n",
            "There are 4 directory/ies and 0 file/s in data/MV4_data/train_data\n",
            "There are 0 directory/ies and 200 file/s in data/MV4_data/train_data/amanita_vaginata\n",
            "There are 0 directory/ies and 200 file/s in data/MV4_data/train_data/amanita_muscaria\n",
            "There are 0 directory/ies and 200 file/s in data/MV4_data/train_data/boletus_edulis\n",
            "There are 0 directory/ies and 199 file/s in data/MV4_data/train_data/boletus_erythropus\n",
            "There are 4 directory/ies and 0 file/s in data/MV4_data/test_data\n",
            "There are 0 directory/ies and 51 file/s in data/MV4_data/test_data/amanita_vaginata\n",
            "There are 0 directory/ies and 172 file/s in data/MV4_data/test_data/amanita_muscaria\n",
            "There are 0 directory/ies and 111 file/s in data/MV4_data/test_data/boletus_edulis\n",
            "There are 0 directory/ies and 40 file/s in data/MV4_data/test_data/boletus_erythropus\n",
            "There are 4 directory/ies and 0 file/s in data/MV4_data/val_data\n",
            "There are 0 directory/ies and 64 file/s in data/MV4_data/val_data/amanita_vaginata\n",
            "There are 0 directory/ies and 64 file/s in data/MV4_data/val_data/amanita_muscaria\n",
            "There are 0 directory/ies and 64 file/s in data/MV4_data/val_data/boletus_edulis\n",
            "There are 0 directory/ies and 64 file/s in data/MV4_data/val_data/boletus_erythropus\n"
          ]
        }
      ]
    }
  ]
}