{
  "nbformat": 4,
  "nbformat_minor": 0,
  "metadata": {
    "colab": {
      "provenance": [],
      "authorship_tag": "ABX9TyOKwDrEiBdo3kBSS+UW//P0",
      "include_colab_link": true
    },
    "kernelspec": {
      "name": "python3",
      "display_name": "Python 3"
    },
    "language_info": {
      "name": "python"
    }
  },
  "cells": [
    {
      "cell_type": "markdown",
      "metadata": {
        "id": "view-in-github",
        "colab_type": "text"
      },
      "source": [
        "<a href=\"https://colab.research.google.com/github/Sim98B/MushVision/blob/main/MV4/MushVision4.ipynb\" target=\"_parent\"><img src=\"https://colab.research.google.com/assets/colab-badge.svg\" alt=\"Open In Colab\"/></a>"
      ]
    },
    {
      "cell_type": "code",
      "source": [
        "!git config --global user.email \"sbattistini98@gmail.com\"\n",
        "!git config --global user.name \"Sim98B\""
      ],
      "metadata": {
        "id": "kZE7koPfZHcX"
      },
      "execution_count": 1,
      "outputs": []
    },
    {
      "cell_type": "code",
      "execution_count": 19,
      "metadata": {
        "colab": {
          "base_uri": "https://localhost:8080/"
        },
        "id": "mIqrVp82Rvon",
        "outputId": "651880b7-c46a-484f-f4ea-4f69e5bed688"
      },
      "outputs": [
        {
          "output_type": "stream",
          "name": "stdout",
          "text": [
            "torch: 2.1.0+cu118\n",
            "torchvision: 0.16.0+cu118\n"
          ]
        }
      ],
      "source": [
        "try:\n",
        "  import torch\n",
        "  print(f\"torch: {torch.__version__}\")\n",
        "  import torchvision\n",
        "  print(f\"torchvision: {torchvision.__version__}\")\n",
        "except:\n",
        "  print(\"Torch and Torchvision not installed, downloading\")\n",
        "  !pip install torch torchvision\n",
        "  import torch\n",
        "  import torchvision\n",
        "\n",
        "import os\n",
        "from pathlib import Path\n",
        "import requests\n",
        "\n",
        "import numpy as np\n",
        "import pandas as pd\n",
        "\n",
        "import matplotlib.pyplot as plt\n",
        "\n",
        "from torch import nn\n",
        "from torchvision import transforms"
      ]
    },
    {
      "cell_type": "code",
      "source": [
        "device = \"cuda\" if torch.cuda.is_available() else \"cpu\"\n",
        "device"
      ],
      "metadata": {
        "colab": {
          "base_uri": "https://localhost:8080/",
          "height": 35
        },
        "id": "RO3EBsDxahdh",
        "outputId": "f9706982-0ece-4d2d-871b-c08feadda1dc"
      },
      "execution_count": 8,
      "outputs": [
        {
          "output_type": "execute_result",
          "data": {
            "text/plain": [
              "'cpu'"
            ],
            "application/vnd.google.colaboratory.intrinsic+json": {
              "type": "string"
            }
          },
          "metadata": {},
          "execution_count": 8
        }
      ]
    },
    {
      "cell_type": "code",
      "source": [
        "data_path = Path(\"Data/\")\n",
        "images_path = data_path / \"train_data\"\n",
        "\n",
        "if images_path.is_dir():\n",
        "    print(f\"{images_path} directory exists.\")\n",
        "else:\n",
        "    print(f\"Did not find {images_path} directory, creating one...\")\n",
        "    images_path.mkdir(parents=True, exist_ok=True)"
      ],
      "metadata": {
        "id": "Tzr2E-khSGRf",
        "colab": {
          "base_uri": "https://localhost:8080/"
        },
        "outputId": "cce2469d-1141-4dfa-ab5f-3adac4d9a279"
      },
      "execution_count": 17,
      "outputs": [
        {
          "output_type": "stream",
          "name": "stdout",
          "text": [
            "Did not find Data/train_data directory, creating one...\n"
          ]
        }
      ]
    },
    {
      "cell_type": "code",
      "source": [],
      "metadata": {
        "id": "ADPhZFo8fg4o"
      },
      "execution_count": null,
      "outputs": []
    }
  ]
}