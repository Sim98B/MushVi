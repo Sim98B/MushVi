{
  "nbformat": 4,
  "nbformat_minor": 0,
  "metadata": {
    "colab": {
      "provenance": [],
      "authorship_tag": "ABX9TyMcT8RWjXpkWhs6rK+RPRFY",
      "include_colab_link": true
    },
    "kernelspec": {
      "name": "python3",
      "display_name": "Python 3"
    },
    "language_info": {
      "name": "python"
    }
  },
  "cells": [
    {
      "cell_type": "markdown",
      "metadata": {
        "id": "view-in-github",
        "colab_type": "text"
      },
      "source": [
        "<a href=\"https://colab.research.google.com/github/Sim98B/MushVision/blob/main/MV4/MushVision4.ipynb\" target=\"_parent\"><img src=\"https://colab.research.google.com/assets/colab-badge.svg\" alt=\"Open In Colab\"/></a>"
      ]
    },
    {
      "cell_type": "code",
      "execution_count": 1,
      "metadata": {
        "colab": {
          "base_uri": "https://localhost:8080/"
        },
        "id": "mIqrVp82Rvon",
        "outputId": "0ac9a6f9-8e75-4c91-e4c5-ddfb7791f1ea"
      },
      "outputs": [
        {
          "output_type": "stream",
          "name": "stdout",
          "text": [
            "torch: 2.1.0+cu118\n",
            "torchvision: 0.16.0+cu118\n"
          ]
        }
      ],
      "source": [
        "try:\n",
        "  import torch\n",
        "  print(f\"torch: {torch.__version__}\")\n",
        "  import torchvision\n",
        "  print(f\"torchvision: {torchvision.__version__}\")\n",
        "except:\n",
        "  print(\"Torch and Torchvision not installed, downloading\")\n",
        "  !pip install torch torchvision\n",
        "  import torch\n",
        "  import torchvision\n",
        "\n",
        "import os\n",
        "import zipfile\n",
        "from pathlib import Path\n",
        "import requests\n",
        "\n",
        "import numpy as np\n",
        "import pandas as pd\n",
        "\n",
        "import matplotlib.pyplot as plt\n",
        "\n",
        "from torch import nn\n",
        "from torchvision import transforms"
      ]
    },
    {
      "cell_type": "code",
      "source": [
        "device = \"cuda\" if torch.cuda.is_available() else \"cpu\"\n",
        "device"
      ],
      "metadata": {
        "colab": {
          "base_uri": "https://localhost:8080/",
          "height": 35
        },
        "id": "RO3EBsDxahdh",
        "outputId": "4066c30e-6cbd-4f34-e48b-5bb3d531b0fe"
      },
      "execution_count": 2,
      "outputs": [
        {
          "output_type": "execute_result",
          "data": {
            "text/plain": [
              "'cpu'"
            ],
            "application/vnd.google.colaboratory.intrinsic+json": {
              "type": "string"
            }
          },
          "metadata": {},
          "execution_count": 2
        }
      ]
    },
    {
      "cell_type": "code",
      "source": [
        "data_path = Path(\"Data/\")\n",
        "#image_path = data_path / \"mush_img\"\n",
        "\n",
        "#if image_path.is_dir():\n",
        "#    print(f\"{image_path} directory exists.\")\n",
        "#else:\n",
        "#    print(f\"Did not find {image_path} directory, creating one...\")\n",
        "#    image_path.mkdir(parents=True, exist_ok=True)\n",
        "\n",
        "\n",
        "with open(\"MV4.zip\", \"wb\") as f:\n",
        "    request = requests.get(\"https://github.com/Sim98B/MushVision/raw/main/Data/MV4.zip\")\n",
        "    print(\"Downloading data...\")\n",
        "    f.write(request.content)\n",
        "\n",
        "with zipfile.ZipFile(\"MV4.zip\", \"r\") as zip_ref:\n",
        "    print(\"Unzipping data...\")\n",
        "    zip_ref.extractall(data_path)"
      ],
      "metadata": {
        "id": "Tzr2E-khSGRf",
        "colab": {
          "base_uri": "https://localhost:8080/"
        },
        "outputId": "c7bdfa1d-0848-49e2-86ea-54270f3e118b"
      },
      "execution_count": 3,
      "outputs": [
        {
          "output_type": "stream",
          "name": "stdout",
          "text": [
            "Downloading data...\n",
            "Unzipping data...\n"
          ]
        }
      ]
    }
  ]
}