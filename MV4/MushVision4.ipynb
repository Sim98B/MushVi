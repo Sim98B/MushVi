{
  "nbformat": 4,
  "nbformat_minor": 0,
  "metadata": {
    "colab": {
      "provenance": [],
      "authorship_tag": "ABX9TyNLBRwHN+G/IYaIn3W647BB",
      "include_colab_link": true
    },
    "kernelspec": {
      "name": "python3",
      "display_name": "Python 3"
    },
    "language_info": {
      "name": "python"
    }
  },
  "cells": [
    {
      "cell_type": "markdown",
      "metadata": {
        "id": "view-in-github",
        "colab_type": "text"
      },
      "source": [
        "<a href=\"https://colab.research.google.com/github/Sim98B/MushVision/blob/main/MV4/MushVision4.ipynb\" target=\"_parent\"><img src=\"https://colab.research.google.com/assets/colab-badge.svg\" alt=\"Open In Colab\"/></a>"
      ]
    },
    {
      "cell_type": "code",
      "source": [
        "!git config --global user.email \"sbattistini98@gmail.com\"\n",
        "!git config --global user.name \"Sim98B\""
      ],
      "metadata": {
        "id": "kZE7koPfZHcX"
      },
      "execution_count": 1,
      "outputs": []
    },
    {
      "cell_type": "code",
      "execution_count": 2,
      "metadata": {
        "colab": {
          "base_uri": "https://localhost:8080/"
        },
        "id": "mIqrVp82Rvon",
        "outputId": "23733830-edfb-44aa-986f-8988d24dc1e6"
      },
      "outputs": [
        {
          "output_type": "stream",
          "name": "stdout",
          "text": [
            "torch: 2.1.0+cu118\n",
            "torchvision: 0.16.0+cu118\n"
          ]
        }
      ],
      "source": [
        "try:\n",
        "  import torch\n",
        "  print(f\"torch: {torch.__version__}\")\n",
        "  import torchvision\n",
        "  print(f\"torchvision: {torchvision.__version__}\")\n",
        "except:\n",
        "  print(\"Torch and Torchvision not installed, downloading\")\n",
        "  !pip install torch torchvision\n",
        "  import torch\n",
        "  import torchvision\n",
        "\n",
        "from pathlib import Path\n",
        "import requests\n",
        "\n",
        "import numpy as np\n",
        "import pandas as pd\n",
        "\n",
        "import matplotlib.pyplot as plt\n",
        "\n",
        "from torch import nn\n",
        "from torchvision import transforms"
      ]
    },
    {
      "cell_type": "code",
      "source": [
        "# This a test for github"
      ],
      "metadata": {
        "id": "Tzr2E-khSGRf"
      },
      "execution_count": 3,
      "outputs": []
    },
    {
      "cell_type": "code",
      "source": [],
      "metadata": {
        "id": "i_fjVxD1ZRVk"
      },
      "execution_count": null,
      "outputs": []
    }
  ]
}