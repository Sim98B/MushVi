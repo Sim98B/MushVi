{
  "nbformat": 4,
  "nbformat_minor": 0,
  "metadata": {
    "colab": {
      "provenance": [],
      "authorship_tag": "ABX9TyO2OrT6qKdXV5YjU8byof8O",
      "include_colab_link": true
    },
    "kernelspec": {
      "name": "python3",
      "display_name": "Python 3"
    },
    "language_info": {
      "name": "python"
    }
  },
  "cells": [
    {
      "cell_type": "markdown",
      "metadata": {
        "id": "view-in-github",
        "colab_type": "text"
      },
      "source": [
        "<a href=\"https://colab.research.google.com/github/Sim98B/MushVision/blob/main/MV4/MushVision4.ipynb\" target=\"_parent\"><img src=\"https://colab.research.google.com/assets/colab-badge.svg\" alt=\"Open In Colab\"/></a>"
      ]
    },
    {
      "cell_type": "code",
      "execution_count": 1,
      "metadata": {
        "colab": {
          "base_uri": "https://localhost:8080/"
        },
        "id": "mIqrVp82Rvon",
        "outputId": "e02c775d-ad98-4b53-ba63-680744771d71"
      },
      "outputs": [
        {
          "output_type": "stream",
          "name": "stdout",
          "text": [
            "torch: 2.1.0+cu118\n",
            "torchvision: 0.16.0+cu118\n",
            "Cloning into 'MushVision'...\n",
            "remote: Enumerating objects: 2110, done.\u001b[K\n",
            "remote: Counting objects: 100% (563/563), done.\u001b[K\n",
            "remote: Compressing objects: 100% (421/421), done.\u001b[K\n",
            "remote: Total 2110 (delta 133), reused 545 (delta 123), pack-reused 1547\u001b[K\n",
            "Receiving objects: 100% (2110/2110), 244.87 MiB | 22.59 MiB/s, done.\n",
            "Resolving deltas: 100% (269/269), done.\n"
          ]
        }
      ],
      "source": [
        "try:\n",
        "  import torch\n",
        "  print(f\"torch: {torch.__version__}\")\n",
        "  import torchvision\n",
        "  print(f\"torchvision: {torchvision.__version__}\")\n",
        "except:\n",
        "  print(\"Torch and Torchvision not installed, downloading\")\n",
        "  !pip install torch torchvision\n",
        "  import torch\n",
        "  import torchvision\n",
        "\n",
        "import os\n",
        "import zipfile\n",
        "from pathlib import Path\n",
        "import requests\n",
        "\n",
        "import numpy as np\n",
        "import pandas as pd\n",
        "\n",
        "import matplotlib.pyplot as plt\n",
        "\n",
        "from torch import nn\n",
        "from torchvision import transforms\n",
        "\n",
        "!git clone https://github.com/Sim98B/MushVision\n",
        "!mv MushVision/Modules/Libraries .\n",
        "\n",
        "from Libraries import data\n",
        "from Libraries import utils"
      ]
    },
    {
      "cell_type": "code",
      "source": [
        "device = \"cuda\" if torch.cuda.is_available() else \"cpu\"\n",
        "device"
      ],
      "metadata": {
        "colab": {
          "base_uri": "https://localhost:8080/",
          "height": 35
        },
        "id": "RO3EBsDxahdh",
        "outputId": "d66edc26-b411-4322-e8eb-6f968b4908d6"
      },
      "execution_count": 4,
      "outputs": [
        {
          "output_type": "execute_result",
          "data": {
            "text/plain": [
              "'cpu'"
            ],
            "application/vnd.google.colaboratory.intrinsic+json": {
              "type": "string"
            }
          },
          "metadata": {},
          "execution_count": 4
        }
      ]
    },
    {
      "cell_type": "code",
      "source": [
        "data_path = data.download_data(\"https://github.com/Sim98B/MushVision/raw/main/Data/MV4_data.zip\",\n",
        "              \"MV4_data\")\n",
        "data_path"
      ],
      "metadata": {
        "colab": {
          "base_uri": "https://localhost:8080/"
        },
        "id": "sky0q4y8sqiA",
        "outputId": "0e56199c-0233-4452-e401-84fc7b6f642d"
      },
      "execution_count": 6,
      "outputs": [
        {
          "output_type": "stream",
          "name": "stdout",
          "text": [
            "[INFO] Did not find data directory, creating one...\n",
            "[INFO] Downloading MV4_data.zip from https://github.com/Sim98B/MushVision/raw/main/Data/MV4_data.zip...\n",
            "[INFO] Unzipping MV4_data.zip data...\n"
          ]
        },
        {
          "output_type": "execute_result",
          "data": {
            "text/plain": [
              "PosixPath('data')"
            ]
          },
          "metadata": {},
          "execution_count": 6
        }
      ]
    },
    {
      "cell_type": "code",
      "source": [
        "data.inspect_dir(data_path)"
      ],
      "metadata": {
        "colab": {
          "base_uri": "https://localhost:8080/"
        },
        "id": "yJqIpe8HxAEh",
        "outputId": "b99706b3-6393-49e9-b634-d31796a5e424"
      },
      "execution_count": 8,
      "outputs": [
        {
          "output_type": "stream",
          "name": "stdout",
          "text": [
            "There are 1 directory/ies and 0 file/s in data\n",
            "There are 3 directory/ies and 0 file/s in data/MV4_data\n",
            "There are 4 directory/ies and 0 file/s in data/MV4_data/train_data\n",
            "There are 0 directory/ies and 200 file/s in data/MV4_data/train_data/amanita_vaginata\n",
            "There are 0 directory/ies and 200 file/s in data/MV4_data/train_data/amanita_muscaria\n",
            "There are 0 directory/ies and 200 file/s in data/MV4_data/train_data/boletus_edulis\n",
            "There are 0 directory/ies and 200 file/s in data/MV4_data/train_data/boletus_erythropus\n",
            "There are 4 directory/ies and 0 file/s in data/MV4_data/test_data\n",
            "There are 0 directory/ies and 51 file/s in data/MV4_data/test_data/amanita_vaginata\n",
            "There are 0 directory/ies and 172 file/s in data/MV4_data/test_data/amanita_muscaria\n",
            "There are 0 directory/ies and 111 file/s in data/MV4_data/test_data/boletus_edulis\n",
            "There are 0 directory/ies and 39 file/s in data/MV4_data/test_data/boletus_erythropus\n",
            "There are 4 directory/ies and 0 file/s in data/MV4_data/val_data\n",
            "There are 0 directory/ies and 64 file/s in data/MV4_data/val_data/amanita_vaginata\n",
            "There are 0 directory/ies and 64 file/s in data/MV4_data/val_data/amanita_muscaria\n",
            "There are 0 directory/ies and 64 file/s in data/MV4_data/val_data/boletus_edulis\n",
            "There are 0 directory/ies and 64 file/s in data/MV4_data/val_data/boletus_erythropus\n"
          ]
        }
      ]
    }
  ]
}