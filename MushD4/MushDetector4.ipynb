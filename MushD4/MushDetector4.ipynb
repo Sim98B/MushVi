{
  "nbformat": 4,
  "nbformat_minor": 0,
  "metadata": {
    "colab": {
      "provenance": [],
      "authorship_tag": "ABX9TyNT8KBex6GqoLcVRvuBediz",
      "include_colab_link": true
    },
    "kernelspec": {
      "name": "python3",
      "display_name": "Python 3"
    },
    "language_info": {
      "name": "python"
    },
    "widgets": {
      "application/vnd.jupyter.widget-state+json": {
        "1c3a1e28cdbc4874af183a0d320e8fae": {
          "model_module": "@jupyter-widgets/controls",
          "model_name": "HBoxModel",
          "model_module_version": "1.5.0",
          "state": {
            "_dom_classes": [],
            "_model_module": "@jupyter-widgets/controls",
            "_model_module_version": "1.5.0",
            "_model_name": "HBoxModel",
            "_view_count": null,
            "_view_module": "@jupyter-widgets/controls",
            "_view_module_version": "1.5.0",
            "_view_name": "HBoxView",
            "box_style": "",
            "children": [
              "IPY_MODEL_2027e6302caf490f8e1db2314a3b4dc6",
              "IPY_MODEL_a553f7e408e547969a20dd535d56bd4f",
              "IPY_MODEL_15e6c5fa13ab4a9897eccd20c67e73b9"
            ],
            "layout": "IPY_MODEL_79f3acaec5f64591b5c82adce67d8078"
          }
        },
        "2027e6302caf490f8e1db2314a3b4dc6": {
          "model_module": "@jupyter-widgets/controls",
          "model_name": "HTMLModel",
          "model_module_version": "1.5.0",
          "state": {
            "_dom_classes": [],
            "_model_module": "@jupyter-widgets/controls",
            "_model_module_version": "1.5.0",
            "_model_name": "HTMLModel",
            "_view_count": null,
            "_view_module": "@jupyter-widgets/controls",
            "_view_module_version": "1.5.0",
            "_view_name": "HTMLView",
            "description": "",
            "description_tooltip": null,
            "layout": "IPY_MODEL_85b4d8ddcba84bb0aa17e6133f223624",
            "placeholder": "​",
            "style": "IPY_MODEL_24931fd7f7e84da5a004dacd5847e5d9",
            "value": "Training: 100%"
          }
        },
        "a553f7e408e547969a20dd535d56bd4f": {
          "model_module": "@jupyter-widgets/controls",
          "model_name": "FloatProgressModel",
          "model_module_version": "1.5.0",
          "state": {
            "_dom_classes": [],
            "_model_module": "@jupyter-widgets/controls",
            "_model_module_version": "1.5.0",
            "_model_name": "FloatProgressModel",
            "_view_count": null,
            "_view_module": "@jupyter-widgets/controls",
            "_view_module_version": "1.5.0",
            "_view_name": "ProgressView",
            "bar_style": "success",
            "description": "",
            "description_tooltip": null,
            "layout": "IPY_MODEL_4ddfa4ed89a7490c817f505cc384fc2d",
            "max": 30,
            "min": 0,
            "orientation": "horizontal",
            "style": "IPY_MODEL_96f98fc3980a4fe58d9da24fbf1a1b97",
            "value": 30
          }
        },
        "15e6c5fa13ab4a9897eccd20c67e73b9": {
          "model_module": "@jupyter-widgets/controls",
          "model_name": "HTMLModel",
          "model_module_version": "1.5.0",
          "state": {
            "_dom_classes": [],
            "_model_module": "@jupyter-widgets/controls",
            "_model_module_version": "1.5.0",
            "_model_name": "HTMLModel",
            "_view_count": null,
            "_view_module": "@jupyter-widgets/controls",
            "_view_module_version": "1.5.0",
            "_view_name": "HTMLView",
            "description": "",
            "description_tooltip": null,
            "layout": "IPY_MODEL_01cc092ab5d54bd89c11784fd16dab0d",
            "placeholder": "​",
            "style": "IPY_MODEL_2011555c994f4a25a645d5b8b6232fcd",
            "value": " 30/30 [11:35&lt;00:00, 22.38s/it, Train loss=2.420, Train Accuracy=38.17%, Test loss=2.894, Test Accuracy=30.88%]"
          }
        },
        "79f3acaec5f64591b5c82adce67d8078": {
          "model_module": "@jupyter-widgets/base",
          "model_name": "LayoutModel",
          "model_module_version": "1.2.0",
          "state": {
            "_model_module": "@jupyter-widgets/base",
            "_model_module_version": "1.2.0",
            "_model_name": "LayoutModel",
            "_view_count": null,
            "_view_module": "@jupyter-widgets/base",
            "_view_module_version": "1.2.0",
            "_view_name": "LayoutView",
            "align_content": null,
            "align_items": null,
            "align_self": null,
            "border": null,
            "bottom": null,
            "display": null,
            "flex": null,
            "flex_flow": null,
            "grid_area": null,
            "grid_auto_columns": null,
            "grid_auto_flow": null,
            "grid_auto_rows": null,
            "grid_column": null,
            "grid_gap": null,
            "grid_row": null,
            "grid_template_areas": null,
            "grid_template_columns": null,
            "grid_template_rows": null,
            "height": null,
            "justify_content": null,
            "justify_items": null,
            "left": null,
            "margin": null,
            "max_height": null,
            "max_width": null,
            "min_height": null,
            "min_width": null,
            "object_fit": null,
            "object_position": null,
            "order": null,
            "overflow": null,
            "overflow_x": null,
            "overflow_y": null,
            "padding": null,
            "right": null,
            "top": null,
            "visibility": null,
            "width": null
          }
        },
        "85b4d8ddcba84bb0aa17e6133f223624": {
          "model_module": "@jupyter-widgets/base",
          "model_name": "LayoutModel",
          "model_module_version": "1.2.0",
          "state": {
            "_model_module": "@jupyter-widgets/base",
            "_model_module_version": "1.2.0",
            "_model_name": "LayoutModel",
            "_view_count": null,
            "_view_module": "@jupyter-widgets/base",
            "_view_module_version": "1.2.0",
            "_view_name": "LayoutView",
            "align_content": null,
            "align_items": null,
            "align_self": null,
            "border": null,
            "bottom": null,
            "display": null,
            "flex": null,
            "flex_flow": null,
            "grid_area": null,
            "grid_auto_columns": null,
            "grid_auto_flow": null,
            "grid_auto_rows": null,
            "grid_column": null,
            "grid_gap": null,
            "grid_row": null,
            "grid_template_areas": null,
            "grid_template_columns": null,
            "grid_template_rows": null,
            "height": null,
            "justify_content": null,
            "justify_items": null,
            "left": null,
            "margin": null,
            "max_height": null,
            "max_width": null,
            "min_height": null,
            "min_width": null,
            "object_fit": null,
            "object_position": null,
            "order": null,
            "overflow": null,
            "overflow_x": null,
            "overflow_y": null,
            "padding": null,
            "right": null,
            "top": null,
            "visibility": null,
            "width": null
          }
        },
        "24931fd7f7e84da5a004dacd5847e5d9": {
          "model_module": "@jupyter-widgets/controls",
          "model_name": "DescriptionStyleModel",
          "model_module_version": "1.5.0",
          "state": {
            "_model_module": "@jupyter-widgets/controls",
            "_model_module_version": "1.5.0",
            "_model_name": "DescriptionStyleModel",
            "_view_count": null,
            "_view_module": "@jupyter-widgets/base",
            "_view_module_version": "1.2.0",
            "_view_name": "StyleView",
            "description_width": ""
          }
        },
        "4ddfa4ed89a7490c817f505cc384fc2d": {
          "model_module": "@jupyter-widgets/base",
          "model_name": "LayoutModel",
          "model_module_version": "1.2.0",
          "state": {
            "_model_module": "@jupyter-widgets/base",
            "_model_module_version": "1.2.0",
            "_model_name": "LayoutModel",
            "_view_count": null,
            "_view_module": "@jupyter-widgets/base",
            "_view_module_version": "1.2.0",
            "_view_name": "LayoutView",
            "align_content": null,
            "align_items": null,
            "align_self": null,
            "border": null,
            "bottom": null,
            "display": null,
            "flex": null,
            "flex_flow": null,
            "grid_area": null,
            "grid_auto_columns": null,
            "grid_auto_flow": null,
            "grid_auto_rows": null,
            "grid_column": null,
            "grid_gap": null,
            "grid_row": null,
            "grid_template_areas": null,
            "grid_template_columns": null,
            "grid_template_rows": null,
            "height": null,
            "justify_content": null,
            "justify_items": null,
            "left": null,
            "margin": null,
            "max_height": null,
            "max_width": null,
            "min_height": null,
            "min_width": null,
            "object_fit": null,
            "object_position": null,
            "order": null,
            "overflow": null,
            "overflow_x": null,
            "overflow_y": null,
            "padding": null,
            "right": null,
            "top": null,
            "visibility": null,
            "width": null
          }
        },
        "96f98fc3980a4fe58d9da24fbf1a1b97": {
          "model_module": "@jupyter-widgets/controls",
          "model_name": "ProgressStyleModel",
          "model_module_version": "1.5.0",
          "state": {
            "_model_module": "@jupyter-widgets/controls",
            "_model_module_version": "1.5.0",
            "_model_name": "ProgressStyleModel",
            "_view_count": null,
            "_view_module": "@jupyter-widgets/base",
            "_view_module_version": "1.2.0",
            "_view_name": "StyleView",
            "bar_color": null,
            "description_width": ""
          }
        },
        "01cc092ab5d54bd89c11784fd16dab0d": {
          "model_module": "@jupyter-widgets/base",
          "model_name": "LayoutModel",
          "model_module_version": "1.2.0",
          "state": {
            "_model_module": "@jupyter-widgets/base",
            "_model_module_version": "1.2.0",
            "_model_name": "LayoutModel",
            "_view_count": null,
            "_view_module": "@jupyter-widgets/base",
            "_view_module_version": "1.2.0",
            "_view_name": "LayoutView",
            "align_content": null,
            "align_items": null,
            "align_self": null,
            "border": null,
            "bottom": null,
            "display": null,
            "flex": null,
            "flex_flow": null,
            "grid_area": null,
            "grid_auto_columns": null,
            "grid_auto_flow": null,
            "grid_auto_rows": null,
            "grid_column": null,
            "grid_gap": null,
            "grid_row": null,
            "grid_template_areas": null,
            "grid_template_columns": null,
            "grid_template_rows": null,
            "height": null,
            "justify_content": null,
            "justify_items": null,
            "left": null,
            "margin": null,
            "max_height": null,
            "max_width": null,
            "min_height": null,
            "min_width": null,
            "object_fit": null,
            "object_position": null,
            "order": null,
            "overflow": null,
            "overflow_x": null,
            "overflow_y": null,
            "padding": null,
            "right": null,
            "top": null,
            "visibility": null,
            "width": null
          }
        },
        "2011555c994f4a25a645d5b8b6232fcd": {
          "model_module": "@jupyter-widgets/controls",
          "model_name": "DescriptionStyleModel",
          "model_module_version": "1.5.0",
          "state": {
            "_model_module": "@jupyter-widgets/controls",
            "_model_module_version": "1.5.0",
            "_model_name": "DescriptionStyleModel",
            "_view_count": null,
            "_view_module": "@jupyter-widgets/base",
            "_view_module_version": "1.2.0",
            "_view_name": "StyleView",
            "description_width": ""
          }
        }
      }
    }
  },
  "cells": [
    {
      "cell_type": "markdown",
      "metadata": {
        "id": "view-in-github",
        "colab_type": "text"
      },
      "source": [
        "<a href=\"https://colab.research.google.com/github/Sim98B/MushroomVision/blob/main/MushD4/MushDetector4.ipynb\" target=\"_parent\"><img src=\"https://colab.research.google.com/assets/colab-badge.svg\" alt=\"Open In Colab\"/></a>"
      ]
    },
    {
      "cell_type": "markdown",
      "source": [
        "# Mushroom Detector"
      ],
      "metadata": {
        "id": "gYWns4tlIVrL"
      }
    },
    {
      "cell_type": "markdown",
      "source": [
        "## Setup"
      ],
      "metadata": {
        "id": "bnhUWXVMIYvK"
      }
    },
    {
      "cell_type": "code",
      "source": [
        "# Importing main libraries\n",
        "try:\n",
        "  import torch\n",
        "  import torchvision\n",
        "  import torchinfo\n",
        "except:\n",
        "  print(\"[INFO] Torch and Torchvision not installed, downloading\")\n",
        "  !pip install -q torch torchvision torchinfo\n",
        "import torch\n",
        "print(f\"torch: {torch.__version__}\")\n",
        "import torchvision\n",
        "print(f\"torchvision: {torchvision.__version__}\")\n",
        "import torchinfo\n",
        "print(f\"torchinfo: {torchinfo.__version__}\")\n",
        "\n",
        "# Utilities\n",
        "import os\n",
        "from pathlib import Path\n",
        "import requests\n",
        "import shutil\n",
        "from timeit import default_timer as timer\n",
        "import itertools\n",
        "import warnings\n",
        "warnings.filterwarnings(\"ignore\")\n",
        "\n",
        "# Manipulation\n",
        "import numpy as np\n",
        "import pandas as pd\n",
        "\n",
        "# Plotting\n",
        "import matplotlib.pyplot as plt\n",
        "import seaborn as sns\n",
        "\n",
        "# Neural networks\n",
        "from torch import nn\n",
        "from torchvision import transforms\n",
        "import torchvision.models\n",
        "from torchinfo import summary\n",
        "\n",
        "# Metrics\n",
        "from sklearn.metrics import accuracy_score, f1_score, confusion_matrix\n",
        "\n",
        "# Cloning GitHub repository\n",
        "!git clone https://github.com/Sim98B/MushroomVision\n",
        "!mv MushroomVision/Modules/Libraries .\n",
        "!mv MushroomVision/MV4/Models .\n",
        "\n",
        "# Custom functions\n",
        "from Libraries import data, extractors, model_ops, utils\n",
        "\n",
        "shutil.rmtree(\"MushroomVision\")"
      ],
      "metadata": {
        "id": "7gblxczj8Gc4",
        "colab": {
          "base_uri": "https://localhost:8080/"
        },
        "outputId": "c87a3854-c677-4069-f0fb-86a41d793050"
      },
      "execution_count": 1,
      "outputs": [
        {
          "output_type": "stream",
          "name": "stdout",
          "text": [
            "[INFO] Torch and Torchvision not installed, downloading\n",
            "torch: 2.1.0+cu118\n",
            "torchvision: 0.16.0+cu118\n",
            "torchinfo: 1.8.0\n",
            "Cloning into 'MushroomVision'...\n",
            "remote: Enumerating objects: 64149, done.\u001b[K\n",
            "remote: Counting objects: 100% (108/108), done.\u001b[K\n",
            "remote: Compressing objects: 100% (49/49), done.\u001b[K\n",
            "remote: Total 64149 (delta 83), reused 81 (delta 59), pack-reused 64041\u001b[K\n",
            "Receiving objects: 100% (64149/64149), 800.21 MiB | 33.47 MiB/s, done.\n",
            "Resolving deltas: 100% (1045/1045), done.\n",
            "Updating files: 100% (1741/1741), done.\n"
          ]
        }
      ]
    },
    {
      "cell_type": "code",
      "source": [
        "!mv MushroomVision/MV4/Models ."
      ],
      "metadata": {
        "id": "4IZ3m6USEHUc",
        "outputId": "eaa38b6c-e9a1-4369-f95b-687aa2d4dfca",
        "colab": {
          "base_uri": "https://localhost:8080/"
        }
      },
      "execution_count": 2,
      "outputs": [
        {
          "output_type": "stream",
          "name": "stdout",
          "text": [
            "mv: cannot stat 'MushroomVision/MV4/Models': No such file or directory\n"
          ]
        }
      ]
    },
    {
      "cell_type": "code",
      "source": [
        "# Device agnostic code\n",
        "device = \"cuda\" if torch.cuda.is_available() else \"cpu\"\n",
        "device"
      ],
      "metadata": {
        "colab": {
          "base_uri": "https://localhost:8080/",
          "height": 35
        },
        "id": "UkwfrxBhFhnJ",
        "outputId": "f21ba41d-182f-4782-b20a-f0a3bc693e78"
      },
      "execution_count": null,
      "outputs": [
        {
          "output_type": "execute_result",
          "data": {
            "text/plain": [
              "'cuda'"
            ],
            "application/vnd.google.colaboratory.intrinsic+json": {
              "type": "string"
            }
          },
          "metadata": {},
          "execution_count": 2
        }
      ]
    },
    {
      "cell_type": "markdown",
      "source": [
        "## Data: [CIFAR100](https://www.cs.toronto.edu/~kriz/cifar.html)\n",
        "The best way to identify those photos that contain photos is to use photos of 100 different subjects."
      ],
      "metadata": {
        "id": "yo9TZcmRIaeo"
      }
    },
    {
      "cell_type": "code",
      "source": [
        "tensor_transform = transforms.Compose([\n",
        "    transforms.ToTensor(),\n",
        "    transforms.Normalize((0.5, 0.5, 0.5), (0.5, 0.5, 0.5))\n",
        "])\n",
        "\n",
        "train_data = torchvision.datasets.CIFAR100(root='./data', train=True, download=True, transform = tensor_transform)\n",
        "test_data = torchvision.datasets.CIFAR100(root='./data', train=False, download=True, transform = tensor_transform)\n",
        "\n",
        "print(f\"{len(train_data)} images for train divided into {len(train_data.classes)} classes\")\n",
        "print(f\"{len(test_data)} images for train divided into {len(test_data.classes)} classes\")"
      ],
      "metadata": {
        "colab": {
          "base_uri": "https://localhost:8080/"
        },
        "id": "T7vmCqFkLyc_",
        "outputId": "d7e25106-0f2b-4898-8e3c-b2ce5ffe7fda"
      },
      "execution_count": null,
      "outputs": [
        {
          "output_type": "stream",
          "name": "stdout",
          "text": [
            "Downloading https://www.cs.toronto.edu/~kriz/cifar-100-python.tar.gz to ./data/cifar-100-python.tar.gz\n"
          ]
        },
        {
          "output_type": "stream",
          "name": "stderr",
          "text": [
            "100%|██████████| 169001437/169001437 [00:01<00:00, 100663904.15it/s]\n"
          ]
        },
        {
          "output_type": "stream",
          "name": "stdout",
          "text": [
            "Extracting ./data/cifar-100-python.tar.gz to ./data\n",
            "Files already downloaded and verified\n",
            "50000 images for train divided into 100 classes\n",
            "10000 images for train divided into 100 classes\n"
          ]
        }
      ]
    },
    {
      "cell_type": "code",
      "source": [
        "# We have a mushroom class in this dataset, at index 51\n",
        "for i in range(len(train_data.classes)):\n",
        "  if train_data.classes[i] == \"mushroom\":\n",
        "    print(f\"{i+1}. {train_data.classes[i].upper()}\")\n",
        "\n",
        "class_names = train_data.classes"
      ],
      "metadata": {
        "id": "O8JPdAz4xtr3",
        "outputId": "d7a4d3af-1fc8-47cc-c59f-048e50c762ff",
        "colab": {
          "base_uri": "https://localhost:8080/"
        }
      },
      "execution_count": null,
      "outputs": [
        {
          "output_type": "stream",
          "name": "stdout",
          "text": [
            "52. MUSHROOM\n"
          ]
        }
      ]
    },
    {
      "cell_type": "markdown",
      "source": [
        "## Baseline\n",
        "As in the [PyTorch example](https://pytorch.org/tutorials/beginner/blitz/cifar10_tutorial.html) we are going to use a simple convolutional baseline model."
      ],
      "metadata": {
        "id": "cmRRfO1NAFN3"
      }
    },
    {
      "cell_type": "code",
      "source": [
        "# Creating a simple convolutional model\n",
        "\n",
        "utils.set_seed()\n",
        "\n",
        "class Classifier(nn.Module):\n",
        "  def __init__(self):\n",
        "    super().__init__()\n",
        "    self.conv1 = nn.Conv2d(3, 6, 5)\n",
        "    self.pool = nn.MaxPool2d(2, 2)\n",
        "    self.conv2 = nn.Conv2d(6, 16, 5)\n",
        "    self.fc1 = nn.Linear(16 * 5 * 5, 120)\n",
        "    self.fc2 = nn.Linear(120, 84)\n",
        "    self.fc3 = nn.Linear(84, 100)\n",
        "\n",
        "  def forward(self, x):\n",
        "    x = self.pool(torch.nn.functional.relu(self.conv1(x)))\n",
        "    x = self.pool(torch.nn.functional.relu(self.conv2(x)))\n",
        "    x = torch.flatten(x, 1)\n",
        "    x = torch.nn.functional.relu(self.fc1(x))\n",
        "    x = torch.nn.functional.relu(self.fc2(x))\n",
        "    x = self.fc3(x)\n",
        "    return x\n",
        "\n",
        "model = Classifier()\n",
        "model"
      ],
      "metadata": {
        "colab": {
          "base_uri": "https://localhost:8080/"
        },
        "id": "2Mzf11lSABXf",
        "outputId": "2313f3c7-5ebd-4b6a-e120-575326abd254"
      },
      "execution_count": null,
      "outputs": [
        {
          "output_type": "execute_result",
          "data": {
            "text/plain": [
              "Classifier(\n",
              "  (conv1): Conv2d(3, 6, kernel_size=(5, 5), stride=(1, 1))\n",
              "  (pool): MaxPool2d(kernel_size=2, stride=2, padding=0, dilation=1, ceil_mode=False)\n",
              "  (conv2): Conv2d(6, 16, kernel_size=(5, 5), stride=(1, 1))\n",
              "  (fc1): Linear(in_features=400, out_features=120, bias=True)\n",
              "  (fc2): Linear(in_features=120, out_features=84, bias=True)\n",
              "  (fc3): Linear(in_features=84, out_features=100, bias=True)\n",
              ")"
            ]
          },
          "metadata": {},
          "execution_count": 5
        }
      ]
    },
    {
      "cell_type": "code",
      "source": [
        "# Dataloaders\n",
        "train_loader = torch.utils.data.DataLoader(dataset = train_data,\n",
        "                                           batch_size = 32,\n",
        "                                           shuffle = True,\n",
        "                                           num_workers = os.cpu_count(),\n",
        "                                           pin_memory = True)\n",
        "\n",
        "test_loader = torch.utils.data.DataLoader(dataset = test_data,\n",
        "                                          batch_size = 32,\n",
        "                                          shuffle = False,\n",
        "                                          num_workers = os.cpu_count(),\n",
        "                                          pin_memory = True)\n",
        "\n",
        "# Loss function and optimizer\n",
        "criterion = nn.CrossEntropyLoss()\n",
        "optimizer = torch.optim.SGD(model.parameters(), lr=0.001, momentum=0.9)"
      ],
      "metadata": {
        "id": "PYOuE_ptAhmV"
      },
      "execution_count": null,
      "outputs": []
    },
    {
      "cell_type": "code",
      "source": [
        "# Trainig the model for 30 epochs\n",
        "results = model_ops.train(model = model,\n",
        "                          train_dataloader = train_loader,\n",
        "                          test_dataloader = test_loader,\n",
        "                          loss_function = criterion,\n",
        "                          optimizer = optimizer,\n",
        "                          metric = \"accuracy\",\n",
        "                          epochs = 30,\n",
        "                          device = device,\n",
        "                          verbose = 1)"
      ],
      "metadata": {
        "colab": {
          "base_uri": "https://localhost:8080/",
          "height": 49,
          "referenced_widgets": [
            "1c3a1e28cdbc4874af183a0d320e8fae",
            "2027e6302caf490f8e1db2314a3b4dc6",
            "a553f7e408e547969a20dd535d56bd4f",
            "15e6c5fa13ab4a9897eccd20c67e73b9",
            "79f3acaec5f64591b5c82adce67d8078",
            "85b4d8ddcba84bb0aa17e6133f223624",
            "24931fd7f7e84da5a004dacd5847e5d9",
            "4ddfa4ed89a7490c817f505cc384fc2d",
            "96f98fc3980a4fe58d9da24fbf1a1b97",
            "01cc092ab5d54bd89c11784fd16dab0d",
            "2011555c994f4a25a645d5b8b6232fcd"
          ]
        },
        "id": "8PhjIyOEBIfX",
        "outputId": "303c0353-739e-4ebb-b5b8-5ee63afbeea8"
      },
      "execution_count": null,
      "outputs": [
        {
          "output_type": "display_data",
          "data": {
            "text/plain": [
              "Training:   0%|          | 0/30 [00:00<?, ?it/s]"
            ],
            "application/vnd.jupyter.widget-view+json": {
              "version_major": 2,
              "version_minor": 0,
              "model_id": "1c3a1e28cdbc4874af183a0d320e8fae"
            }
          },
          "metadata": {}
        }
      ]
    },
    {
      "cell_type": "markdown",
      "source": [
        "## Some help from [Kaggle](https://www.kaggle.com/code/yiweiwangau/cifar-100-resnet-pytorch-75-17-accuracy)"
      ],
      "metadata": {
        "id": "JQ2OoUWSFH_0"
      }
    },
    {
      "cell_type": "code",
      "source": [
        "import pandas as pd\n",
        "import os\n",
        "import torch\n",
        "import time\n",
        "import torchvision\n",
        "import torch.nn as nn\n",
        "import numpy as np\n",
        "import torch.nn.functional as F\n",
        "from torchvision.datasets.utils import download_url\n",
        "from torchvision.datasets import ImageFolder\n",
        "from torch.utils.data import DataLoader\n",
        "import torchvision.transforms as tt\n",
        "from torch.utils.data import random_split\n",
        "from torchvision.utils import make_grid\n",
        "import torchvision.models as models\n",
        "import matplotlib.pyplot as plt\n",
        "from sklearn.metrics import *\n",
        "\n",
        "%matplotlib inline"
      ],
      "metadata": {
        "id": "6vMlebC4EciX"
      },
      "execution_count": 1,
      "outputs": []
    },
    {
      "cell_type": "code",
      "source": [
        "batch_size = 400\n",
        "epochs = 120\n",
        "max_lr = 0.001\n",
        "grad_clip = 0.01\n",
        "weight_decay =0.001\n",
        "opt_func = torch.optim.Adam"
      ],
      "metadata": {
        "id": "EK8WACkywYrl"
      },
      "execution_count": 2,
      "outputs": []
    },
    {
      "cell_type": "code",
      "source": [
        "train_data = torchvision.datasets.CIFAR100('./', train=True, download=True)\n",
        "\n",
        "# Stick all the images together to form a 1600000 X 32 X 3 array\n",
        "x = np.concatenate([np.asarray(train_data[i][0]) for i in range(len(train_data))])\n",
        "\n",
        "# calculate the mean and std along the (0, 1) axes\n",
        "mean = np.mean(x, axis=(0, 1))/255\n",
        "std = np.std(x, axis=(0, 1))/255\n",
        "# the the mean and std\n",
        "mean=mean.tolist()\n",
        "std=std.tolist()"
      ],
      "metadata": {
        "id": "w2FLsH2hwbFg",
        "outputId": "d28e351e-2996-4f01-d0bb-c5ea166bea8c",
        "colab": {
          "base_uri": "https://localhost:8080/"
        }
      },
      "execution_count": 3,
      "outputs": [
        {
          "output_type": "stream",
          "name": "stdout",
          "text": [
            "Downloading https://www.cs.toronto.edu/~kriz/cifar-100-python.tar.gz to ./cifar-100-python.tar.gz\n"
          ]
        },
        {
          "output_type": "stream",
          "name": "stderr",
          "text": [
            "100%|██████████| 169001437/169001437 [00:03<00:00, 51191427.98it/s]\n"
          ]
        },
        {
          "output_type": "stream",
          "name": "stdout",
          "text": [
            "Extracting ./cifar-100-python.tar.gz to ./\n"
          ]
        }
      ]
    },
    {
      "cell_type": "code",
      "source": [
        "transform_train = transforms.Compose([transforms.RandomCrop(32, padding=4,padding_mode='reflect'),\n",
        "                         transforms.RandomHorizontalFlip(),\n",
        "                         transforms.ToTensor(),\n",
        "                         transforms.Normalize(mean,std,inplace=True)])\n",
        "transform_test = transforms.Compose([transforms.ToTensor(), transforms.Normalize(mean,std)])"
      ],
      "metadata": {
        "id": "p3ERD9PGweuO"
      },
      "execution_count": 4,
      "outputs": []
    },
    {
      "cell_type": "code",
      "source": [
        "transform_train"
      ],
      "metadata": {
        "id": "ziD8DEx3Pdsv",
        "outputId": "12969c45-b941-4d60-ddbe-af873fd4560d",
        "colab": {
          "base_uri": "https://localhost:8080/"
        }
      },
      "execution_count": 5,
      "outputs": [
        {
          "output_type": "execute_result",
          "data": {
            "text/plain": [
              "Compose(\n",
              "    RandomCrop(size=(32, 32), padding=4)\n",
              "    RandomHorizontalFlip(p=0.5)\n",
              "    ToTensor()\n",
              "    Normalize(mean=[0.5070751592371323, 0.48654887331495095, 0.4409178433670343], std=[0.26733428587941854, 0.25643846292120615, 0.2761504713263903])\n",
              ")"
            ]
          },
          "metadata": {},
          "execution_count": 5
        }
      ]
    },
    {
      "cell_type": "code",
      "source": [
        "trainset = torchvision.datasets.CIFAR100(\"./\",\n",
        "                                         train=True,\n",
        "                                         download=True,\n",
        "                                         transform=transform_train)\n",
        "trainloader = torch.utils.data.DataLoader(\n",
        "    trainset, batch_size, shuffle=True, num_workers=2,pin_memory=True)\n",
        "\n",
        "testset = torchvision.datasets.CIFAR100(\"./\",\n",
        "                                        train=False,\n",
        "                                        download=True,\n",
        "                                        transform=transform_test)\n",
        "testloader = torch.utils.data.DataLoader(\n",
        "    testset, batch_size*2,pin_memory=True, num_workers=2)"
      ],
      "metadata": {
        "id": "XNjKwj2ZwhEG",
        "outputId": "5c20fdac-412f-47ca-e480-b17dd190be2d",
        "colab": {
          "base_uri": "https://localhost:8080/"
        }
      },
      "execution_count": 6,
      "outputs": [
        {
          "output_type": "stream",
          "name": "stdout",
          "text": [
            "Files already downloaded and verified\n",
            "Files already downloaded and verified\n"
          ]
        }
      ]
    },
    {
      "cell_type": "code",
      "source": [
        "def get_default_device():\n",
        "    \"\"\"Pick GPU if available, else CPU\"\"\"\n",
        "    if torch.cuda.is_available():\n",
        "        return torch.device('cuda')\n",
        "    else:\n",
        "        return torch.device('cpu')\n",
        "\n",
        "def to_device(data, device):\n",
        "    \"\"\"Move tensor(s) to chosen device\"\"\"\n",
        "    if isinstance(data, (list,tuple)):\n",
        "        return [to_device(x, device) for x in data]\n",
        "    return data.to(device, non_blocking=True)\n",
        "\n",
        "class DeviceDataLoader():\n",
        "    \"\"\"Wrap a dataloader to move data to a device\"\"\"\n",
        "    def __init__(self, dl, device):\n",
        "        self.dl = dl\n",
        "        self.device = device\n",
        "\n",
        "    def __iter__(self):\n",
        "        \"\"\"Yield a batch of data after moving it to device\"\"\"\n",
        "        for b in self.dl:\n",
        "            yield to_device(b, self.device)\n",
        "\n",
        "    def __len__(self):\n",
        "        \"\"\"Number of batches\"\"\"\n",
        "        return len(self.dl)"
      ],
      "metadata": {
        "id": "aNi_Lhr1wjDi"
      },
      "execution_count": 7,
      "outputs": []
    },
    {
      "cell_type": "code",
      "source": [
        "device = get_default_device()\n",
        "device"
      ],
      "metadata": {
        "id": "slG3JO-jwmv2",
        "outputId": "bddf79ee-2db4-438e-f8e0-64c8c1761020",
        "colab": {
          "base_uri": "https://localhost:8080/"
        }
      },
      "execution_count": 8,
      "outputs": [
        {
          "output_type": "execute_result",
          "data": {
            "text/plain": [
              "device(type='cuda')"
            ]
          },
          "metadata": {},
          "execution_count": 8
        }
      ]
    },
    {
      "cell_type": "code",
      "source": [
        "trainloader = DeviceDataLoader(trainloader, device)\n",
        "testloader = DeviceDataLoader(testloader, device)"
      ],
      "metadata": {
        "id": "_oYiLS0ywo4O"
      },
      "execution_count": 9,
      "outputs": []
    },
    {
      "cell_type": "code",
      "source": [
        "def accuracy(outputs, labels):\n",
        "    _, preds = torch.max(outputs, dim=1)\n",
        "    return torch.tensor(torch.sum(preds == labels).item() / len(preds))\n",
        "\n",
        "class ImageClassificationBase(nn.Module):\n",
        "    def training_step(self, batch):\n",
        "        images, labels = batch\n",
        "        out = self(images)                  # Generate predictions\n",
        "        loss = F.cross_entropy(out, labels) # Calculate loss\n",
        "        return loss\n",
        "\n",
        "    def validation_step(self, batch):\n",
        "        images, labels = batch\n",
        "        out = self(images)                    # Generate predictions\n",
        "        loss = F.cross_entropy(out, labels)   # Calculate loss\n",
        "        acc = accuracy(out, labels)           # Calculate accuracy\n",
        "        return {'val_loss': loss.detach(), 'val_acc': acc}\n",
        "\n",
        "    def validation_epoch_end(self, outputs):\n",
        "        batch_losses = [x['val_loss'] for x in outputs]\n",
        "        epoch_loss = torch.stack(batch_losses).mean()   # Combine losses\n",
        "        batch_accs = [x['val_acc'] for x in outputs]\n",
        "        epoch_acc = torch.stack(batch_accs).mean()      # Combine accuracies\n",
        "        return {'val_loss': epoch_loss.item(), 'val_acc': epoch_acc.item()}\n",
        "\n",
        "    def epoch_end(self, epoch, result):\n",
        "        print(\"Epoch [{}], last_lr: {:.5f}, train_loss: {:.4f}, val_loss: {:.4f}, val_acc: {:.4f}\".format(\n",
        "            epoch, result['lrs'][-1], result['train_loss'], result['val_loss'], result['val_acc']))\n",
        "\n",
        "def conv_block(in_channels, out_channels, pool=False):\n",
        "    layers = [nn.Conv2d(in_channels, out_channels, kernel_size=3, padding=1),\n",
        "              nn.BatchNorm2d(out_channels),\n",
        "              nn.ReLU(inplace=True)]\n",
        "    if pool: layers.append(nn.MaxPool2d(2))\n",
        "    return nn.Sequential(*layers)\n",
        "\n",
        "class ResNet9(ImageClassificationBase):\n",
        "    def __init__(self, in_channels, num_classes):\n",
        "        super().__init__()\n",
        "\n",
        "        self.conv1 = conv_block(in_channels, 64)\n",
        "        self.conv2 = conv_block(64, 128, pool=True)\n",
        "        self.res1 = nn.Sequential(conv_block(128, 128), conv_block(128, 128))\n",
        "\n",
        "        self.conv3 = conv_block(128, 256, pool=True)\n",
        "        self.conv4 = conv_block(256, 512, pool=True)\n",
        "        self.res2 = nn.Sequential(conv_block(512, 512), conv_block(512, 512))\n",
        "        self.conv5 = conv_block(512, 1028, pool=True)\n",
        "        self.res3 = nn.Sequential(conv_block(1028, 1028), conv_block(1028, 1028))\n",
        "\n",
        "        self.classifier = nn.Sequential(nn.MaxPool2d(2), # 1028 x 1 x 1\n",
        "                                        nn.Flatten(), # 1028\n",
        "                                        nn.Linear(1028, num_classes)) # 1028 -> 100\n",
        "\n",
        "    def forward(self, xb):\n",
        "        out = self.conv1(xb)\n",
        "        out = self.conv2(out)\n",
        "        out = self.res1(out) + out\n",
        "        out = self.conv3(out)\n",
        "        out = self.conv4(out)\n",
        "        out = self.res2(out) + out\n",
        "        out = self.conv5(out)\n",
        "        out = self.res3(out) + out\n",
        "        out = self.classifier(out)\n",
        "        return out\n",
        "\n",
        "model = to_device(ResNet9(3, 100), device)\n",
        "model"
      ],
      "metadata": {
        "id": "FBORROxywrTq",
        "outputId": "d3eb0b91-a72c-40c2-cd19-e9c7c241c67b",
        "colab": {
          "base_uri": "https://localhost:8080/"
        }
      },
      "execution_count": 10,
      "outputs": [
        {
          "output_type": "execute_result",
          "data": {
            "text/plain": [
              "ResNet9(\n",
              "  (conv1): Sequential(\n",
              "    (0): Conv2d(3, 64, kernel_size=(3, 3), stride=(1, 1), padding=(1, 1))\n",
              "    (1): BatchNorm2d(64, eps=1e-05, momentum=0.1, affine=True, track_running_stats=True)\n",
              "    (2): ReLU(inplace=True)\n",
              "  )\n",
              "  (conv2): Sequential(\n",
              "    (0): Conv2d(64, 128, kernel_size=(3, 3), stride=(1, 1), padding=(1, 1))\n",
              "    (1): BatchNorm2d(128, eps=1e-05, momentum=0.1, affine=True, track_running_stats=True)\n",
              "    (2): ReLU(inplace=True)\n",
              "    (3): MaxPool2d(kernel_size=2, stride=2, padding=0, dilation=1, ceil_mode=False)\n",
              "  )\n",
              "  (res1): Sequential(\n",
              "    (0): Sequential(\n",
              "      (0): Conv2d(128, 128, kernel_size=(3, 3), stride=(1, 1), padding=(1, 1))\n",
              "      (1): BatchNorm2d(128, eps=1e-05, momentum=0.1, affine=True, track_running_stats=True)\n",
              "      (2): ReLU(inplace=True)\n",
              "    )\n",
              "    (1): Sequential(\n",
              "      (0): Conv2d(128, 128, kernel_size=(3, 3), stride=(1, 1), padding=(1, 1))\n",
              "      (1): BatchNorm2d(128, eps=1e-05, momentum=0.1, affine=True, track_running_stats=True)\n",
              "      (2): ReLU(inplace=True)\n",
              "    )\n",
              "  )\n",
              "  (conv3): Sequential(\n",
              "    (0): Conv2d(128, 256, kernel_size=(3, 3), stride=(1, 1), padding=(1, 1))\n",
              "    (1): BatchNorm2d(256, eps=1e-05, momentum=0.1, affine=True, track_running_stats=True)\n",
              "    (2): ReLU(inplace=True)\n",
              "    (3): MaxPool2d(kernel_size=2, stride=2, padding=0, dilation=1, ceil_mode=False)\n",
              "  )\n",
              "  (conv4): Sequential(\n",
              "    (0): Conv2d(256, 512, kernel_size=(3, 3), stride=(1, 1), padding=(1, 1))\n",
              "    (1): BatchNorm2d(512, eps=1e-05, momentum=0.1, affine=True, track_running_stats=True)\n",
              "    (2): ReLU(inplace=True)\n",
              "    (3): MaxPool2d(kernel_size=2, stride=2, padding=0, dilation=1, ceil_mode=False)\n",
              "  )\n",
              "  (res2): Sequential(\n",
              "    (0): Sequential(\n",
              "      (0): Conv2d(512, 512, kernel_size=(3, 3), stride=(1, 1), padding=(1, 1))\n",
              "      (1): BatchNorm2d(512, eps=1e-05, momentum=0.1, affine=True, track_running_stats=True)\n",
              "      (2): ReLU(inplace=True)\n",
              "    )\n",
              "    (1): Sequential(\n",
              "      (0): Conv2d(512, 512, kernel_size=(3, 3), stride=(1, 1), padding=(1, 1))\n",
              "      (1): BatchNorm2d(512, eps=1e-05, momentum=0.1, affine=True, track_running_stats=True)\n",
              "      (2): ReLU(inplace=True)\n",
              "    )\n",
              "  )\n",
              "  (conv5): Sequential(\n",
              "    (0): Conv2d(512, 1028, kernel_size=(3, 3), stride=(1, 1), padding=(1, 1))\n",
              "    (1): BatchNorm2d(1028, eps=1e-05, momentum=0.1, affine=True, track_running_stats=True)\n",
              "    (2): ReLU(inplace=True)\n",
              "    (3): MaxPool2d(kernel_size=2, stride=2, padding=0, dilation=1, ceil_mode=False)\n",
              "  )\n",
              "  (res3): Sequential(\n",
              "    (0): Sequential(\n",
              "      (0): Conv2d(1028, 1028, kernel_size=(3, 3), stride=(1, 1), padding=(1, 1))\n",
              "      (1): BatchNorm2d(1028, eps=1e-05, momentum=0.1, affine=True, track_running_stats=True)\n",
              "      (2): ReLU(inplace=True)\n",
              "    )\n",
              "    (1): Sequential(\n",
              "      (0): Conv2d(1028, 1028, kernel_size=(3, 3), stride=(1, 1), padding=(1, 1))\n",
              "      (1): BatchNorm2d(1028, eps=1e-05, momentum=0.1, affine=True, track_running_stats=True)\n",
              "      (2): ReLU(inplace=True)\n",
              "    )\n",
              "  )\n",
              "  (classifier): Sequential(\n",
              "    (0): MaxPool2d(kernel_size=2, stride=2, padding=0, dilation=1, ceil_mode=False)\n",
              "    (1): Flatten(start_dim=1, end_dim=-1)\n",
              "    (2): Linear(in_features=1028, out_features=100, bias=True)\n",
              "  )\n",
              ")"
            ]
          },
          "metadata": {},
          "execution_count": 10
        }
      ]
    },
    {
      "cell_type": "code",
      "source": [
        "@torch.no_grad()\n",
        "def evaluate(model, test_loader):\n",
        "    model.eval()\n",
        "    outputs = [model.validation_step(batch) for batch in test_loader]\n",
        "    return model.validation_epoch_end(outputs)\n",
        "\n",
        "def get_lr(optimizer):\n",
        "    for param_group in optimizer.param_groups:\n",
        "        return param_group['lr']\n",
        "\n",
        "def fit_one_cycle(epochs, max_lr, model, train_loader, test_loader,\n",
        "                  weight_decay=0, grad_clip=None, opt_func=torch.optim.SGD):\n",
        "    torch.cuda.empty_cache()\n",
        "    history = []\n",
        "\n",
        "    # Set up cutom optimizer with weight decay\n",
        "    optimizer = opt_func(model.parameters(), max_lr, weight_decay=weight_decay)\n",
        "    # Set up one-cycle learning rate scheduler\n",
        "    sched = torch.optim.lr_scheduler.OneCycleLR(optimizer, max_lr, epochs=epochs,\n",
        "                                                steps_per_epoch=len(train_loader))\n",
        "\n",
        "    for epoch in range(epochs):\n",
        "        # Training Phase\n",
        "        model.train()\n",
        "        train_losses = []\n",
        "        lrs = []\n",
        "        for batch in train_loader:\n",
        "            loss = model.training_step(batch)\n",
        "            train_losses.append(loss)\n",
        "            loss.backward()\n",
        "\n",
        "            # Gradient clipping\n",
        "            if grad_clip:\n",
        "                nn.utils.clip_grad_value_(model.parameters(), grad_clip)\n",
        "\n",
        "            optimizer.step()\n",
        "            optimizer.zero_grad()\n",
        "\n",
        "            # Record & update learning rate\n",
        "            lrs.append(get_lr(optimizer))\n",
        "            sched.step()\n",
        "\n",
        "        # Validation phase\n",
        "        result = evaluate(model, test_loader)\n",
        "        result['train_loss'] = torch.stack(train_losses).mean().item()\n",
        "        result['lrs'] = lrs\n",
        "        model.epoch_end(epoch, result)\n",
        "        history.append(result)\n",
        "    return history"
      ],
      "metadata": {
        "id": "7XLZO5GawuC0"
      },
      "execution_count": 11,
      "outputs": []
    },
    {
      "cell_type": "code",
      "source": [
        "history = [evaluate(model, testloader)]\n",
        "history"
      ],
      "metadata": {
        "id": "k5VGGisUwxTO",
        "outputId": "20b6eea4-2dc3-4c4a-f6df-209f767b7974",
        "colab": {
          "base_uri": "https://localhost:8080/"
        }
      },
      "execution_count": 12,
      "outputs": [
        {
          "output_type": "execute_result",
          "data": {
            "text/plain": [
              "[{'val_loss': 4.605301856994629, 'val_acc': 0.011538461782038212}]"
            ]
          },
          "metadata": {},
          "execution_count": 12
        }
      ]
    },
    {
      "cell_type": "code",
      "source": [
        "# Fitting the first 1/4 epochs\n",
        "current_time=time.time()\n",
        "history += fit_one_cycle(int(epochs/4), max_lr, model, trainloader, testloader,\n",
        "                             grad_clip=grad_clip,\n",
        "                             weight_decay=weight_decay,\n",
        "                             opt_func=opt_func)"
      ],
      "metadata": {
        "id": "pEpgpiKtwzmC",
        "outputId": "45d6cffb-2ec4-4c18-ed66-80613334f405",
        "colab": {
          "base_uri": "https://localhost:8080/"
        }
      },
      "execution_count": 13,
      "outputs": [
        {
          "output_type": "stream",
          "name": "stdout",
          "text": [
            "Epoch [0], last_lr: 0.00007, train_loss: 3.6513, val_loss: 3.1461, val_acc: 0.2427\n",
            "Epoch [1], last_lr: 0.00015, train_loss: 2.9018, val_loss: 2.7156, val_acc: 0.3121\n",
            "Epoch [2], last_lr: 0.00028, train_loss: 2.5467, val_loss: 2.4561, val_acc: 0.3686\n",
            "Epoch [3], last_lr: 0.00044, train_loss: 2.2987, val_loss: 2.3026, val_acc: 0.3966\n",
            "Epoch [4], last_lr: 0.00060, train_loss: 2.0889, val_loss: 2.3597, val_acc: 0.3980\n",
            "Epoch [5], last_lr: 0.00076, train_loss: 1.9265, val_loss: 2.1510, val_acc: 0.4429\n",
            "Epoch [6], last_lr: 0.00089, train_loss: 1.7654, val_loss: 2.0238, val_acc: 0.4571\n",
            "Epoch [7], last_lr: 0.00097, train_loss: 1.6253, val_loss: 2.1390, val_acc: 0.4482\n",
            "Epoch [8], last_lr: 0.00100, train_loss: 1.5029, val_loss: 2.1226, val_acc: 0.4655\n",
            "Epoch [9], last_lr: 0.00099, train_loss: 1.3779, val_loss: 1.8321, val_acc: 0.5205\n",
            "Epoch [10], last_lr: 0.00098, train_loss: 1.2787, val_loss: 1.7083, val_acc: 0.5376\n",
            "Epoch [11], last_lr: 0.00095, train_loss: 1.1977, val_loss: 1.8272, val_acc: 0.5246\n",
            "Epoch [12], last_lr: 0.00091, train_loss: 1.1053, val_loss: 1.7049, val_acc: 0.5431\n",
            "Epoch [13], last_lr: 0.00087, train_loss: 1.0420, val_loss: 1.5867, val_acc: 0.5679\n",
            "Epoch [14], last_lr: 0.00081, train_loss: 0.9616, val_loss: 1.7982, val_acc: 0.5468\n",
            "Epoch [15], last_lr: 0.00075, train_loss: 0.8952, val_loss: 1.5047, val_acc: 0.5868\n",
            "Epoch [16], last_lr: 0.00068, train_loss: 0.8307, val_loss: 1.3663, val_acc: 0.6195\n",
            "Epoch [17], last_lr: 0.00061, train_loss: 0.7526, val_loss: 1.4659, val_acc: 0.5989\n",
            "Epoch [18], last_lr: 0.00054, train_loss: 0.6673, val_loss: 1.3099, val_acc: 0.6394\n",
            "Epoch [19], last_lr: 0.00046, train_loss: 0.5843, val_loss: 1.2190, val_acc: 0.6609\n",
            "Epoch [20], last_lr: 0.00039, train_loss: 0.5018, val_loss: 1.2597, val_acc: 0.6568\n",
            "Epoch [21], last_lr: 0.00032, train_loss: 0.4135, val_loss: 1.1506, val_acc: 0.6839\n",
            "Epoch [22], last_lr: 0.00025, train_loss: 0.3236, val_loss: 1.1246, val_acc: 0.6940\n",
            "Epoch [23], last_lr: 0.00019, train_loss: 0.2434, val_loss: 1.0606, val_acc: 0.7119\n",
            "Epoch [24], last_lr: 0.00013, train_loss: 0.1659, val_loss: 1.0053, val_acc: 0.7306\n",
            "Epoch [25], last_lr: 0.00009, train_loss: 0.1179, val_loss: 0.9967, val_acc: 0.7344\n",
            "Epoch [26], last_lr: 0.00005, train_loss: 0.0818, val_loss: 0.9765, val_acc: 0.7403\n",
            "Epoch [27], last_lr: 0.00002, train_loss: 0.0607, val_loss: 0.9713, val_acc: 0.7457\n",
            "Epoch [28], last_lr: 0.00001, train_loss: 0.0508, val_loss: 0.9723, val_acc: 0.7479\n",
            "Epoch [29], last_lr: 0.00000, train_loss: 0.0473, val_loss: 0.9722, val_acc: 0.7478\n"
          ]
        }
      ]
    },
    {
      "cell_type": "code",
      "source": [
        "# Fitting the second 1/4 epochs\n",
        "history += fit_one_cycle(int(epochs/4), max_lr/10, model, trainloader, testloader,\n",
        "                             grad_clip=grad_clip,\n",
        "                             weight_decay=weight_decay,\n",
        "                             opt_func=opt_func)"
      ],
      "metadata": {
        "id": "IzJd4pARaB9_",
        "outputId": "e205346d-b078-4b19-b1bb-c3be73f89372",
        "colab": {
          "base_uri": "https://localhost:8080/"
        }
      },
      "execution_count": 14,
      "outputs": [
        {
          "output_type": "stream",
          "name": "stdout",
          "text": [
            "Epoch [0], last_lr: 0.00001, train_loss: 0.0467, val_loss: 0.9763, val_acc: 0.7474\n",
            "Epoch [1], last_lr: 0.00002, train_loss: 0.0451, val_loss: 0.9837, val_acc: 0.7451\n",
            "Epoch [2], last_lr: 0.00003, train_loss: 0.0450, val_loss: 1.0001, val_acc: 0.7432\n",
            "Epoch [3], last_lr: 0.00004, train_loss: 0.0478, val_loss: 1.0380, val_acc: 0.7373\n",
            "Epoch [4], last_lr: 0.00006, train_loss: 0.0533, val_loss: 1.0626, val_acc: 0.7308\n",
            "Epoch [5], last_lr: 0.00008, train_loss: 0.0681, val_loss: 1.1148, val_acc: 0.7227\n",
            "Epoch [6], last_lr: 0.00009, train_loss: 0.0797, val_loss: 1.1435, val_acc: 0.7120\n",
            "Epoch [7], last_lr: 0.00010, train_loss: 0.0956, val_loss: 1.1939, val_acc: 0.7067\n",
            "Epoch [8], last_lr: 0.00010, train_loss: 0.1013, val_loss: 1.2415, val_acc: 0.6979\n",
            "Epoch [9], last_lr: 0.00010, train_loss: 0.0905, val_loss: 1.1495, val_acc: 0.7122\n",
            "Epoch [10], last_lr: 0.00010, train_loss: 0.0841, val_loss: 1.1911, val_acc: 0.7068\n",
            "Epoch [11], last_lr: 0.00010, train_loss: 0.0777, val_loss: 1.1823, val_acc: 0.7113\n",
            "Epoch [12], last_lr: 0.00009, train_loss: 0.0647, val_loss: 1.1722, val_acc: 0.7109\n",
            "Epoch [13], last_lr: 0.00009, train_loss: 0.0567, val_loss: 1.1285, val_acc: 0.7212\n",
            "Epoch [14], last_lr: 0.00008, train_loss: 0.0480, val_loss: 1.1242, val_acc: 0.7274\n",
            "Epoch [15], last_lr: 0.00008, train_loss: 0.0436, val_loss: 1.1453, val_acc: 0.7234\n",
            "Epoch [16], last_lr: 0.00007, train_loss: 0.0380, val_loss: 1.1126, val_acc: 0.7285\n",
            "Epoch [17], last_lr: 0.00006, train_loss: 0.0303, val_loss: 1.1110, val_acc: 0.7336\n",
            "Epoch [18], last_lr: 0.00005, train_loss: 0.0253, val_loss: 1.1014, val_acc: 0.7342\n",
            "Epoch [19], last_lr: 0.00005, train_loss: 0.0225, val_loss: 1.0726, val_acc: 0.7418\n",
            "Epoch [20], last_lr: 0.00004, train_loss: 0.0185, val_loss: 1.0688, val_acc: 0.7417\n",
            "Epoch [21], last_lr: 0.00003, train_loss: 0.0156, val_loss: 1.0621, val_acc: 0.7438\n",
            "Epoch [22], last_lr: 0.00003, train_loss: 0.0126, val_loss: 1.0519, val_acc: 0.7488\n",
            "Epoch [23], last_lr: 0.00002, train_loss: 0.0117, val_loss: 1.0468, val_acc: 0.7494\n",
            "Epoch [24], last_lr: 0.00001, train_loss: 0.0107, val_loss: 1.0420, val_acc: 0.7485\n",
            "Epoch [25], last_lr: 0.00001, train_loss: 0.0095, val_loss: 1.0409, val_acc: 0.7517\n",
            "Epoch [26], last_lr: 0.00000, train_loss: 0.0089, val_loss: 1.0395, val_acc: 0.7504\n",
            "Epoch [27], last_lr: 0.00000, train_loss: 0.0086, val_loss: 1.0373, val_acc: 0.7507\n",
            "Epoch [28], last_lr: 0.00000, train_loss: 0.0085, val_loss: 1.0345, val_acc: 0.7520\n",
            "Epoch [29], last_lr: 0.00000, train_loss: 0.0083, val_loss: 1.0351, val_acc: 0.7513\n"
          ]
        }
      ]
    },
    {
      "cell_type": "code",
      "source": [
        "history += fit_one_cycle(int(epochs/8), max_lr/100, model, trainloader, testloader,\n",
        "                             grad_clip=grad_clip,\n",
        "                             weight_decay=weight_decay,\n",
        "                             opt_func=opt_func)"
      ],
      "metadata": {
        "id": "UusMW8mzz0-U",
        "outputId": "1d36c361-7c60-402e-e9c6-f7250fb77722",
        "colab": {
          "base_uri": "https://localhost:8080/"
        }
      },
      "execution_count": 15,
      "outputs": [
        {
          "output_type": "stream",
          "name": "stdout",
          "text": [
            "Epoch [0], last_lr: 0.00000, train_loss: 0.0084, val_loss: 1.0343, val_acc: 0.7514\n",
            "Epoch [1], last_lr: 0.00000, train_loss: 0.0079, val_loss: 1.0357, val_acc: 0.7512\n",
            "Epoch [2], last_lr: 0.00001, train_loss: 0.0089, val_loss: 1.0417, val_acc: 0.7507\n",
            "Epoch [3], last_lr: 0.00001, train_loss: 0.0087, val_loss: 1.0361, val_acc: 0.7482\n",
            "Epoch [4], last_lr: 0.00001, train_loss: 0.0086, val_loss: 1.0428, val_acc: 0.7481\n",
            "Epoch [5], last_lr: 0.00001, train_loss: 0.0099, val_loss: 1.0433, val_acc: 0.7486\n",
            "Epoch [6], last_lr: 0.00001, train_loss: 0.0091, val_loss: 1.0409, val_acc: 0.7495\n",
            "Epoch [7], last_lr: 0.00001, train_loss: 0.0086, val_loss: 1.0385, val_acc: 0.7506\n",
            "Epoch [8], last_lr: 0.00001, train_loss: 0.0083, val_loss: 1.0283, val_acc: 0.7511\n",
            "Epoch [9], last_lr: 0.00000, train_loss: 0.0081, val_loss: 1.0290, val_acc: 0.7516\n",
            "Epoch [10], last_lr: 0.00000, train_loss: 0.0078, val_loss: 1.0256, val_acc: 0.7517\n",
            "Epoch [11], last_lr: 0.00000, train_loss: 0.0073, val_loss: 1.0261, val_acc: 0.7535\n",
            "Epoch [12], last_lr: 0.00000, train_loss: 0.0072, val_loss: 1.0243, val_acc: 0.7544\n",
            "Epoch [13], last_lr: 0.00000, train_loss: 0.0072, val_loss: 1.0244, val_acc: 0.7538\n",
            "Epoch [14], last_lr: 0.00000, train_loss: 0.0069, val_loss: 1.0240, val_acc: 0.7533\n"
          ]
        }
      ]
    },
    {
      "cell_type": "code",
      "source": [
        "history += fit_one_cycle(int(epochs/8), max_lr/1000, model, trainloader, testloader,\n",
        "                             grad_clip=grad_clip,\n",
        "                             weight_decay=weight_decay,\n",
        "                             opt_func=opt_func)"
      ],
      "metadata": {
        "id": "solIBWlZb4fW",
        "outputId": "ec27ca9c-829b-4705-ef32-9b7c90bd52cf",
        "colab": {
          "base_uri": "https://localhost:8080/"
        }
      },
      "execution_count": 16,
      "outputs": [
        {
          "output_type": "stream",
          "name": "stdout",
          "text": [
            "Epoch [0], last_lr: 0.00000, train_loss: 0.0069, val_loss: 1.0237, val_acc: 0.7537\n",
            "Epoch [1], last_lr: 0.00000, train_loss: 0.0068, val_loss: 1.0246, val_acc: 0.7531\n",
            "Epoch [2], last_lr: 0.00000, train_loss: 0.0073, val_loss: 1.0251, val_acc: 0.7526\n",
            "Epoch [3], last_lr: 0.00000, train_loss: 0.0072, val_loss: 1.0244, val_acc: 0.7531\n",
            "Epoch [4], last_lr: 0.00000, train_loss: 0.0072, val_loss: 1.0224, val_acc: 0.7533\n",
            "Epoch [5], last_lr: 0.00000, train_loss: 0.0069, val_loss: 1.0208, val_acc: 0.7537\n",
            "Epoch [6], last_lr: 0.00000, train_loss: 0.0066, val_loss: 1.0231, val_acc: 0.7532\n",
            "Epoch [7], last_lr: 0.00000, train_loss: 0.0070, val_loss: 1.0248, val_acc: 0.7518\n",
            "Epoch [8], last_lr: 0.00000, train_loss: 0.0070, val_loss: 1.0235, val_acc: 0.7528\n",
            "Epoch [9], last_lr: 0.00000, train_loss: 0.0067, val_loss: 1.0211, val_acc: 0.7515\n",
            "Epoch [10], last_lr: 0.00000, train_loss: 0.0066, val_loss: 1.0226, val_acc: 0.7526\n",
            "Epoch [11], last_lr: 0.00000, train_loss: 0.0067, val_loss: 1.0238, val_acc: 0.7524\n",
            "Epoch [12], last_lr: 0.00000, train_loss: 0.0066, val_loss: 1.0218, val_acc: 0.7527\n",
            "Epoch [13], last_lr: 0.00000, train_loss: 0.0067, val_loss: 1.0226, val_acc: 0.7526\n",
            "Epoch [14], last_lr: 0.00000, train_loss: 0.0065, val_loss: 1.0223, val_acc: 0.7522\n"
          ]
        }
      ]
    },
    {
      "cell_type": "code",
      "source": [
        "history += fit_one_cycle(int(epochs/4), max_lr/100, model, trainloader, testloader,\n",
        "                             grad_clip=grad_clip,\n",
        "                             weight_decay=weight_decay,\n",
        "                             opt_func=opt_func)\n",
        "# Print training time\n",
        "print('Training time: {:.2f} s'.format(time.time() - current_time))"
      ],
      "metadata": {
        "id": "ZuMsgtQ6caDg",
        "outputId": "449fa73e-7c00-478c-c519-161a3816c13b",
        "colab": {
          "base_uri": "https://localhost:8080/"
        }
      },
      "execution_count": 17,
      "outputs": [
        {
          "output_type": "stream",
          "name": "stdout",
          "text": [
            "Epoch [0], last_lr: 0.00000, train_loss: 0.0067, val_loss: 1.0221, val_acc: 0.7513\n",
            "Epoch [1], last_lr: 0.00000, train_loss: 0.0066, val_loss: 1.0218, val_acc: 0.7533\n",
            "Epoch [2], last_lr: 0.00000, train_loss: 0.0065, val_loss: 1.0230, val_acc: 0.7527\n",
            "Epoch [3], last_lr: 0.00000, train_loss: 0.0069, val_loss: 1.0220, val_acc: 0.7531\n",
            "Epoch [4], last_lr: 0.00001, train_loss: 0.0074, val_loss: 1.0230, val_acc: 0.7526\n",
            "Epoch [5], last_lr: 0.00001, train_loss: 0.0078, val_loss: 1.0263, val_acc: 0.7518\n",
            "Epoch [6], last_lr: 0.00001, train_loss: 0.0080, val_loss: 1.0271, val_acc: 0.7526\n",
            "Epoch [7], last_lr: 0.00001, train_loss: 0.0082, val_loss: 1.0333, val_acc: 0.7513\n",
            "Epoch [8], last_lr: 0.00001, train_loss: 0.0088, val_loss: 1.0280, val_acc: 0.7522\n",
            "Epoch [9], last_lr: 0.00001, train_loss: 0.0088, val_loss: 1.0256, val_acc: 0.7480\n",
            "Epoch [10], last_lr: 0.00001, train_loss: 0.0090, val_loss: 1.0204, val_acc: 0.7516\n",
            "Epoch [11], last_lr: 0.00001, train_loss: 0.0093, val_loss: 1.0212, val_acc: 0.7503\n",
            "Epoch [12], last_lr: 0.00001, train_loss: 0.0090, val_loss: 1.0178, val_acc: 0.7512\n",
            "Epoch [13], last_lr: 0.00001, train_loss: 0.0087, val_loss: 1.0155, val_acc: 0.7513\n",
            "Epoch [14], last_lr: 0.00001, train_loss: 0.0083, val_loss: 1.0183, val_acc: 0.7507\n",
            "Epoch [15], last_lr: 0.00001, train_loss: 0.0084, val_loss: 1.0178, val_acc: 0.7510\n",
            "Epoch [16], last_lr: 0.00001, train_loss: 0.0080, val_loss: 1.0162, val_acc: 0.7523\n",
            "Epoch [17], last_lr: 0.00001, train_loss: 0.0078, val_loss: 1.0186, val_acc: 0.7501\n",
            "Epoch [18], last_lr: 0.00001, train_loss: 0.0081, val_loss: 1.0155, val_acc: 0.7514\n",
            "Epoch [19], last_lr: 0.00000, train_loss: 0.0075, val_loss: 1.0139, val_acc: 0.7513\n",
            "Epoch [20], last_lr: 0.00000, train_loss: 0.0073, val_loss: 1.0111, val_acc: 0.7521\n",
            "Epoch [21], last_lr: 0.00000, train_loss: 0.0071, val_loss: 1.0109, val_acc: 0.7508\n",
            "Epoch [22], last_lr: 0.00000, train_loss: 0.0069, val_loss: 1.0098, val_acc: 0.7542\n",
            "Epoch [23], last_lr: 0.00000, train_loss: 0.0064, val_loss: 1.0114, val_acc: 0.7542\n",
            "Epoch [24], last_lr: 0.00000, train_loss: 0.0065, val_loss: 1.0102, val_acc: 0.7539\n",
            "Epoch [25], last_lr: 0.00000, train_loss: 0.0065, val_loss: 1.0107, val_acc: 0.7537\n",
            "Epoch [26], last_lr: 0.00000, train_loss: 0.0063, val_loss: 1.0078, val_acc: 0.7528\n",
            "Epoch [27], last_lr: 0.00000, train_loss: 0.0065, val_loss: 1.0080, val_acc: 0.7533\n",
            "Epoch [28], last_lr: 0.00000, train_loss: 0.0064, val_loss: 1.0090, val_acc: 0.7543\n",
            "Epoch [29], last_lr: 0.00000, train_loss: 0.0065, val_loss: 1.0083, val_acc: 0.7542\n",
            "Training time: 3707.43 s\n"
          ]
        }
      ]
    },
    {
      "cell_type": "code",
      "source": [
        "current_time = time.time()\n",
        "result = evaluate(model, testloader)\n",
        "result\n",
        "print('Training time: {:.2f} s'.format(time.time() - current_time))"
      ],
      "metadata": {
        "id": "bpzd3P7a2arP",
        "outputId": "53914923-cd45-4566-eb3a-1b8b494ce832",
        "colab": {
          "base_uri": "https://localhost:8080/"
        }
      },
      "execution_count": 18,
      "outputs": [
        {
          "output_type": "stream",
          "name": "stdout",
          "text": [
            "Training time: 2.68 s\n"
          ]
        }
      ]
    },
    {
      "cell_type": "code",
      "source": [
        "# Generate testing accuracy, predicted label, confusion matrix, and table for classification report\n",
        "def test_label_predictions(model, device, test_loader):\n",
        "    model.eval()\n",
        "    actuals = []\n",
        "    predictions = []\n",
        "    with torch.no_grad():\n",
        "        for data, target in test_loader:\n",
        "            data, target = data.to(device), target.to(device)\n",
        "            output = model(data)\n",
        "            prediction = output.argmax(dim=1, keepdim=True)\n",
        "            actuals.extend(target.view_as(prediction))\n",
        "            predictions.extend(prediction)\n",
        "    return [i.item() for i in actuals], [i.item() for i in predictions]\n",
        "\n",
        "y_test, y_pred = test_label_predictions(model, device, testloader)\n",
        "cm=confusion_matrix(y_test, y_pred)\n",
        "cr=classification_report(y_test, y_pred)\n",
        "fs=f1_score(y_test,y_pred,average='weighted')\n",
        "rs=recall_score(y_test, y_pred,average='weighted')\n",
        "accuracy=accuracy_score(y_test, y_pred)\n",
        "print('Confusion matrix:')\n",
        "print(cm)\n",
        "print(cr)\n",
        "print('F1 score: %f' % fs)\n",
        "print('Recall score: %f' % rs)\n",
        "print('Accuracy score: %f' % accuracy)"
      ],
      "metadata": {
        "id": "4gqafQBX0-2e",
        "outputId": "e692ee8d-a20b-4201-a889-f585c0a22814",
        "colab": {
          "base_uri": "https://localhost:8080/"
        }
      },
      "execution_count": 19,
      "outputs": [
        {
          "output_type": "stream",
          "name": "stdout",
          "text": [
            "Confusion matrix:\n",
            "[[87  0  0 ...  0  0  0]\n",
            " [ 0 87  0 ...  0  0  0]\n",
            " [ 0  0 60 ...  0  4  0]\n",
            " ...\n",
            " [ 0  0  0 ... 74  0  0]\n",
            " [ 0  0  3 ...  0 62  0]\n",
            " [ 0  0  0 ...  0  0 75]]\n",
            "              precision    recall  f1-score   support\n",
            "\n",
            "           0       0.92      0.87      0.89       100\n",
            "           1       0.85      0.87      0.86       100\n",
            "           2       0.62      0.60      0.61       100\n",
            "           3       0.77      0.60      0.67       100\n",
            "           4       0.68      0.63      0.65       100\n",
            "           5       0.80      0.72      0.76       100\n",
            "           6       0.72      0.78      0.75       100\n",
            "           7       0.80      0.77      0.79       100\n",
            "           8       0.88      0.88      0.88       100\n",
            "           9       0.83      0.83      0.83       100\n",
            "          10       0.62      0.56      0.59       100\n",
            "          11       0.55      0.58      0.57       100\n",
            "          12       0.79      0.86      0.82       100\n",
            "          13       0.71      0.67      0.69       100\n",
            "          14       0.67      0.69      0.68       100\n",
            "          15       0.80      0.83      0.81       100\n",
            "          16       0.76      0.77      0.77       100\n",
            "          17       0.90      0.82      0.86       100\n",
            "          18       0.69      0.66      0.67       100\n",
            "          19       0.79      0.65      0.71       100\n",
            "          20       0.91      0.91      0.91       100\n",
            "          21       0.77      0.89      0.83       100\n",
            "          22       0.77      0.75      0.76       100\n",
            "          23       0.82      0.84      0.83       100\n",
            "          24       0.86      0.87      0.87       100\n",
            "          25       0.63      0.64      0.63       100\n",
            "          26       0.71      0.72      0.72       100\n",
            "          27       0.64      0.71      0.67       100\n",
            "          28       0.78      0.80      0.79       100\n",
            "          29       0.80      0.70      0.75       100\n",
            "          30       0.67      0.68      0.68       100\n",
            "          31       0.74      0.74      0.74       100\n",
            "          32       0.71      0.71      0.71       100\n",
            "          33       0.64      0.65      0.65       100\n",
            "          34       0.80      0.78      0.79       100\n",
            "          35       0.56      0.53      0.55       100\n",
            "          36       0.80      0.83      0.81       100\n",
            "          37       0.73      0.80      0.76       100\n",
            "          38       0.73      0.63      0.68       100\n",
            "          39       0.91      0.86      0.89       100\n",
            "          40       0.71      0.70      0.71       100\n",
            "          41       0.93      0.88      0.90       100\n",
            "          42       0.77      0.78      0.78       100\n",
            "          43       0.80      0.86      0.83       100\n",
            "          44       0.59      0.53      0.56       100\n",
            "          45       0.59      0.65      0.62       100\n",
            "          46       0.60      0.55      0.58       100\n",
            "          47       0.69      0.68      0.68       100\n",
            "          48       0.88      0.96      0.92       100\n",
            "          49       0.84      0.89      0.86       100\n",
            "          50       0.56      0.58      0.57       100\n",
            "          51       0.79      0.77      0.78       100\n",
            "          52       0.69      0.68      0.68       100\n",
            "          53       0.88      0.92      0.90       100\n",
            "          54       0.79      0.89      0.84       100\n",
            "          55       0.50      0.54      0.52       100\n",
            "          56       0.96      0.93      0.94       100\n",
            "          57       0.78      0.79      0.79       100\n",
            "          58       0.87      0.87      0.87       100\n",
            "          59       0.71      0.72      0.71       100\n",
            "          60       0.82      0.87      0.84       100\n",
            "          61       0.79      0.70      0.74       100\n",
            "          62       0.73      0.85      0.79       100\n",
            "          63       0.78      0.76      0.77       100\n",
            "          64       0.70      0.59      0.64       100\n",
            "          65       0.62      0.66      0.64       100\n",
            "          66       0.83      0.84      0.84       100\n",
            "          67       0.67      0.68      0.68       100\n",
            "          68       0.88      0.96      0.92       100\n",
            "          69       0.83      0.83      0.83       100\n",
            "          70       0.80      0.77      0.79       100\n",
            "          71       0.82      0.83      0.83       100\n",
            "          72       0.49      0.51      0.50       100\n",
            "          73       0.66      0.58      0.62       100\n",
            "          74       0.54      0.56      0.55       100\n",
            "          75       0.84      0.91      0.87       100\n",
            "          76       0.88      0.92      0.90       100\n",
            "          77       0.72      0.68      0.70       100\n",
            "          78       0.66      0.69      0.68       100\n",
            "          79       0.74      0.82      0.78       100\n",
            "          80       0.62      0.58      0.60       100\n",
            "          81       0.73      0.82      0.77       100\n",
            "          82       0.90      0.91      0.91       100\n",
            "          83       0.70      0.76      0.73       100\n",
            "          84       0.71      0.68      0.69       100\n",
            "          85       0.84      0.86      0.85       100\n",
            "          86       0.83      0.78      0.80       100\n",
            "          87       0.72      0.86      0.78       100\n",
            "          88       0.85      0.82      0.83       100\n",
            "          89       0.91      0.89      0.90       100\n",
            "          90       0.81      0.84      0.82       100\n",
            "          91       0.82      0.83      0.83       100\n",
            "          92       0.74      0.68      0.71       100\n",
            "          93       0.68      0.61      0.64       100\n",
            "          94       0.89      0.93      0.91       100\n",
            "          95       0.76      0.78      0.77       100\n",
            "          96       0.73      0.69      0.71       100\n",
            "          97       0.80      0.74      0.77       100\n",
            "          98       0.58      0.62      0.60       100\n",
            "          99       0.82      0.75      0.79       100\n",
            "\n",
            "    accuracy                           0.75     10000\n",
            "   macro avg       0.75      0.75      0.75     10000\n",
            "weighted avg       0.75      0.75      0.75     10000\n",
            "\n",
            "F1 score: 0.752052\n",
            "Recall score: 0.752900\n",
            "Accuracy score: 0.752900\n"
          ]
        }
      ]
    },
    {
      "cell_type": "code",
      "source": [
        "# Save classificationreport into csv\n",
        "report = classification_report(y_test, y_pred, output_dict = True)\n",
        "df=pd.DataFrame(report).transpose()\n",
        "df.to_csv('classificationreport.csv',index=False)"
      ],
      "metadata": {
        "id": "XGZ5DmFv2k37"
      },
      "execution_count": 20,
      "outputs": []
    },
    {
      "cell_type": "code",
      "source": [
        "# Plot classification report and save to pdf function\n",
        "def plot_classification(precision, recall, f1_score):\n",
        "    plt.rcParams['font.size'] = 12\n",
        "    plt.rc('axes', linewidth=1.75)\n",
        "    marker_size = 8\n",
        "    figsize = 6\n",
        "    plt.figure(figsize=(1.4 * figsize, figsize))\n",
        "    plt.subplot(3, 1, 1)\n",
        "    plt.plot(precision, 'o', markersize=marker_size)\n",
        "    # plt.legend(loc=0)\n",
        "    # plt.yticks(np.arange(0.5, 1.01, 0.1))\n",
        "    plt.ylabel('Precision', fontsize=14)\n",
        "    plt.xticks([])\n",
        "    plt.subplot(3, 1, 2)\n",
        "    plt.plot(recall, 'o', markersize=marker_size)\n",
        "    # plt.yticks(np.arange(0.5, 1.01, 0.1))\n",
        "    plt.ylabel('Recall', fontsize=14)\n",
        "    plt.xticks([])\n",
        "    plt.subplot(3, 1, 3)\n",
        "    plt.plot(f1_score, 'o', markersize=marker_size)\n",
        "    # plt.yticks(np.arange(0.5, 1.01, 0.1))\n",
        "    plt.ylabel('F1-score', fontsize=14)\n",
        "    plt.xlabel('Class', fontsize=14)\n",
        "    plt.subplots_adjust(hspace=0.001)\n",
        "    plt.tight_layout()\n",
        "    plt.savefig(\"classification.pdf\")"
      ],
      "metadata": {
        "id": "NJIi4DEZ2ws-"
      },
      "execution_count": 21,
      "outputs": []
    },
    {
      "cell_type": "code",
      "source": [
        "# Plot classification report and save to pdf\n",
        "def plot_confusion_matrix(cm):\n",
        "    plt.figure()\n",
        "    plt.imshow(cm, interpolation='nearest', cmap=plt.get_cmap('Blues'))\n",
        "    plt.colorbar()\n",
        "    plt.ylabel('True label', fontsize=14)\n",
        "    plt.xlabel('Predicted label', fontsize=14)\n",
        "    plt.tight_layout()\n",
        "    plt.savefig(\"confusion_matrix.pdf\")\n",
        "    plt.show()"
      ],
      "metadata": {
        "id": "tf7SY2DX2zH1"
      },
      "execution_count": 22,
      "outputs": []
    },
    {
      "cell_type": "code",
      "source": [
        "# Obtain training accuracy\n",
        "y_train, y_pred2 = test_label_predictions(model, device, trainloader)\n",
        "train_accuracy=accuracy_score(y_train, y_pred2)\n",
        "print('Train accuracy: %f' % train_accuracy)"
      ],
      "metadata": {
        "id": "SemAvska2003",
        "outputId": "e82efb6b-e939-4f5d-baf9-95e13932d4a4",
        "colab": {
          "base_uri": "https://localhost:8080/"
        }
      },
      "execution_count": 23,
      "outputs": [
        {
          "output_type": "stream",
          "name": "stdout",
          "text": [
            "Train accuracy: 0.999640\n"
          ]
        }
      ]
    },
    {
      "cell_type": "code",
      "source": [
        "# Plot and save confusion matrix\n",
        "precision, recall, f1,_= precision_recall_fscore_support(y_test, y_pred)\n",
        "print(recall)\n",
        "plot_classification(precision, recall, f1)\n",
        "\n",
        "# Plot confusion matrix\n",
        "plot_confusion_matrix(cm)"
      ],
      "metadata": {
        "id": "mjHhnZbp2238",
        "outputId": "a91c5727-5110-4da6-9ab6-7745c1492154",
        "colab": {
          "base_uri": "https://localhost:8080/",
          "height": 1000
        }
      },
      "execution_count": 24,
      "outputs": [
        {
          "output_type": "stream",
          "name": "stdout",
          "text": [
            "[0.87 0.87 0.6  0.6  0.63 0.72 0.78 0.77 0.88 0.83 0.56 0.58 0.86 0.67\n",
            " 0.69 0.83 0.77 0.82 0.66 0.65 0.91 0.89 0.75 0.84 0.87 0.64 0.72 0.71\n",
            " 0.8  0.7  0.68 0.74 0.71 0.65 0.78 0.53 0.83 0.8  0.63 0.86 0.7  0.88\n",
            " 0.78 0.86 0.53 0.65 0.55 0.68 0.96 0.89 0.58 0.77 0.68 0.92 0.89 0.54\n",
            " 0.93 0.79 0.87 0.72 0.87 0.7  0.85 0.76 0.59 0.66 0.84 0.68 0.96 0.83\n",
            " 0.77 0.83 0.51 0.58 0.56 0.91 0.92 0.68 0.69 0.82 0.58 0.82 0.91 0.76\n",
            " 0.68 0.86 0.78 0.86 0.82 0.89 0.84 0.83 0.68 0.61 0.93 0.78 0.69 0.74\n",
            " 0.62 0.75]\n"
          ]
        },
        {
          "output_type": "display_data",
          "data": {
            "text/plain": [
              "<Figure size 840x600 with 3 Axes>"
            ],
            "image/png": "[encoded data removed]"
          },
          "metadata": {}
        },
        {
          "output_type": "display_data",
          "data": {
            "text/plain": [
              "<Figure size 640x480 with 2 Axes>"
            ],
            "image/png": "[encoded data removed]"
          },
          "metadata": {}
        }
      ]
    },
    {
      "cell_type": "code",
      "source": [
        "# Cloning GitHub repository\n",
        "!git clone https://github.com/Sim98B/MushroomVision\n",
        "!mv MushroomVision/Data .\n",
        "#!mv MushroomVision/Modules/Libraries .\n",
        "from Libraries import data, extractors, model_ops, utils"
      ],
      "metadata": {
        "id": "3FVANves3DVn",
        "outputId": "91a1736a-6903-418d-a444-59c40698b77f",
        "colab": {
          "base_uri": "https://localhost:8080/"
        }
      },
      "execution_count": 13,
      "outputs": [
        {
          "output_type": "stream",
          "name": "stdout",
          "text": [
            "Cloning into 'MushroomVision'...\n",
            "remote: Enumerating objects: 64149, done.\u001b[K\n",
            "remote: Counting objects: 100% (108/108), done.\u001b[K\n",
            "remote: Compressing objects: 100% (49/49), done.\u001b[K\n",
            "remote: Total 64149 (delta 83), reused 81 (delta 59), pack-reused 64041\u001b[K\n",
            "Receiving objects: 100% (64149/64149), 800.21 MiB | 12.62 MiB/s, done.\n",
            "Resolving deltas: 100% (1045/1045), done.\n",
            "Updating files: 100% (1741/1741), done.\n"
          ]
        }
      ]
    },
    {
      "cell_type": "code",
      "source": [
        "import shutil\n",
        "shutil.rmtree(\"MushroomVision\")\n",
        "#shutil.rmtree(\"Data\")"
      ],
      "metadata": {
        "id": "jDgxsviH49ZN"
      },
      "execution_count": 32,
      "outputs": []
    },
    {
      "cell_type": "code",
      "source": [
        "from pathlib import Path\n",
        "data_path = Path(\"Data\")\n",
        "train_dir = data_path / \"train_data\"\n",
        "val_dir = data_path / \"val_data\"\n",
        "test_dir = data_path / \"test_data\"\n",
        "\n",
        "data.inspect_dir(data_path)"
      ],
      "metadata": {
        "id": "YCPseEVB5Btg",
        "outputId": "eff067a2-f1dc-435f-ba90-d739db6e2466",
        "colab": {
          "base_uri": "https://localhost:8080/"
        }
      },
      "execution_count": 14,
      "outputs": [
        {
          "output_type": "stream",
          "name": "stdout",
          "text": [
            "There are 3 directory/ies and 0 file/s in Data\n",
            "There are 4 directory/ies and 0 file/s in Data/train_data\n",
            "There are 0 directory/ies and 250 file/s in Data/train_data/amanita_vaginata\n",
            "There are 0 directory/ies and 250 file/s in Data/train_data/boletus_edulis\n",
            "There are 0 directory/ies and 250 file/s in Data/train_data/boletus_erythropus\n",
            "There are 0 directory/ies and 250 file/s in Data/train_data/amanita_muscaria\n",
            "There are 4 directory/ies and 0 file/s in Data/test_data\n",
            "There are 0 directory/ies and 16 file/s in Data/test_data/amanita_vaginata\n",
            "There are 0 directory/ies and 173 file/s in Data/test_data/boletus_edulis\n",
            "There are 0 directory/ies and 17 file/s in Data/test_data/boletus_erythropus\n",
            "There are 0 directory/ies and 240 file/s in Data/test_data/amanita_muscaria\n",
            "There are 4 directory/ies and 0 file/s in Data/val_data\n",
            "There are 0 directory/ies and 64 file/s in Data/val_data/amanita_vaginata\n",
            "There are 0 directory/ies and 64 file/s in Data/val_data/boletus_edulis\n",
            "There are 0 directory/ies and 64 file/s in Data/val_data/boletus_erythropus\n",
            "There are 0 directory/ies and 64 file/s in Data/val_data/amanita_muscaria\n"
          ]
        }
      ]
    },
    {
      "cell_type": "code",
      "source": [
        "transform_test = transforms.Compose([transforms.Resize(size = (32, 32)), transforms.ToTensor(), transforms.Normalize(mean,std)])\n",
        "transform_test"
      ],
      "metadata": {
        "id": "i1wFJBBp6toc",
        "outputId": "096e8775-3f05-459f-ff74-2142ca1d0272",
        "colab": {
          "base_uri": "https://localhost:8080/",
          "height": 191
        }
      },
      "execution_count": 17,
      "outputs": [
        {
          "output_type": "error",
          "ename": "NameError",
          "evalue": "ignored",
          "traceback": [
            "\u001b[0;31m---------------------------------------------------------------------------\u001b[0m",
            "\u001b[0;31mNameError\u001b[0m                                 Traceback (most recent call last)",
            "\u001b[0;32m<ipython-input-17-4f14291ebab5>\u001b[0m in \u001b[0;36m<cell line: 1>\u001b[0;34m()\u001b[0m\n\u001b[0;32m----> 1\u001b[0;31m \u001b[0mtransform_test\u001b[0m \u001b[0;34m=\u001b[0m \u001b[0mtransforms\u001b[0m\u001b[0;34m.\u001b[0m\u001b[0mCompose\u001b[0m\u001b[0;34m(\u001b[0m\u001b[0;34m[\u001b[0m\u001b[0mtransforms\u001b[0m\u001b[0;34m.\u001b[0m\u001b[0mResize\u001b[0m\u001b[0;34m(\u001b[0m\u001b[0msize\u001b[0m \u001b[0;34m=\u001b[0m \u001b[0;34m(\u001b[0m\u001b[0;36m32\u001b[0m\u001b[0;34m,\u001b[0m \u001b[0;36m32\u001b[0m\u001b[0;34m)\u001b[0m\u001b[0;34m)\u001b[0m\u001b[0;34m,\u001b[0m \u001b[0mtransforms\u001b[0m\u001b[0;34m.\u001b[0m\u001b[0mToTensor\u001b[0m\u001b[0;34m(\u001b[0m\u001b[0;34m)\u001b[0m\u001b[0;34m,\u001b[0m \u001b[0mtransforms\u001b[0m\u001b[0;34m.\u001b[0m\u001b[0mNormalize\u001b[0m\u001b[0;34m(\u001b[0m\u001b[0mmean\u001b[0m\u001b[0;34m,\u001b[0m\u001b[0mstd\u001b[0m\u001b[0;34m)\u001b[0m\u001b[0;34m]\u001b[0m\u001b[0;34m)\u001b[0m\u001b[0;34m\u001b[0m\u001b[0;34m\u001b[0m\u001b[0m\n\u001b[0m\u001b[1;32m      2\u001b[0m \u001b[0mtransform_test\u001b[0m\u001b[0;34m\u001b[0m\u001b[0;34m\u001b[0m\u001b[0m\n",
            "\u001b[0;31mNameError\u001b[0m: name 'mean' is not defined"
          ]
        }
      ]
    },
    {
      "cell_type": "code",
      "source": [
        "import PIL"
      ],
      "metadata": {
        "id": "B7baGGJO781b"
      },
      "execution_count": 49,
      "outputs": []
    },
    {
      "cell_type": "code",
      "source": [
        "for species in [\"amanita_vaginata\", \"amanita_muscaria\", \"boletus_erythropus\", \"boletus_edulis\"]:\n",
        "  for img in os.listdir(train_dir / species):\n",
        "    print(img)"
      ],
      "metadata": {
        "id": "k_rxS6G_AHG4"
      },
      "execution_count": null,
      "outputs": []
    },
    {
      "cell_type": "code",
      "source": [
        "for species in [\"amanita_vaginata\", \"amanita_muscaria\", \"boletus_erythropus\", \"boletus_edulis\"]:\n",
        "  for img in os.listdir(train_dir / species):\n",
        "    print(img,transform_test(PIL.Image.open(train_dir/species/img)).shape)"
      ],
      "metadata": {
        "id": "EtPkUfTs_3Ph"
      },
      "execution_count": null,
      "outputs": []
    },
    {
      "cell_type": "code",
      "source": [
        "pred = []\n",
        "for species in [\"amanita_vaginata\", \"amanita_muscaria\", \"boletus_erythropus\", \"boletus_edulis\"]:\n",
        "  for img in os.listdir(test_dir / species):\n",
        "    image = transform_test(PIL.Image.open(test_dir/species/img))\n",
        "    pred.append(int(torch.argmax(resnet9(image.unsqueeze(0)),dim = 1)))"
      ],
      "metadata": {
        "id": "e77Hy6KO6PZk",
        "outputId": "6cb6ad8c-fbef-4597-cc67-64945493697b",
        "colab": {
          "base_uri": "https://localhost:8080/",
          "height": 242
        }
      },
      "execution_count": 11,
      "outputs": [
        {
          "output_type": "error",
          "ename": "NameError",
          "evalue": "ignored",
          "traceback": [
            "\u001b[0;31m---------------------------------------------------------------------------\u001b[0m",
            "\u001b[0;31mNameError\u001b[0m                                 Traceback (most recent call last)",
            "\u001b[0;32m<ipython-input-11-70d2e916dd77>\u001b[0m in \u001b[0;36m<cell line: 2>\u001b[0;34m()\u001b[0m\n\u001b[1;32m      1\u001b[0m \u001b[0mpred\u001b[0m \u001b[0;34m=\u001b[0m \u001b[0;34m[\u001b[0m\u001b[0;34m]\u001b[0m\u001b[0;34m\u001b[0m\u001b[0;34m\u001b[0m\u001b[0m\n\u001b[1;32m      2\u001b[0m \u001b[0;32mfor\u001b[0m \u001b[0mspecies\u001b[0m \u001b[0;32min\u001b[0m \u001b[0;34m[\u001b[0m\u001b[0;34m\"amanita_vaginata\"\u001b[0m\u001b[0;34m,\u001b[0m \u001b[0;34m\"amanita_muscaria\"\u001b[0m\u001b[0;34m,\u001b[0m \u001b[0;34m\"boletus_erythropus\"\u001b[0m\u001b[0;34m,\u001b[0m \u001b[0;34m\"boletus_edulis\"\u001b[0m\u001b[0;34m]\u001b[0m\u001b[0;34m:\u001b[0m\u001b[0;34m\u001b[0m\u001b[0;34m\u001b[0m\u001b[0m\n\u001b[0;32m----> 3\u001b[0;31m   \u001b[0;32mfor\u001b[0m \u001b[0mimg\u001b[0m \u001b[0;32min\u001b[0m \u001b[0mos\u001b[0m\u001b[0;34m.\u001b[0m\u001b[0mlistdir\u001b[0m\u001b[0;34m(\u001b[0m\u001b[0mtest_dir\u001b[0m \u001b[0;34m/\u001b[0m \u001b[0mspecies\u001b[0m\u001b[0;34m)\u001b[0m\u001b[0;34m:\u001b[0m\u001b[0;34m\u001b[0m\u001b[0;34m\u001b[0m\u001b[0m\n\u001b[0m\u001b[1;32m      4\u001b[0m     \u001b[0mimage\u001b[0m \u001b[0;34m=\u001b[0m \u001b[0mtransform_test\u001b[0m\u001b[0;34m(\u001b[0m\u001b[0mPIL\u001b[0m\u001b[0;34m.\u001b[0m\u001b[0mImage\u001b[0m\u001b[0;34m.\u001b[0m\u001b[0mopen\u001b[0m\u001b[0;34m(\u001b[0m\u001b[0mtest_dir\u001b[0m\u001b[0;34m/\u001b[0m\u001b[0mspecies\u001b[0m\u001b[0;34m/\u001b[0m\u001b[0mimg\u001b[0m\u001b[0;34m)\u001b[0m\u001b[0;34m)\u001b[0m\u001b[0;34m\u001b[0m\u001b[0;34m\u001b[0m\u001b[0m\n\u001b[1;32m      5\u001b[0m     \u001b[0mpred\u001b[0m\u001b[0;34m.\u001b[0m\u001b[0mappend\u001b[0m\u001b[0;34m(\u001b[0m\u001b[0mint\u001b[0m\u001b[0;34m(\u001b[0m\u001b[0mtorch\u001b[0m\u001b[0;34m.\u001b[0m\u001b[0margmax\u001b[0m\u001b[0;34m(\u001b[0m\u001b[0mmodel\u001b[0m\u001b[0;34m(\u001b[0m\u001b[0mimage\u001b[0m\u001b[0;34m.\u001b[0m\u001b[0munsqueeze\u001b[0m\u001b[0;34m(\u001b[0m\u001b[0;36m0\u001b[0m\u001b[0;34m)\u001b[0m\u001b[0;34m)\u001b[0m\u001b[0;34m,\u001b[0m\u001b[0mdim\u001b[0m \u001b[0;34m=\u001b[0m \u001b[0;36m1\u001b[0m\u001b[0;34m)\u001b[0m\u001b[0;34m)\u001b[0m\u001b[0;34m)\u001b[0m\u001b[0;34m\u001b[0m\u001b[0;34m\u001b[0m\u001b[0m\n",
            "\u001b[0;31mNameError\u001b[0m: name 'test_dir' is not defined"
          ]
        }
      ]
    },
    {
      "cell_type": "code",
      "source": [
        "len(pred)"
      ],
      "metadata": {
        "id": "XLKYcKQOBXd3",
        "outputId": "562335ae-6731-4159-b176-27334a497bc1",
        "colab": {
          "base_uri": "https://localhost:8080/"
        }
      },
      "execution_count": 101,
      "outputs": [
        {
          "output_type": "execute_result",
          "data": {
            "text/plain": [
              "446"
            ]
          },
          "metadata": {},
          "execution_count": 101
        }
      ]
    },
    {
      "cell_type": "code",
      "source": [
        "real = []\n",
        "for i in range(446):\n",
        "  real.append(51)"
      ],
      "metadata": {
        "id": "ySYPOqtG-Rsi"
      },
      "execution_count": 102,
      "outputs": []
    },
    {
      "cell_type": "code",
      "source": [
        "import seaborn as sns"
      ],
      "metadata": {
        "id": "KY4GFeDp-z53"
      },
      "execution_count": 90,
      "outputs": []
    },
    {
      "cell_type": "code",
      "source": [
        "accuracy_score(real, pred)"
      ],
      "metadata": {
        "id": "64Dv_7Fq7JtF",
        "outputId": "f693b675-935d-41ec-b0cc-5c850d8251fa",
        "colab": {
          "base_uri": "https://localhost:8080/"
        }
      },
      "execution_count": 92,
      "outputs": [
        {
          "output_type": "execute_result",
          "data": {
            "text/plain": [
              "0.7109375"
            ]
          },
          "metadata": {},
          "execution_count": 92
        }
      ]
    },
    {
      "cell_type": "code",
      "source": [
        "accuracy_score(real, pred)"
      ],
      "metadata": {
        "id": "iAxkxfcT-viu",
        "outputId": "e9937a31-f776-4362-cdaf-b20ace31fbff",
        "colab": {
          "base_uri": "https://localhost:8080/"
        }
      },
      "execution_count": 103,
      "outputs": [
        {
          "output_type": "execute_result",
          "data": {
            "text/plain": [
              "0.6681614349775785"
            ]
          },
          "metadata": {},
          "execution_count": 103
        }
      ]
    },
    {
      "cell_type": "code",
      "source": [
        "os.mkdir(\"CIFAR100_model\")"
      ],
      "metadata": {
        "id": "zknlmnrcDqbn",
        "outputId": "843f658e-ba54-444d-b0a4-a553ff968080",
        "colab": {
          "base_uri": "https://localhost:8080/",
          "height": 174
        }
      },
      "execution_count": 108,
      "outputs": [
        {
          "output_type": "error",
          "ename": "FileExistsError",
          "evalue": "ignored",
          "traceback": [
            "\u001b[0;31m---------------------------------------------------------------------------\u001b[0m",
            "\u001b[0;31mFileExistsError\u001b[0m                           Traceback (most recent call last)",
            "\u001b[0;32m<ipython-input-108-f5a172623ab0>\u001b[0m in \u001b[0;36m<cell line: 1>\u001b[0;34m()\u001b[0m\n\u001b[0;32m----> 1\u001b[0;31m \u001b[0mos\u001b[0m\u001b[0;34m.\u001b[0m\u001b[0mmkdir\u001b[0m\u001b[0;34m(\u001b[0m\u001b[0;34m\"CIFAR100_model\"\u001b[0m\u001b[0;34m)\u001b[0m\u001b[0;34m\u001b[0m\u001b[0;34m\u001b[0m\u001b[0m\n\u001b[0m",
            "\u001b[0;31mFileExistsError\u001b[0m: [Errno 17] File exists: 'CIFAR100_model'"
          ]
        }
      ]
    },
    {
      "cell_type": "code",
      "source": [
        "def conv_block(in_channels, out_channels, pool=False):\n",
        "    layers = [nn.Conv2d(in_channels, out_channels, kernel_size=3, padding=1),\n",
        "              nn.BatchNorm2d(out_channels),\n",
        "              nn.ReLU(inplace=True)]\n",
        "    if pool: layers.append(nn.MaxPool2d(2))\n",
        "    return nn.Sequential(*layers)\n",
        "\n",
        "class ResNet9(nn.Module):\n",
        "    def __init__(self, in_channels, num_classes):\n",
        "        super().__init__()\n",
        "\n",
        "        self.conv1 = conv_block(in_channels, 64)\n",
        "        self.conv2 = conv_block(64, 128, pool=True)\n",
        "        self.res1 = nn.Sequential(conv_block(128, 128), conv_block(128, 128))\n",
        "\n",
        "        self.conv3 = conv_block(128, 256, pool=True)\n",
        "        self.conv4 = conv_block(256, 512, pool=True)\n",
        "        self.res2 = nn.Sequential(conv_block(512, 512), conv_block(512, 512))\n",
        "        self.conv5 = conv_block(512, 1028, pool=True)\n",
        "        self.res3 = nn.Sequential(conv_block(1028, 1028), conv_block(1028, 1028))\n",
        "\n",
        "        self.classifier = nn.Sequential(nn.MaxPool2d(2), # 1028 x 1 x 1\n",
        "                                        nn.Flatten(), # 1028\n",
        "                                        nn.Linear(1028, num_classes)) # 1028 -> 100\n",
        "\n",
        "    def forward(self, xb):\n",
        "        out = self.conv1(xb)\n",
        "        out = self.conv2(out)\n",
        "        out = self.res1(out) + out\n",
        "        out = self.conv3(out)\n",
        "        out = self.conv4(out)\n",
        "        out = self.res2(out) + out\n",
        "        out = self.conv5(out)\n",
        "        out = self.res3(out) + out\n",
        "        out = self.classifier(out)\n",
        "        return out\n",
        "\n",
        "model = ResNet9(3, 100)\n",
        "model"
      ],
      "metadata": {
        "id": "gK71p5JhCktI",
        "outputId": "4d3f95a7-1f7b-4cfb-9342-1685a898bba3",
        "colab": {
          "base_uri": "https://localhost:8080/"
        }
      },
      "execution_count": 2,
      "outputs": [
        {
          "output_type": "execute_result",
          "data": {
            "text/plain": [
              "ResNet9(\n",
              "  (conv1): Sequential(\n",
              "    (0): Conv2d(3, 64, kernel_size=(3, 3), stride=(1, 1), padding=(1, 1))\n",
              "    (1): BatchNorm2d(64, eps=1e-05, momentum=0.1, affine=True, track_running_stats=True)\n",
              "    (2): ReLU(inplace=True)\n",
              "  )\n",
              "  (conv2): Sequential(\n",
              "    (0): Conv2d(64, 128, kernel_size=(3, 3), stride=(1, 1), padding=(1, 1))\n",
              "    (1): BatchNorm2d(128, eps=1e-05, momentum=0.1, affine=True, track_running_stats=True)\n",
              "    (2): ReLU(inplace=True)\n",
              "    (3): MaxPool2d(kernel_size=2, stride=2, padding=0, dilation=1, ceil_mode=False)\n",
              "  )\n",
              "  (res1): Sequential(\n",
              "    (0): Sequential(\n",
              "      (0): Conv2d(128, 128, kernel_size=(3, 3), stride=(1, 1), padding=(1, 1))\n",
              "      (1): BatchNorm2d(128, eps=1e-05, momentum=0.1, affine=True, track_running_stats=True)\n",
              "      (2): ReLU(inplace=True)\n",
              "    )\n",
              "    (1): Sequential(\n",
              "      (0): Conv2d(128, 128, kernel_size=(3, 3), stride=(1, 1), padding=(1, 1))\n",
              "      (1): BatchNorm2d(128, eps=1e-05, momentum=0.1, affine=True, track_running_stats=True)\n",
              "      (2): ReLU(inplace=True)\n",
              "    )\n",
              "  )\n",
              "  (conv3): Sequential(\n",
              "    (0): Conv2d(128, 256, kernel_size=(3, 3), stride=(1, 1), padding=(1, 1))\n",
              "    (1): BatchNorm2d(256, eps=1e-05, momentum=0.1, affine=True, track_running_stats=True)\n",
              "    (2): ReLU(inplace=True)\n",
              "    (3): MaxPool2d(kernel_size=2, stride=2, padding=0, dilation=1, ceil_mode=False)\n",
              "  )\n",
              "  (conv4): Sequential(\n",
              "    (0): Conv2d(256, 512, kernel_size=(3, 3), stride=(1, 1), padding=(1, 1))\n",
              "    (1): BatchNorm2d(512, eps=1e-05, momentum=0.1, affine=True, track_running_stats=True)\n",
              "    (2): ReLU(inplace=True)\n",
              "    (3): MaxPool2d(kernel_size=2, stride=2, padding=0, dilation=1, ceil_mode=False)\n",
              "  )\n",
              "  (res2): Sequential(\n",
              "    (0): Sequential(\n",
              "      (0): Conv2d(512, 512, kernel_size=(3, 3), stride=(1, 1), padding=(1, 1))\n",
              "      (1): BatchNorm2d(512, eps=1e-05, momentum=0.1, affine=True, track_running_stats=True)\n",
              "      (2): ReLU(inplace=True)\n",
              "    )\n",
              "    (1): Sequential(\n",
              "      (0): Conv2d(512, 512, kernel_size=(3, 3), stride=(1, 1), padding=(1, 1))\n",
              "      (1): BatchNorm2d(512, eps=1e-05, momentum=0.1, affine=True, track_running_stats=True)\n",
              "      (2): ReLU(inplace=True)\n",
              "    )\n",
              "  )\n",
              "  (conv5): Sequential(\n",
              "    (0): Conv2d(512, 1028, kernel_size=(3, 3), stride=(1, 1), padding=(1, 1))\n",
              "    (1): BatchNorm2d(1028, eps=1e-05, momentum=0.1, affine=True, track_running_stats=True)\n",
              "    (2): ReLU(inplace=True)\n",
              "    (3): MaxPool2d(kernel_size=2, stride=2, padding=0, dilation=1, ceil_mode=False)\n",
              "  )\n",
              "  (res3): Sequential(\n",
              "    (0): Sequential(\n",
              "      (0): Conv2d(1028, 1028, kernel_size=(3, 3), stride=(1, 1), padding=(1, 1))\n",
              "      (1): BatchNorm2d(1028, eps=1e-05, momentum=0.1, affine=True, track_running_stats=True)\n",
              "      (2): ReLU(inplace=True)\n",
              "    )\n",
              "    (1): Sequential(\n",
              "      (0): Conv2d(1028, 1028, kernel_size=(3, 3), stride=(1, 1), padding=(1, 1))\n",
              "      (1): BatchNorm2d(1028, eps=1e-05, momentum=0.1, affine=True, track_running_stats=True)\n",
              "      (2): ReLU(inplace=True)\n",
              "    )\n",
              "  )\n",
              "  (classifier): Sequential(\n",
              "    (0): MaxPool2d(kernel_size=2, stride=2, padding=0, dilation=1, ceil_mode=False)\n",
              "    (1): Flatten(start_dim=1, end_dim=-1)\n",
              "    (2): Linear(in_features=1028, out_features=100, bias=True)\n",
              "  )\n",
              ")"
            ]
          },
          "metadata": {},
          "execution_count": 2
        }
      ]
    },
    {
      "cell_type": "code",
      "source": [
        "import gzip\n",
        "resnet9_gz = Path(\"Models/ResNet9.pth.gz\")\n",
        "\n",
        "with gzip.open(resnet9_gz, 'rb') as f_in:\n",
        "    with open('ResNet9.pth', 'wb') as f_out:\n",
        "        shutil.copyfileobj(f_in, f_out)\n",
        "\n",
        "resnet9_weights_path = Path(\"ResNet9.pth\")"
      ],
      "metadata": {
        "id": "ZmOam7VzDIWI"
      },
      "execution_count": 8,
      "outputs": []
    },
    {
      "cell_type": "code",
      "source": [
        "resnet9_weights_path"
      ],
      "metadata": {
        "id": "sVUh64dpEuGt",
        "outputId": "9537e9da-c9b9-494a-9613-2f3c43f79f27",
        "colab": {
          "base_uri": "https://localhost:8080/"
        }
      },
      "execution_count": 9,
      "outputs": [
        {
          "output_type": "execute_result",
          "data": {
            "text/plain": [
              "PosixPath('ResNet9.pth')"
            ]
          },
          "metadata": {},
          "execution_count": 9
        }
      ]
    },
    {
      "cell_type": "code",
      "source": [
        "resnet9 = utils.load_model(model = model,\n",
        "                         weights_path = resnet9_weights_path)\n",
        "resnet9"
      ],
      "metadata": {
        "id": "9oGlTJAVEuEo",
        "outputId": "baaacfb8-d755-4cb2-f8cb-e1d879a3c33f",
        "colab": {
          "base_uri": "https://localhost:8080/"
        }
      },
      "execution_count": 10,
      "outputs": [
        {
          "output_type": "stream",
          "name": "stdout",
          "text": [
            "[INFO] Loading weights into model...\n",
            "<All keys matched successfully>\n"
          ]
        },
        {
          "output_type": "execute_result",
          "data": {
            "text/plain": [
              "ResNet9(\n",
              "  (conv1): Sequential(\n",
              "    (0): Conv2d(3, 64, kernel_size=(3, 3), stride=(1, 1), padding=(1, 1))\n",
              "    (1): BatchNorm2d(64, eps=1e-05, momentum=0.1, affine=True, track_running_stats=True)\n",
              "    (2): ReLU(inplace=True)\n",
              "  )\n",
              "  (conv2): Sequential(\n",
              "    (0): Conv2d(64, 128, kernel_size=(3, 3), stride=(1, 1), padding=(1, 1))\n",
              "    (1): BatchNorm2d(128, eps=1e-05, momentum=0.1, affine=True, track_running_stats=True)\n",
              "    (2): ReLU(inplace=True)\n",
              "    (3): MaxPool2d(kernel_size=2, stride=2, padding=0, dilation=1, ceil_mode=False)\n",
              "  )\n",
              "  (res1): Sequential(\n",
              "    (0): Sequential(\n",
              "      (0): Conv2d(128, 128, kernel_size=(3, 3), stride=(1, 1), padding=(1, 1))\n",
              "      (1): BatchNorm2d(128, eps=1e-05, momentum=0.1, affine=True, track_running_stats=True)\n",
              "      (2): ReLU(inplace=True)\n",
              "    )\n",
              "    (1): Sequential(\n",
              "      (0): Conv2d(128, 128, kernel_size=(3, 3), stride=(1, 1), padding=(1, 1))\n",
              "      (1): BatchNorm2d(128, eps=1e-05, momentum=0.1, affine=True, track_running_stats=True)\n",
              "      (2): ReLU(inplace=True)\n",
              "    )\n",
              "  )\n",
              "  (conv3): Sequential(\n",
              "    (0): Conv2d(128, 256, kernel_size=(3, 3), stride=(1, 1), padding=(1, 1))\n",
              "    (1): BatchNorm2d(256, eps=1e-05, momentum=0.1, affine=True, track_running_stats=True)\n",
              "    (2): ReLU(inplace=True)\n",
              "    (3): MaxPool2d(kernel_size=2, stride=2, padding=0, dilation=1, ceil_mode=False)\n",
              "  )\n",
              "  (conv4): Sequential(\n",
              "    (0): Conv2d(256, 512, kernel_size=(3, 3), stride=(1, 1), padding=(1, 1))\n",
              "    (1): BatchNorm2d(512, eps=1e-05, momentum=0.1, affine=True, track_running_stats=True)\n",
              "    (2): ReLU(inplace=True)\n",
              "    (3): MaxPool2d(kernel_size=2, stride=2, padding=0, dilation=1, ceil_mode=False)\n",
              "  )\n",
              "  (res2): Sequential(\n",
              "    (0): Sequential(\n",
              "      (0): Conv2d(512, 512, kernel_size=(3, 3), stride=(1, 1), padding=(1, 1))\n",
              "      (1): BatchNorm2d(512, eps=1e-05, momentum=0.1, affine=True, track_running_stats=True)\n",
              "      (2): ReLU(inplace=True)\n",
              "    )\n",
              "    (1): Sequential(\n",
              "      (0): Conv2d(512, 512, kernel_size=(3, 3), stride=(1, 1), padding=(1, 1))\n",
              "      (1): BatchNorm2d(512, eps=1e-05, momentum=0.1, affine=True, track_running_stats=True)\n",
              "      (2): ReLU(inplace=True)\n",
              "    )\n",
              "  )\n",
              "  (conv5): Sequential(\n",
              "    (0): Conv2d(512, 1028, kernel_size=(3, 3), stride=(1, 1), padding=(1, 1))\n",
              "    (1): BatchNorm2d(1028, eps=1e-05, momentum=0.1, affine=True, track_running_stats=True)\n",
              "    (2): ReLU(inplace=True)\n",
              "    (3): MaxPool2d(kernel_size=2, stride=2, padding=0, dilation=1, ceil_mode=False)\n",
              "  )\n",
              "  (res3): Sequential(\n",
              "    (0): Sequential(\n",
              "      (0): Conv2d(1028, 1028, kernel_size=(3, 3), stride=(1, 1), padding=(1, 1))\n",
              "      (1): BatchNorm2d(1028, eps=1e-05, momentum=0.1, affine=True, track_running_stats=True)\n",
              "      (2): ReLU(inplace=True)\n",
              "    )\n",
              "    (1): Sequential(\n",
              "      (0): Conv2d(1028, 1028, kernel_size=(3, 3), stride=(1, 1), padding=(1, 1))\n",
              "      (1): BatchNorm2d(1028, eps=1e-05, momentum=0.1, affine=True, track_running_stats=True)\n",
              "      (2): ReLU(inplace=True)\n",
              "    )\n",
              "  )\n",
              "  (classifier): Sequential(\n",
              "    (0): MaxPool2d(kernel_size=2, stride=2, padding=0, dilation=1, ceil_mode=False)\n",
              "    (1): Flatten(start_dim=1, end_dim=-1)\n",
              "    (2): Linear(in_features=1028, out_features=100, bias=True)\n",
              "  )\n",
              ")"
            ]
          },
          "metadata": {},
          "execution_count": 10
        }
      ]
    },
    {
      "cell_type": "code",
      "source": [],
      "metadata": {
        "id": "9iMPZS7cEuCz"
      },
      "execution_count": null,
      "outputs": []
    },
    {
      "cell_type": "code",
      "source": [],
      "metadata": {
        "id": "vY59sqJoEuAc"
      },
      "execution_count": null,
      "outputs": []
    },
    {
      "cell_type": "code",
      "source": [],
      "metadata": {
        "id": "-l89t8pPEt-L"
      },
      "execution_count": null,
      "outputs": []
    },
    {
      "cell_type": "code",
      "source": [
        "utils.save_model(model = model,\n",
        "                 target_dir = \"CIFAR100_model\",\n",
        "                 model_name = \"ResNet9.pth\")"
      ],
      "metadata": {
        "id": "n_cYDJS6Bbrq",
        "outputId": "f0abbe0b-12f9-4c5c-df0b-1dd2c8b39902",
        "colab": {
          "base_uri": "https://localhost:8080/"
        }
      },
      "execution_count": 110,
      "outputs": [
        {
          "output_type": "stream",
          "name": "stdout",
          "text": [
            "[INFO] Saving model to: CIFAR100_model/ResNet9.pth\n"
          ]
        }
      ]
    },
    {
      "cell_type": "code",
      "source": [
        "path_weights = Path(\"CIFAR100_model/ResNet9.pth\")"
      ],
      "metadata": {
        "id": "fJHvWYEME8Sa"
      },
      "execution_count": 116,
      "outputs": []
    },
    {
      "cell_type": "code",
      "source": [
        "print(f\"DenseNet161 size: {path_weights.stat().st_size / (1024*1024):.2f} MB\")"
      ],
      "metadata": {
        "id": "EWaw61b4EqTY",
        "outputId": "db63abe2-5519-4850-a59a-cbe78e36f725",
        "colab": {
          "base_uri": "https://localhost:8080/"
        }
      },
      "execution_count": 117,
      "outputs": [
        {
          "output_type": "stream",
          "name": "stdout",
          "text": [
            "DenseNet161 size: 116.19 MB\n"
          ]
        }
      ]
    },
    {
      "cell_type": "code",
      "source": [],
      "metadata": {
        "id": "ZWBabldTDbK8"
      },
      "execution_count": null,
      "outputs": []
    }
  ]
}