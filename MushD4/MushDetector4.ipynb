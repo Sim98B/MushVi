{
  "nbformat": 4,
  "nbformat_minor": 0,
  "metadata": {
    "colab": {
      "provenance": [],
      "gpuType": "V100",
      "authorship_tag": "ABX9TyOP8jPF8gQeeoWFAD+bw37w",
      "include_colab_link": true
    },
    "kernelspec": {
      "name": "python3",
      "display_name": "Python 3"
    },
    "language_info": {
      "name": "python"
    },
    "accelerator": "GPU",
    "widgets": {
      "application/vnd.jupyter.widget-state+json": {
        "afda39930e9442108b3c05508a31ccfe": {
          "model_module": "@jupyter-widgets/controls",
          "model_name": "HBoxModel",
          "model_module_version": "1.5.0",
          "state": {
            "_dom_classes": [],
            "_model_module": "@jupyter-widgets/controls",
            "_model_module_version": "1.5.0",
            "_model_name": "HBoxModel",
            "_view_count": null,
            "_view_module": "@jupyter-widgets/controls",
            "_view_module_version": "1.5.0",
            "_view_name": "HBoxView",
            "box_style": "",
            "children": [
              "IPY_MODEL_d43683ffaf2741ccb7b7d9af4d44d7dc",
              "IPY_MODEL_ec36efcba8244d87a73d9a718a4f32a2",
              "IPY_MODEL_3504733b3eab4cdf8092791084253f29"
            ],
            "layout": "IPY_MODEL_b7dd103916234cf28a7290129f4cb0e8"
          }
        },
        "d43683ffaf2741ccb7b7d9af4d44d7dc": {
          "model_module": "@jupyter-widgets/controls",
          "model_name": "HTMLModel",
          "model_module_version": "1.5.0",
          "state": {
            "_dom_classes": [],
            "_model_module": "@jupyter-widgets/controls",
            "_model_module_version": "1.5.0",
            "_model_name": "HTMLModel",
            "_view_count": null,
            "_view_module": "@jupyter-widgets/controls",
            "_view_module_version": "1.5.0",
            "_view_name": "HTMLView",
            "description": "",
            "description_tooltip": null,
            "layout": "IPY_MODEL_bff94475b9b54f409e90479490defe69",
            "placeholder": "​",
            "style": "IPY_MODEL_5d7e46a8ab0e4a2d997c1578e1a23f7a",
            "value": "Training:  43%"
          }
        },
        "ec36efcba8244d87a73d9a718a4f32a2": {
          "model_module": "@jupyter-widgets/controls",
          "model_name": "FloatProgressModel",
          "model_module_version": "1.5.0",
          "state": {
            "_dom_classes": [],
            "_model_module": "@jupyter-widgets/controls",
            "_model_module_version": "1.5.0",
            "_model_name": "FloatProgressModel",
            "_view_count": null,
            "_view_module": "@jupyter-widgets/controls",
            "_view_module_version": "1.5.0",
            "_view_name": "ProgressView",
            "bar_style": "",
            "description": "",
            "description_tooltip": null,
            "layout": "IPY_MODEL_c19992ce898d4b2a8845a899851b03fd",
            "max": 30,
            "min": 0,
            "orientation": "horizontal",
            "style": "IPY_MODEL_26779ef1c4d44602aac86d8294394e85",
            "value": 13
          }
        },
        "3504733b3eab4cdf8092791084253f29": {
          "model_module": "@jupyter-widgets/controls",
          "model_name": "HTMLModel",
          "model_module_version": "1.5.0",
          "state": {
            "_dom_classes": [],
            "_model_module": "@jupyter-widgets/controls",
            "_model_module_version": "1.5.0",
            "_model_name": "HTMLModel",
            "_view_count": null,
            "_view_module": "@jupyter-widgets/controls",
            "_view_module_version": "1.5.0",
            "_view_name": "HTMLView",
            "description": "",
            "description_tooltip": null,
            "layout": "IPY_MODEL_fc6ceea60be146ae908d71e9b4200969",
            "placeholder": "​",
            "style": "IPY_MODEL_20d6317d2d4a452499c2a8d9aecec7d6",
            "value": " 13/30 [04:26&lt;05:45, 20.34s/it]"
          }
        },
        "b7dd103916234cf28a7290129f4cb0e8": {
          "model_module": "@jupyter-widgets/base",
          "model_name": "LayoutModel",
          "model_module_version": "1.2.0",
          "state": {
            "_model_module": "@jupyter-widgets/base",
            "_model_module_version": "1.2.0",
            "_model_name": "LayoutModel",
            "_view_count": null,
            "_view_module": "@jupyter-widgets/base",
            "_view_module_version": "1.2.0",
            "_view_name": "LayoutView",
            "align_content": null,
            "align_items": null,
            "align_self": null,
            "border": null,
            "bottom": null,
            "display": null,
            "flex": null,
            "flex_flow": null,
            "grid_area": null,
            "grid_auto_columns": null,
            "grid_auto_flow": null,
            "grid_auto_rows": null,
            "grid_column": null,
            "grid_gap": null,
            "grid_row": null,
            "grid_template_areas": null,
            "grid_template_columns": null,
            "grid_template_rows": null,
            "height": null,
            "justify_content": null,
            "justify_items": null,
            "left": null,
            "margin": null,
            "max_height": null,
            "max_width": null,
            "min_height": null,
            "min_width": null,
            "object_fit": null,
            "object_position": null,
            "order": null,
            "overflow": null,
            "overflow_x": null,
            "overflow_y": null,
            "padding": null,
            "right": null,
            "top": null,
            "visibility": null,
            "width": null
          }
        },
        "bff94475b9b54f409e90479490defe69": {
          "model_module": "@jupyter-widgets/base",
          "model_name": "LayoutModel",
          "model_module_version": "1.2.0",
          "state": {
            "_model_module": "@jupyter-widgets/base",
            "_model_module_version": "1.2.0",
            "_model_name": "LayoutModel",
            "_view_count": null,
            "_view_module": "@jupyter-widgets/base",
            "_view_module_version": "1.2.0",
            "_view_name": "LayoutView",
            "align_content": null,
            "align_items": null,
            "align_self": null,
            "border": null,
            "bottom": null,
            "display": null,
            "flex": null,
            "flex_flow": null,
            "grid_area": null,
            "grid_auto_columns": null,
            "grid_auto_flow": null,
            "grid_auto_rows": null,
            "grid_column": null,
            "grid_gap": null,
            "grid_row": null,
            "grid_template_areas": null,
            "grid_template_columns": null,
            "grid_template_rows": null,
            "height": null,
            "justify_content": null,
            "justify_items": null,
            "left": null,
            "margin": null,
            "max_height": null,
            "max_width": null,
            "min_height": null,
            "min_width": null,
            "object_fit": null,
            "object_position": null,
            "order": null,
            "overflow": null,
            "overflow_x": null,
            "overflow_y": null,
            "padding": null,
            "right": null,
            "top": null,
            "visibility": null,
            "width": null
          }
        },
        "5d7e46a8ab0e4a2d997c1578e1a23f7a": {
          "model_module": "@jupyter-widgets/controls",
          "model_name": "DescriptionStyleModel",
          "model_module_version": "1.5.0",
          "state": {
            "_model_module": "@jupyter-widgets/controls",
            "_model_module_version": "1.5.0",
            "_model_name": "DescriptionStyleModel",
            "_view_count": null,
            "_view_module": "@jupyter-widgets/base",
            "_view_module_version": "1.2.0",
            "_view_name": "StyleView",
            "description_width": ""
          }
        },
        "c19992ce898d4b2a8845a899851b03fd": {
          "model_module": "@jupyter-widgets/base",
          "model_name": "LayoutModel",
          "model_module_version": "1.2.0",
          "state": {
            "_model_module": "@jupyter-widgets/base",
            "_model_module_version": "1.2.0",
            "_model_name": "LayoutModel",
            "_view_count": null,
            "_view_module": "@jupyter-widgets/base",
            "_view_module_version": "1.2.0",
            "_view_name": "LayoutView",
            "align_content": null,
            "align_items": null,
            "align_self": null,
            "border": null,
            "bottom": null,
            "display": null,
            "flex": null,
            "flex_flow": null,
            "grid_area": null,
            "grid_auto_columns": null,
            "grid_auto_flow": null,
            "grid_auto_rows": null,
            "grid_column": null,
            "grid_gap": null,
            "grid_row": null,
            "grid_template_areas": null,
            "grid_template_columns": null,
            "grid_template_rows": null,
            "height": null,
            "justify_content": null,
            "justify_items": null,
            "left": null,
            "margin": null,
            "max_height": null,
            "max_width": null,
            "min_height": null,
            "min_width": null,
            "object_fit": null,
            "object_position": null,
            "order": null,
            "overflow": null,
            "overflow_x": null,
            "overflow_y": null,
            "padding": null,
            "right": null,
            "top": null,
            "visibility": null,
            "width": null
          }
        },
        "26779ef1c4d44602aac86d8294394e85": {
          "model_module": "@jupyter-widgets/controls",
          "model_name": "ProgressStyleModel",
          "model_module_version": "1.5.0",
          "state": {
            "_model_module": "@jupyter-widgets/controls",
            "_model_module_version": "1.5.0",
            "_model_name": "ProgressStyleModel",
            "_view_count": null,
            "_view_module": "@jupyter-widgets/base",
            "_view_module_version": "1.2.0",
            "_view_name": "StyleView",
            "bar_color": null,
            "description_width": ""
          }
        },
        "fc6ceea60be146ae908d71e9b4200969": {
          "model_module": "@jupyter-widgets/base",
          "model_name": "LayoutModel",
          "model_module_version": "1.2.0",
          "state": {
            "_model_module": "@jupyter-widgets/base",
            "_model_module_version": "1.2.0",
            "_model_name": "LayoutModel",
            "_view_count": null,
            "_view_module": "@jupyter-widgets/base",
            "_view_module_version": "1.2.0",
            "_view_name": "LayoutView",
            "align_content": null,
            "align_items": null,
            "align_self": null,
            "border": null,
            "bottom": null,
            "display": null,
            "flex": null,
            "flex_flow": null,
            "grid_area": null,
            "grid_auto_columns": null,
            "grid_auto_flow": null,
            "grid_auto_rows": null,
            "grid_column": null,
            "grid_gap": null,
            "grid_row": null,
            "grid_template_areas": null,
            "grid_template_columns": null,
            "grid_template_rows": null,
            "height": null,
            "justify_content": null,
            "justify_items": null,
            "left": null,
            "margin": null,
            "max_height": null,
            "max_width": null,
            "min_height": null,
            "min_width": null,
            "object_fit": null,
            "object_position": null,
            "order": null,
            "overflow": null,
            "overflow_x": null,
            "overflow_y": null,
            "padding": null,
            "right": null,
            "top": null,
            "visibility": null,
            "width": null
          }
        },
        "20d6317d2d4a452499c2a8d9aecec7d6": {
          "model_module": "@jupyter-widgets/controls",
          "model_name": "DescriptionStyleModel",
          "model_module_version": "1.5.0",
          "state": {
            "_model_module": "@jupyter-widgets/controls",
            "_model_module_version": "1.5.0",
            "_model_name": "DescriptionStyleModel",
            "_view_count": null,
            "_view_module": "@jupyter-widgets/base",
            "_view_module_version": "1.2.0",
            "_view_name": "StyleView",
            "description_width": ""
          }
        }
      }
    }
  },
  "cells": [
    {
      "cell_type": "markdown",
      "metadata": {
        "id": "view-in-github",
        "colab_type": "text"
      },
      "source": [
        "<a href=\"https://colab.research.google.com/github/Sim98B/MushroomVision/blob/main/MushD4/MushDetector4.ipynb\" target=\"_parent\"><img src=\"https://colab.research.google.com/assets/colab-badge.svg\" alt=\"Open In Colab\"/></a>"
      ]
    },
    {
      "cell_type": "markdown",
      "source": [
        "# Mushroom Detector"
      ],
      "metadata": {
        "id": "gYWns4tlIVrL"
      }
    },
    {
      "cell_type": "markdown",
      "source": [
        "## Setup"
      ],
      "metadata": {
        "id": "bnhUWXVMIYvK"
      }
    },
    {
      "cell_type": "code",
      "source": [
        "# Importing main libraries\n",
        "try:\n",
        "  import torch\n",
        "  import torchvision\n",
        "  import torchinfo\n",
        "except:\n",
        "  print(\"[INFO] Torch and Torchvision not installed, downloading\")\n",
        "  !pip install -q torch torchvision torchinfo\n",
        "import torch\n",
        "print(f\"torch: {torch.__version__}\")\n",
        "import torchvision\n",
        "print(f\"torchvision: {torchvision.__version__}\")\n",
        "import torchinfo\n",
        "print(f\"torchinfo: {torchinfo.__version__}\")\n",
        "\n",
        "# Utilities\n",
        "import os\n",
        "from pathlib import Path\n",
        "import requests\n",
        "import shutil\n",
        "from timeit import default_timer as timer\n",
        "import itertools\n",
        "import warnings\n",
        "warnings.filterwarnings(\"ignore\")\n",
        "\n",
        "# Manipulation\n",
        "import numpy as np\n",
        "import pandas as pd\n",
        "\n",
        "# Plotting\n",
        "import matplotlib.pyplot as plt\n",
        "import seaborn as sns\n",
        "\n",
        "# Neural networks\n",
        "from torch import nn\n",
        "from torchvision import transforms\n",
        "import torchvision.models\n",
        "from torchinfo import summary\n",
        "\n",
        "# Metrics\n",
        "from sklearn.metrics import accuracy_score, f1_score, confusion_matrix\n",
        "\n",
        "# Cloning GitHub repository\n",
        "!git clone https://github.com/Sim98B/MushroomVision\n",
        "!mv MushroomVision/Modules/Libraries .\n",
        "\n",
        "# Custom functions\n",
        "from Libraries import data, extractors, model_ops, utils\n",
        "\n",
        "shutil.rmtree(\"MushroomVision\")"
      ],
      "metadata": {
        "id": "7gblxczj8Gc4",
        "colab": {
          "base_uri": "https://localhost:8080/"
        },
        "outputId": "4a9c7bec-86f3-466d-9e93-dc789b2906a1"
      },
      "execution_count": 2,
      "outputs": [
        {
          "output_type": "stream",
          "name": "stdout",
          "text": [
            "[INFO] Torch and Torchvision not installed, downloading\n",
            "torch: 2.1.0+cu118\n",
            "torchvision: 0.16.0+cu118\n",
            "torchinfo: 1.8.0\n",
            "Cloning into 'MushroomVision'...\n",
            "remote: Enumerating objects: 64132, done.\u001b[K\n",
            "remote: Counting objects: 100% (64132/64132), done.\u001b[K\n",
            "remote: Compressing objects: 100% (63017/63017), done.\u001b[K\n",
            "remote: Total 64132 (delta 1039), reused 64092 (delta 1012), pack-reused 0\u001b[K\n",
            "Receiving objects: 100% (64132/64132), 700.75 MiB | 33.55 MiB/s, done.\n",
            "Resolving deltas: 100% (1039/1039), done.\n",
            "Updating files: 100% (1739/1739), done.\n"
          ]
        }
      ]
    },
    {
      "cell_type": "code",
      "source": [
        "# Device agnostic code\n",
        "device = \"cuda\" if torch.cuda.is_available() else \"cpu\"\n",
        "device"
      ],
      "metadata": {
        "colab": {
          "base_uri": "https://localhost:8080/",
          "height": 35
        },
        "id": "UkwfrxBhFhnJ",
        "outputId": "cd02228c-450a-49a8-cb96-f32fbe1235e2"
      },
      "execution_count": 3,
      "outputs": [
        {
          "output_type": "execute_result",
          "data": {
            "text/plain": [
              "'cuda'"
            ],
            "application/vnd.google.colaboratory.intrinsic+json": {
              "type": "string"
            }
          },
          "metadata": {},
          "execution_count": 3
        }
      ]
    },
    {
      "cell_type": "markdown",
      "source": [
        "## Data: [CIFAR100](https://www.cs.toronto.edu/~kriz/cifar.html)\n",
        "The best way to identify those photos that contain photos is to use photos of 100 different subjects."
      ],
      "metadata": {
        "id": "yo9TZcmRIaeo"
      }
    },
    {
      "cell_type": "code",
      "source": [
        "tensor_transform = transforms.Compose([\n",
        "    transforms.ToTensor(),\n",
        "    transforms.Normalize((0.5, 0.5, 0.5), (0.5, 0.5, 0.5))\n",
        "])\n",
        "\n",
        "train_data = torchvision.datasets.CIFAR100(root='./data', train=True, download=True, transform = tensor_transform)\n",
        "test_data = torchvision.datasets.CIFAR100(root='./data', train=False, download=True, transform = tensor_transform)\n",
        "\n",
        "print(f\"{len(train_data)} images for train divided into {len(train_data.classes)} classes\")\n",
        "print(f\"{len(test_data)} images for train divided into {len(test_data.classes)} classes\")"
      ],
      "metadata": {
        "colab": {
          "base_uri": "https://localhost:8080/"
        },
        "id": "T7vmCqFkLyc_",
        "outputId": "4f446afa-9636-480f-cf3f-99b27e37144e"
      },
      "execution_count": 80,
      "outputs": [
        {
          "output_type": "stream",
          "name": "stdout",
          "text": [
            "Files already downloaded and verified\n",
            "Files already downloaded and verified\n",
            "50000 images for train divided into 100 classes\n",
            "10000 images for train divided into 100 classes\n"
          ]
        }
      ]
    },
    {
      "cell_type": "code",
      "source": [
        "# We have a mushroom class in this dataset, at index 51\n",
        "for i in range(len(train_data.classes)):\n",
        "  if train_data.classes[i] == \"mushroom\":\n",
        "    print(f\"{i+1}. {train_data.classes[i].upper()}\")\n",
        "\n",
        "class_names = train_data.classes"
      ],
      "metadata": {
        "id": "O8JPdAz4xtr3",
        "outputId": "ffaa666b-79a6-426b-9b0e-a2caa30ce20a",
        "colab": {
          "base_uri": "https://localhost:8080/"
        }
      },
      "execution_count": 75,
      "outputs": [
        {
          "output_type": "stream",
          "name": "stdout",
          "text": [
            "52. MUSHROOM\n"
          ]
        }
      ]
    },
    {
      "cell_type": "markdown",
      "source": [
        "## Baseline\n",
        "As in the [PyTorch example](https://pytorch.org/tutorials/beginner/blitz/cifar10_tutorial.html) we are going to use a simple convolutional baseline model."
      ],
      "metadata": {
        "id": "cmRRfO1NAFN3"
      }
    },
    {
      "cell_type": "code",
      "source": [
        "# Creating a simple convolutional model\n",
        "\n",
        "utils.set_seed()\n",
        "\n",
        "class Classifier(nn.Module):\n",
        "  def __init__(self):\n",
        "    super().__init__()\n",
        "    self.conv1 = nn.Conv2d(3, 6, 5)\n",
        "    self.pool = nn.MaxPool2d(2, 2)\n",
        "    self.conv2 = nn.Conv2d(6, 16, 5)\n",
        "    self.fc1 = nn.Linear(16 * 5 * 5, 120)\n",
        "    self.fc2 = nn.Linear(120, 84)\n",
        "    self.fc3 = nn.Linear(84, 100)\n",
        "\n",
        "  def forward(self, x):\n",
        "    x = self.pool(torch.nn.functional.relu(self.conv1(x)))\n",
        "    x = self.pool(torch.nn.functional.relu(self.conv2(x)))\n",
        "    x = torch.flatten(x, 1)\n",
        "    x = torch.nn.functional.relu(self.fc1(x))\n",
        "    x = torch.nn.functional.relu(self.fc2(x))\n",
        "    x = self.fc3(x)\n",
        "    return x\n",
        "\n",
        "model = Classifier()\n",
        "model"
      ],
      "metadata": {
        "colab": {
          "base_uri": "https://localhost:8080/"
        },
        "id": "2Mzf11lSABXf",
        "outputId": "e852c096-7282-4533-9722-bcbfc7bb8cc4"
      },
      "execution_count": 32,
      "outputs": [
        {
          "output_type": "execute_result",
          "data": {
            "text/plain": [
              "Classifier(\n",
              "  (conv1): Conv2d(3, 6, kernel_size=(5, 5), stride=(1, 1))\n",
              "  (pool): MaxPool2d(kernel_size=2, stride=2, padding=0, dilation=1, ceil_mode=False)\n",
              "  (conv2): Conv2d(6, 16, kernel_size=(5, 5), stride=(1, 1))\n",
              "  (fc1): Linear(in_features=400, out_features=120, bias=True)\n",
              "  (fc2): Linear(in_features=120, out_features=84, bias=True)\n",
              "  (fc3): Linear(in_features=84, out_features=100, bias=True)\n",
              ")"
            ]
          },
          "metadata": {},
          "execution_count": 32
        }
      ]
    },
    {
      "cell_type": "code",
      "source": [
        "# Dataloaders\n",
        "train_loader = torch.utils.data.DataLoader(dataset = train_data,\n",
        "                                           batch_size = 32,\n",
        "                                           shuffle = True,\n",
        "                                           num_workers = os.cpu_count(),\n",
        "                                           pin_memory = True)\n",
        "\n",
        "test_loader = torch.utils.data.DataLoader(dataset = test_data,\n",
        "                                          batch_size = 32,\n",
        "                                          shuffle = False,\n",
        "                                          num_workers = os.cpu_count(),\n",
        "                                          pin_memory = True)\n",
        "\n",
        "# Loss function and optimizer\n",
        "criterion = nn.CrossEntropyLoss()\n",
        "optimizer = torch.optim.SGD(model.parameters(), lr=0.001, momentum=0.9)"
      ],
      "metadata": {
        "id": "PYOuE_ptAhmV"
      },
      "execution_count": 83,
      "outputs": []
    },
    {
      "cell_type": "code",
      "source": [
        "# Trainig the model for 30 epochs\n",
        "results = model_ops.train(model = model,\n",
        "                          train_dataloader = train_loader,\n",
        "                          test_dataloader = test_loader,\n",
        "                          loss_function = criterion,\n",
        "                          optimizer = optimizer,\n",
        "                          metric = \"accuracy\",\n",
        "                          epochs = 30,\n",
        "                          device = device,\n",
        "                          verbose = 2)"
      ],
      "metadata": {
        "colab": {
          "base_uri": "https://localhost:8080/",
          "height": 270,
          "referenced_widgets": [
            "afda39930e9442108b3c05508a31ccfe",
            "d43683ffaf2741ccb7b7d9af4d44d7dc",
            "ec36efcba8244d87a73d9a718a4f32a2",
            "3504733b3eab4cdf8092791084253f29",
            "b7dd103916234cf28a7290129f4cb0e8",
            "bff94475b9b54f409e90479490defe69",
            "5d7e46a8ab0e4a2d997c1578e1a23f7a",
            "c19992ce898d4b2a8845a899851b03fd",
            "26779ef1c4d44602aac86d8294394e85",
            "fc6ceea60be146ae908d71e9b4200969",
            "20d6317d2d4a452499c2a8d9aecec7d6"
          ]
        },
        "id": "8PhjIyOEBIfX",
        "outputId": "7d9ff2e8-d00a-418f-f751-290d98c85c59"
      },
      "execution_count": null,
      "outputs": [
        {
          "output_type": "display_data",
          "data": {
            "text/plain": [
              "Training:   0%|          | 0/30 [00:00<?, ?it/s]"
            ],
            "application/vnd.jupyter.widget-view+json": {
              "version_major": 2,
              "version_minor": 0,
              "model_id": "afda39930e9442108b3c05508a31ccfe"
            }
          },
          "metadata": {}
        },
        {
          "output_type": "stream",
          "name": "stdout",
          "text": [
            "Epoch 01: Train Loss: 4.152 | Train Accuracy: 9.25% | Test Loss: 3.536 | Test Accuracy: 15.85%\n",
            "Epoch 02: Train Loss: 3.009 | Train Accuracy: 26.25% | Test Loss: 2.944 | Test Accuracy: 29.13%\n",
            "Epoch 03: Train Loss: 2.233 | Train Accuracy: 41.47% | Test Loss: 2.471 | Test Accuracy: 36.85%\n",
            "Epoch 04: Train Loss: 1.792 | Train Accuracy: 51.72% | Test Loss: 2.052 | Test Accuracy: 45.46%\n",
            "Epoch 05: Train Loss: 1.473 | Train Accuracy: 59.39% | Test Loss: 2.235 | Test Accuracy: 42.73%\n",
            "Epoch 06: Train Loss: 1.212 | Train Accuracy: 66.48% | Test Loss: 2.178 | Test Accuracy: 44.51%\n",
            "Epoch 07: Train Loss: 1.011 | Train Accuracy: 72.37% | Test Loss: 1.940 | Test Accuracy: 49.50%\n",
            "Epoch 08: Train Loss: 0.837 | Train Accuracy: 77.73% | Test Loss: 2.170 | Test Accuracy: 45.91%\n",
            "Epoch 09: Train Loss: 0.696 | Train Accuracy: 81.76% | Test Loss: 2.179 | Test Accuracy: 46.70%\n",
            "Epoch 10: Train Loss: 0.576 | Train Accuracy: 85.08% | Test Loss: 2.020 | Test Accuracy: 48.38%\n",
            "Epoch 11: Train Loss: 0.490 | Train Accuracy: 87.38% | Test Loss: 2.779 | Test Accuracy: 43.31%\n",
            "Epoch 12: Train Loss: 0.414 | Train Accuracy: 89.31% | Test Loss: 2.508 | Test Accuracy: 45.88%\n",
            "Epoch 13: Train Loss: 0.352 | Train Accuracy: 91.15% | Test Loss: 2.243 | Test Accuracy: 49.24%\n"
          ]
        }
      ]
    },
    {
      "cell_type": "code",
      "source": [],
      "metadata": {
        "id": "6vMlebC4EciX"
      },
      "execution_count": null,
      "outputs": []
    }
  ]
}