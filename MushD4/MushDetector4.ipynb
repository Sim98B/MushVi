{
  "nbformat": 4,
  "nbformat_minor": 0,
  "metadata": {
    "colab": {
      "provenance": [],
      "gpuType": "V100",
      "authorship_tag": "ABX9TyOnwovg24Stb78F6w1qmiGk",
      "include_colab_link": true
    },
    "kernelspec": {
      "name": "python3",
      "display_name": "Python 3"
    },
    "language_info": {
      "name": "python"
    },
    "accelerator": "GPU",
    "widgets": {
      "application/vnd.jupyter.widget-state+json": {
        "395dd6dbd3ff43479b5106c2bb828d90": {
          "model_module": "@jupyter-widgets/controls",
          "model_name": "HBoxModel",
          "model_module_version": "1.5.0",
          "state": {
            "_dom_classes": [],
            "_model_module": "@jupyter-widgets/controls",
            "_model_module_version": "1.5.0",
            "_model_name": "HBoxModel",
            "_view_count": null,
            "_view_module": "@jupyter-widgets/controls",
            "_view_module_version": "1.5.0",
            "_view_name": "HBoxView",
            "box_style": "",
            "children": [
              "IPY_MODEL_4028b87eab5a45018dbcf9b8b614bcf4",
              "IPY_MODEL_4adff15cc8c249c995ffe3c2b96ff691",
              "IPY_MODEL_1be2752648644e0c95a55ce670c1f62f"
            ],
            "layout": "IPY_MODEL_3516bd6822ef468b95f09225f67e9b84"
          }
        },
        "4028b87eab5a45018dbcf9b8b614bcf4": {
          "model_module": "@jupyter-widgets/controls",
          "model_name": "HTMLModel",
          "model_module_version": "1.5.0",
          "state": {
            "_dom_classes": [],
            "_model_module": "@jupyter-widgets/controls",
            "_model_module_version": "1.5.0",
            "_model_name": "HTMLModel",
            "_view_count": null,
            "_view_module": "@jupyter-widgets/controls",
            "_view_module_version": "1.5.0",
            "_view_name": "HTMLView",
            "description": "",
            "description_tooltip": null,
            "layout": "IPY_MODEL_60b286a6ef254f6aa12da1ca18cd0fdc",
            "placeholder": "​",
            "style": "IPY_MODEL_36c1b52c401744f891a22272e20a4008",
            "value": "Training:   0%"
          }
        },
        "4adff15cc8c249c995ffe3c2b96ff691": {
          "model_module": "@jupyter-widgets/controls",
          "model_name": "FloatProgressModel",
          "model_module_version": "1.5.0",
          "state": {
            "_dom_classes": [],
            "_model_module": "@jupyter-widgets/controls",
            "_model_module_version": "1.5.0",
            "_model_name": "FloatProgressModel",
            "_view_count": null,
            "_view_module": "@jupyter-widgets/controls",
            "_view_module_version": "1.5.0",
            "_view_name": "ProgressView",
            "bar_style": "",
            "description": "",
            "description_tooltip": null,
            "layout": "IPY_MODEL_ddc47e631dbf4907aa3ce3189cd9a4b1",
            "max": 5,
            "min": 0,
            "orientation": "horizontal",
            "style": "IPY_MODEL_25d44e9317de4c0cb5d0adaf2c8448ab",
            "value": 0
          }
        },
        "1be2752648644e0c95a55ce670c1f62f": {
          "model_module": "@jupyter-widgets/controls",
          "model_name": "HTMLModel",
          "model_module_version": "1.5.0",
          "state": {
            "_dom_classes": [],
            "_model_module": "@jupyter-widgets/controls",
            "_model_module_version": "1.5.0",
            "_model_name": "HTMLModel",
            "_view_count": null,
            "_view_module": "@jupyter-widgets/controls",
            "_view_module_version": "1.5.0",
            "_view_name": "HTMLView",
            "description": "",
            "description_tooltip": null,
            "layout": "IPY_MODEL_3088113f61634e2993a9909de9ebbcb0",
            "placeholder": "​",
            "style": "IPY_MODEL_f11a5b5b632d48358d3b24c8ab2220bc",
            "value": " 0/5 [00:00&lt;?, ?it/s]"
          }
        },
        "3516bd6822ef468b95f09225f67e9b84": {
          "model_module": "@jupyter-widgets/base",
          "model_name": "LayoutModel",
          "model_module_version": "1.2.0",
          "state": {
            "_model_module": "@jupyter-widgets/base",
            "_model_module_version": "1.2.0",
            "_model_name": "LayoutModel",
            "_view_count": null,
            "_view_module": "@jupyter-widgets/base",
            "_view_module_version": "1.2.0",
            "_view_name": "LayoutView",
            "align_content": null,
            "align_items": null,
            "align_self": null,
            "border": null,
            "bottom": null,
            "display": null,
            "flex": null,
            "flex_flow": null,
            "grid_area": null,
            "grid_auto_columns": null,
            "grid_auto_flow": null,
            "grid_auto_rows": null,
            "grid_column": null,
            "grid_gap": null,
            "grid_row": null,
            "grid_template_areas": null,
            "grid_template_columns": null,
            "grid_template_rows": null,
            "height": null,
            "justify_content": null,
            "justify_items": null,
            "left": null,
            "margin": null,
            "max_height": null,
            "max_width": null,
            "min_height": null,
            "min_width": null,
            "object_fit": null,
            "object_position": null,
            "order": null,
            "overflow": null,
            "overflow_x": null,
            "overflow_y": null,
            "padding": null,
            "right": null,
            "top": null,
            "visibility": null,
            "width": null
          }
        },
        "60b286a6ef254f6aa12da1ca18cd0fdc": {
          "model_module": "@jupyter-widgets/base",
          "model_name": "LayoutModel",
          "model_module_version": "1.2.0",
          "state": {
            "_model_module": "@jupyter-widgets/base",
            "_model_module_version": "1.2.0",
            "_model_name": "LayoutModel",
            "_view_count": null,
            "_view_module": "@jupyter-widgets/base",
            "_view_module_version": "1.2.0",
            "_view_name": "LayoutView",
            "align_content": null,
            "align_items": null,
            "align_self": null,
            "border": null,
            "bottom": null,
            "display": null,
            "flex": null,
            "flex_flow": null,
            "grid_area": null,
            "grid_auto_columns": null,
            "grid_auto_flow": null,
            "grid_auto_rows": null,
            "grid_column": null,
            "grid_gap": null,
            "grid_row": null,
            "grid_template_areas": null,
            "grid_template_columns": null,
            "grid_template_rows": null,
            "height": null,
            "justify_content": null,
            "justify_items": null,
            "left": null,
            "margin": null,
            "max_height": null,
            "max_width": null,
            "min_height": null,
            "min_width": null,
            "object_fit": null,
            "object_position": null,
            "order": null,
            "overflow": null,
            "overflow_x": null,
            "overflow_y": null,
            "padding": null,
            "right": null,
            "top": null,
            "visibility": null,
            "width": null
          }
        },
        "36c1b52c401744f891a22272e20a4008": {
          "model_module": "@jupyter-widgets/controls",
          "model_name": "DescriptionStyleModel",
          "model_module_version": "1.5.0",
          "state": {
            "_model_module": "@jupyter-widgets/controls",
            "_model_module_version": "1.5.0",
            "_model_name": "DescriptionStyleModel",
            "_view_count": null,
            "_view_module": "@jupyter-widgets/base",
            "_view_module_version": "1.2.0",
            "_view_name": "StyleView",
            "description_width": ""
          }
        },
        "ddc47e631dbf4907aa3ce3189cd9a4b1": {
          "model_module": "@jupyter-widgets/base",
          "model_name": "LayoutModel",
          "model_module_version": "1.2.0",
          "state": {
            "_model_module": "@jupyter-widgets/base",
            "_model_module_version": "1.2.0",
            "_model_name": "LayoutModel",
            "_view_count": null,
            "_view_module": "@jupyter-widgets/base",
            "_view_module_version": "1.2.0",
            "_view_name": "LayoutView",
            "align_content": null,
            "align_items": null,
            "align_self": null,
            "border": null,
            "bottom": null,
            "display": null,
            "flex": null,
            "flex_flow": null,
            "grid_area": null,
            "grid_auto_columns": null,
            "grid_auto_flow": null,
            "grid_auto_rows": null,
            "grid_column": null,
            "grid_gap": null,
            "grid_row": null,
            "grid_template_areas": null,
            "grid_template_columns": null,
            "grid_template_rows": null,
            "height": null,
            "justify_content": null,
            "justify_items": null,
            "left": null,
            "margin": null,
            "max_height": null,
            "max_width": null,
            "min_height": null,
            "min_width": null,
            "object_fit": null,
            "object_position": null,
            "order": null,
            "overflow": null,
            "overflow_x": null,
            "overflow_y": null,
            "padding": null,
            "right": null,
            "top": null,
            "visibility": null,
            "width": null
          }
        },
        "25d44e9317de4c0cb5d0adaf2c8448ab": {
          "model_module": "@jupyter-widgets/controls",
          "model_name": "ProgressStyleModel",
          "model_module_version": "1.5.0",
          "state": {
            "_model_module": "@jupyter-widgets/controls",
            "_model_module_version": "1.5.0",
            "_model_name": "ProgressStyleModel",
            "_view_count": null,
            "_view_module": "@jupyter-widgets/base",
            "_view_module_version": "1.2.0",
            "_view_name": "StyleView",
            "bar_color": null,
            "description_width": ""
          }
        },
        "3088113f61634e2993a9909de9ebbcb0": {
          "model_module": "@jupyter-widgets/base",
          "model_name": "LayoutModel",
          "model_module_version": "1.2.0",
          "state": {
            "_model_module": "@jupyter-widgets/base",
            "_model_module_version": "1.2.0",
            "_model_name": "LayoutModel",
            "_view_count": null,
            "_view_module": "@jupyter-widgets/base",
            "_view_module_version": "1.2.0",
            "_view_name": "LayoutView",
            "align_content": null,
            "align_items": null,
            "align_self": null,
            "border": null,
            "bottom": null,
            "display": null,
            "flex": null,
            "flex_flow": null,
            "grid_area": null,
            "grid_auto_columns": null,
            "grid_auto_flow": null,
            "grid_auto_rows": null,
            "grid_column": null,
            "grid_gap": null,
            "grid_row": null,
            "grid_template_areas": null,
            "grid_template_columns": null,
            "grid_template_rows": null,
            "height": null,
            "justify_content": null,
            "justify_items": null,
            "left": null,
            "margin": null,
            "max_height": null,
            "max_width": null,
            "min_height": null,
            "min_width": null,
            "object_fit": null,
            "object_position": null,
            "order": null,
            "overflow": null,
            "overflow_x": null,
            "overflow_y": null,
            "padding": null,
            "right": null,
            "top": null,
            "visibility": null,
            "width": null
          }
        },
        "f11a5b5b632d48358d3b24c8ab2220bc": {
          "model_module": "@jupyter-widgets/controls",
          "model_name": "DescriptionStyleModel",
          "model_module_version": "1.5.0",
          "state": {
            "_model_module": "@jupyter-widgets/controls",
            "_model_module_version": "1.5.0",
            "_model_name": "DescriptionStyleModel",
            "_view_count": null,
            "_view_module": "@jupyter-widgets/base",
            "_view_module_version": "1.2.0",
            "_view_name": "StyleView",
            "description_width": ""
          }
        }
      }
    }
  },
  "cells": [
    {
      "cell_type": "markdown",
      "metadata": {
        "id": "view-in-github",
        "colab_type": "text"
      },
      "source": [
        "<a href=\"https://colab.research.google.com/github/Sim98B/MushroomVision/blob/main/MushD4/MushDetector4.ipynb\" target=\"_parent\"><img src=\"https://colab.research.google.com/assets/colab-badge.svg\" alt=\"Open In Colab\"/></a>"
      ]
    },
    {
      "cell_type": "markdown",
      "source": [
        "# Mushroom Detector"
      ],
      "metadata": {
        "id": "gYWns4tlIVrL"
      }
    },
    {
      "cell_type": "markdown",
      "source": [
        "## Setup"
      ],
      "metadata": {
        "id": "bnhUWXVMIYvK"
      }
    },
    {
      "cell_type": "code",
      "source": [
        "\n",
        "# Importing main libraries\n",
        "try:\n",
        "  import torch\n",
        "  print(f\"torch: {torch.__version__}\")\n",
        "  import torchvision\n",
        "  print(f\"torchvision: {torchvision.__version__}\")\n",
        "  import torchinfo\n",
        "  print(f\"torchinfo: {torchinfo.__version__}\")\n",
        "except:\n",
        "  print(\"[INFO] Torch and Torchvision not installed, downloading\")\n",
        "  !pip install -q torch torchvision torchinfo\n",
        "  import torch\n",
        "  import torchvision\n",
        "  import torchinfo\n",
        "\n",
        "# Utilities\n",
        "import os\n",
        "from pathlib import Path\n",
        "import requests\n",
        "import shutil\n",
        "from timeit import default_timer as timer\n",
        "import warnings\n",
        "warnings.filterwarnings(\"ignore\")\n",
        "\n",
        "# Manipulation\n",
        "import numpy as np\n",
        "import pandas as pd\n",
        "\n",
        "# Plotting\n",
        "import matplotlib.pyplot as plt\n",
        "\n",
        "# Neural networks\n",
        "from torch import nn\n",
        "from torchvision import transforms\n",
        "import torchvision.models\n",
        "from torchinfo import summary\n",
        "\n",
        "# Metrics\n",
        "from sklearn.metrics import accuracy_score, f1_score, confusion_matrix\n",
        "\n",
        "# Cloning GitHub repository\n",
        "!git clone https://github.com/Sim98B/MushroomVision\n",
        "!mv MushroomVision/Modules/Libraries .\n",
        "\n",
        "# Custom functions\n",
        "from Libraries import data, extractors, model_ops, utils\n",
        "\n",
        "shutil.rmtree(\"MushroomVision\")"
      ],
      "metadata": {
        "id": "7gblxczj8Gc4",
        "colab": {
          "base_uri": "https://localhost:8080/"
        },
        "outputId": "f4d37415-975d-40cd-cfdd-e490b3696d50"
      },
      "execution_count": 1,
      "outputs": [
        {
          "output_type": "stream",
          "name": "stdout",
          "text": [
            "torch: 2.1.0+cu118\n",
            "torchvision: 0.16.0+cu118\n",
            "[INFO] Torch and Torchvision not installed, downloading\n",
            "Cloning into 'MushroomVision'...\n",
            "remote: Enumerating objects: 3827, done.\u001b[K\n",
            "remote: Counting objects: 100% (572/572), done.\u001b[K\n",
            "remote: Compressing objects: 100% (327/327), done.\u001b[K\n",
            "remote: Total 3827 (delta 272), reused 470 (delta 214), pack-reused 3255\u001b[K\n",
            "Receiving objects: 100% (3827/3827), 580.57 MiB | 12.06 MiB/s, done.\n",
            "Resolving deltas: 100% (961/961), done.\n",
            "Updating files: 100% (1739/1739), done.\n"
          ]
        }
      ]
    },
    {
      "cell_type": "code",
      "source": [
        "# Device agnostic code\n",
        "device = \"cuda\" if torch.cuda.is_available() else \"cpu\"\n",
        "device"
      ],
      "metadata": {
        "colab": {
          "base_uri": "https://localhost:8080/",
          "height": 35
        },
        "id": "UkwfrxBhFhnJ",
        "outputId": "c95b18e9-3538-4c6f-e66c-14dda42d3351"
      },
      "execution_count": 2,
      "outputs": [
        {
          "output_type": "execute_result",
          "data": {
            "text/plain": [
              "'cuda'"
            ],
            "application/vnd.google.colaboratory.intrinsic+json": {
              "type": "string"
            }
          },
          "metadata": {},
          "execution_count": 2
        }
      ]
    },
    {
      "cell_type": "markdown",
      "source": [
        "## Data: CIFAR100"
      ],
      "metadata": {
        "id": "yo9TZcmRIaeo"
      }
    },
    {
      "cell_type": "code",
      "source": [
        "tensor_transform = transforms.Compose([\n",
        "    transforms.ToTensor(),\n",
        "])\n",
        "\n",
        "train_data = torchvision.datasets.CIFAR100(root='./data', train=True, download=True, transform = tensor_transform)\n",
        "test_data = torchvision.datasets.CIFAR100(root='./data', train=False, download=True, transform = tensor_transform)\n",
        "\n",
        "print(f\"{len(train_data)} images for train divided into {len(train_data.classes)} classes\")\n",
        "print(f\"{len(test_data)} images for train divided into {len(test_data.classes)} classes\")"
      ],
      "metadata": {
        "colab": {
          "base_uri": "https://localhost:8080/"
        },
        "id": "T7vmCqFkLyc_",
        "outputId": "08251520-8df8-4a48-b0f2-0e38d8756f7d"
      },
      "execution_count": 3,
      "outputs": [
        {
          "output_type": "stream",
          "name": "stdout",
          "text": [
            "Downloading https://www.cs.toronto.edu/~kriz/cifar-100-python.tar.gz to ./data/cifar-100-python.tar.gz\n"
          ]
        },
        {
          "output_type": "stream",
          "name": "stderr",
          "text": [
            "100%|██████████| 169001437/169001437 [00:05<00:00, 29942154.24it/s]\n"
          ]
        },
        {
          "output_type": "stream",
          "name": "stdout",
          "text": [
            "Extracting ./data/cifar-100-python.tar.gz to ./data\n",
            "Files already downloaded and verified\n",
            "50000 images for train divided into 100 classes\n",
            "10000 images for train divided into 100 classes\n"
          ]
        }
      ]
    },
    {
      "cell_type": "code",
      "source": [
        "for i in range(len(train_data.classes)):\n",
        "  if train_data.classes[i] == \"mushroom\":\n",
        "    print(f\"{i+1}. {train_data.classes[i].upper()}\")\n",
        "  else:\n",
        "    print(f\"{i+1}. {train_data.classes[i]}\")"
      ],
      "metadata": {
        "id": "O8JPdAz4xtr3",
        "outputId": "33a4267b-9bef-4eaf-af97-0ad87dbdd66b",
        "colab": {
          "base_uri": "https://localhost:8080/"
        }
      },
      "execution_count": 4,
      "outputs": [
        {
          "output_type": "stream",
          "name": "stdout",
          "text": [
            "1. apple\n",
            "2. aquarium_fish\n",
            "3. baby\n",
            "4. bear\n",
            "5. beaver\n",
            "6. bed\n",
            "7. bee\n",
            "8. beetle\n",
            "9. bicycle\n",
            "10. bottle\n",
            "11. bowl\n",
            "12. boy\n",
            "13. bridge\n",
            "14. bus\n",
            "15. butterfly\n",
            "16. camel\n",
            "17. can\n",
            "18. castle\n",
            "19. caterpillar\n",
            "20. cattle\n",
            "21. chair\n",
            "22. chimpanzee\n",
            "23. clock\n",
            "24. cloud\n",
            "25. cockroach\n",
            "26. couch\n",
            "27. crab\n",
            "28. crocodile\n",
            "29. cup\n",
            "30. dinosaur\n",
            "31. dolphin\n",
            "32. elephant\n",
            "33. flatfish\n",
            "34. forest\n",
            "35. fox\n",
            "36. girl\n",
            "37. hamster\n",
            "38. house\n",
            "39. kangaroo\n",
            "40. keyboard\n",
            "41. lamp\n",
            "42. lawn_mower\n",
            "43. leopard\n",
            "44. lion\n",
            "45. lizard\n",
            "46. lobster\n",
            "47. man\n",
            "48. maple_tree\n",
            "49. motorcycle\n",
            "50. mountain\n",
            "51. mouse\n",
            "52. MUSHROOM\n",
            "53. oak_tree\n",
            "54. orange\n",
            "55. orchid\n",
            "56. otter\n",
            "57. palm_tree\n",
            "58. pear\n",
            "59. pickup_truck\n",
            "60. pine_tree\n",
            "61. plain\n",
            "62. plate\n",
            "63. poppy\n",
            "64. porcupine\n",
            "65. possum\n",
            "66. rabbit\n",
            "67. raccoon\n",
            "68. ray\n",
            "69. road\n",
            "70. rocket\n",
            "71. rose\n",
            "72. sea\n",
            "73. seal\n",
            "74. shark\n",
            "75. shrew\n",
            "76. skunk\n",
            "77. skyscraper\n",
            "78. snail\n",
            "79. snake\n",
            "80. spider\n",
            "81. squirrel\n",
            "82. streetcar\n",
            "83. sunflower\n",
            "84. sweet_pepper\n",
            "85. table\n",
            "86. tank\n",
            "87. telephone\n",
            "88. television\n",
            "89. tiger\n",
            "90. tractor\n",
            "91. train\n",
            "92. trout\n",
            "93. tulip\n",
            "94. turtle\n",
            "95. wardrobe\n",
            "96. whale\n",
            "97. willow_tree\n",
            "98. wolf\n",
            "99. woman\n",
            "100. worm\n"
          ]
        }
      ]
    },
    {
      "cell_type": "markdown",
      "source": [
        "### Creating a binary dataset"
      ],
      "metadata": {
        "id": "6zuEaFxeIeLY"
      }
    },
    {
      "cell_type": "code",
      "source": [
        "train_data = utils.binary_dataset(dataset = train_data,\n",
        "                                  target_classes = 51)\n",
        "\n",
        "test_data = utils.binary_dataset(dataset = test_data,\n",
        "                                 target_classes = 51)\n",
        "\n",
        "print(f\"Train non-mushrooms images: {train_data.targets.count(0)}, mushrooms images: {train_data.targets.count(1)}\")\n",
        "print(f\"Test non-mushrooms images: {test_data.targets.count(0)}, mushrooms images: {test_data.targets.count(1)}\")\n",
        "\n",
        "class_names = [\"Non mushroom\", \"Mushroom\"]"
      ],
      "metadata": {
        "id": "Ap91zXLY_vKs",
        "outputId": "1b99a74a-af53-4265-fb2c-c2620acd6121",
        "colab": {
          "base_uri": "https://localhost:8080/"
        }
      },
      "execution_count": 5,
      "outputs": [
        {
          "output_type": "stream",
          "name": "stdout",
          "text": [
            "Old classes: 100\n",
            "New classes: 2\n",
            "Old classes: 100\n",
            "New classes: 2\n",
            "Train non-mushrooms images: 49500, mushrooms images: 500\n",
            "Test non-mushrooms images: 9900, mushrooms images: 100\n"
          ]
        }
      ]
    },
    {
      "cell_type": "markdown",
      "source": [
        "## Setting up experiments"
      ],
      "metadata": {
        "id": "7UeutczwISyL"
      }
    },
    {
      "cell_type": "code",
      "source": [
        "ALEXNET, alexnet_transformer = extractors.create_alexnet(output_shape = len(class_names))\n",
        "VGG, vgg_transformer = extractors.create_vgg16(output_shape = len(class_names))\n",
        "DENSENET, densenet_transformer = extractors.create_densenet121(output_shape = len(class_names))\n",
        "RESNET, resnet_transformer = extractors.create_resnet50(output_shape = len(class_names))\n",
        "\n",
        "#for model in [ALEXNET, VGG, DENSENET, RESNET]:\n",
        "#  if model.__class__.__name__ != \"ResNet\":\n",
        "#    print(f\"{model.__class__.__name__} params:\\nTOTAL: {summary(model, input_size = (32, 3, 256, 256)).total_params:,}\\nTRAINABLE: {summary(model, input_size = (32, 3, 256, 256)).trainable_params:,}\")\n",
        "#  else:\n",
        "#    print(f\"{model.__class__.__name__} params:\\nTOTAL: {summary(model, input_size = (32, 3, 232, 232)).total_params:,}\\nTRAINABLE: {summary(model, input_size = (32, 3, 232, 232)).trainable_params:,}\")"
      ],
      "metadata": {
        "id": "WCAMx1T3I5du",
        "outputId": "5c8eec67-dbdb-4244-dcf3-045623651d79",
        "colab": {
          "base_uri": "https://localhost:8080/"
        }
      },
      "execution_count": 6,
      "outputs": [
        {
          "output_type": "stream",
          "name": "stderr",
          "text": [
            "Downloading: \"https://download.pytorch.org/models/alexnet-owt-7be5be79.pth\" to /root/.cache/torch/hub/checkpoints/alexnet-owt-7be5be79.pth\n",
            "100%|██████████| 233M/233M [00:03<00:00, 79.2MB/s]\n",
            "Downloading: \"https://download.pytorch.org/models/vgg16-397923af.pth\" to /root/.cache/torch/hub/checkpoints/vgg16-397923af.pth\n",
            "100%|██████████| 528M/528M [00:06<00:00, 80.6MB/s]\n",
            "Downloading: \"https://download.pytorch.org/models/densenet121-a639ec97.pth\" to /root/.cache/torch/hub/checkpoints/densenet121-a639ec97.pth\n",
            "100%|██████████| 30.8M/30.8M [00:00<00:00, 79.0MB/s]\n",
            "Downloading: \"https://download.pytorch.org/models/resnet50-11ad3fa6.pth\" to /root/.cache/torch/hub/checkpoints/resnet50-11ad3fa6.pth\n",
            "100%|██████████| 97.8M/97.8M [00:00<00:00, 158MB/s]\n"
          ]
        }
      ]
    },
    {
      "cell_type": "code",
      "source": [
        "utils.set_seed()\n",
        "\n",
        "experiment_number = 0\n",
        "\n",
        "for epoch in [5, 10, 15, 20]:\n",
        "\n",
        "  for extractor in [ALEXNET, VGG, DENSENET, RESNET]:\n",
        "    experiment_number += 1\n",
        "    print(f\"Experiment n°{experiment_number}, model: {extractor.__class__.__name__}, {epoch} epochs\")\n",
        "\n",
        "    if extractor == ALEXNET:\n",
        "\n",
        "      model, transformer = extractors.create_alexnet(output_shape = len(class_names))\n",
        "      train_data.transform = transformer\n",
        "      test_data.transform = transformer\n",
        "      experiment_train_loader = torch.utils.data.DataLoader(dataset = train_data,\n",
        "                                                            batch_size = 32,\n",
        "                                                            shuffle = True,\n",
        "                                                            num_workers = os.cpu_count(),\n",
        "                                                            pin_memory = True)\n",
        "      experiment_val_loader = torch.utils.data.DataLoader(dataset = test_data,\n",
        "                                                          batch_size = 32,\n",
        "                                                          shuffle = False,\n",
        "                                                          num_workers = os.cpu_count(),\n",
        "                                                          pin_memory = True)\n",
        "\n",
        "      criterion = nn.CrossEntropyLoss()\n",
        "      optimizer = torch.optim.Adam(params = model.parameters(), lr=0.001)\n",
        "\n",
        "      model_ops.train(model = model,\n",
        "                      train_dataloader = experiment_train_loader,\n",
        "                      test_dataloader = experiment_val_loader,\n",
        "                      loss_function = criterion,\n",
        "                      optimizer = optimizer,\n",
        "                      metric = \"f1\",\n",
        "                      epochs = epoch,\n",
        "                      device = device,\n",
        "                      writer = utils.create_writer(experiment_name = f\"{epoch}_epochs\",\n",
        "                                                   model_name = extractor.__class__.__name__),\n",
        "                      verbose = 1)\n",
        "\n",
        "    elif extractor == VGG:\n",
        "\n",
        "      model, transformer = extractors.create_vgg16(output_shape = len(class_names))\n",
        "      train_data.transform = transformer\n",
        "      test_data.transform = transformer\n",
        "      experiment_train_loader = torch.utils.data.DataLoader(dataset = train_data,\n",
        "                                                            batch_size = 32,\n",
        "                                                            shuffle = True,\n",
        "                                                            num_workers = os.cpu_count(),\n",
        "                                                            pin_memory = True)\n",
        "      experiment_val_loader = torch.utils.data.DataLoader(dataset = test_data,\n",
        "                                                          batch_size = 32,\n",
        "                                                          shuffle = False,\n",
        "                                                          num_workers = os.cpu_count(),\n",
        "                                                          pin_memory = True)\n",
        "\n",
        "      criterion = nn.CrossEntropyLoss()\n",
        "      optimizer = torch.optim.Adam(params = model.parameters(), lr=0.001)\n",
        "\n",
        "      model_ops.train(model = model,\n",
        "                      train_dataloader = experiment_train_loader,\n",
        "                      test_dataloader = experiment_val_loader,\n",
        "                      loss_function = criterion,\n",
        "                      optimizer = optimizer,\n",
        "                      metric = \"f1\",\n",
        "                      epochs = epoch,\n",
        "                      device = device,\n",
        "                      writer = utils.create_writer(experiment_name = f\"{epoch}_epochs\",\n",
        "                                                   model_name = extractor.__class__.__name__),\n",
        "                      verbose = 1)\n",
        "\n",
        "    elif extractor == DENSENET:\n",
        "\n",
        "      model, transformer = extractors.create_densenet121(output_shape = len(class_names))\n",
        "      train_data.transform = transformer\n",
        "      test_data.transform = transformer\n",
        "      experiment_train_loader = torch.utils.data.DataLoader(dataset = train_data,\n",
        "                                                            batch_size = 32,\n",
        "                                                            shuffle = True,\n",
        "                                                            num_workers = os.cpu_count(),\n",
        "                                                            pin_memory = True)\n",
        "      experiment_val_loader = torch.utils.data.DataLoader(dataset = test_data,\n",
        "                                                          batch_size = 32,\n",
        "                                                          shuffle = False,\n",
        "                                                          num_workers = os.cpu_count(),\n",
        "                                                          pin_memory = True)\n",
        "\n",
        "      criterion = nn.CrossEntropyLoss()\n",
        "      optimizer = torch.optim.Adam(params = model.parameters(), lr=0.001)\n",
        "\n",
        "      model_ops.train(model = model,\n",
        "                      train_dataloader = experiment_train_loader,\n",
        "                      test_dataloader = experiment_val_loader,\n",
        "                      loss_function = criterion,\n",
        "                      optimizer = optimizer,\n",
        "                      metric = \"f1\",\n",
        "                      epochs = epoch,\n",
        "                      device = device,\n",
        "                      writer = utils.create_writer(experiment_name = f\"{epoch}_epochs\",\n",
        "                                                   model_name = extractor.__class__.__name__),\n",
        "                      verbose = 1)\n",
        "\n",
        "    else:\n",
        "\n",
        "      model, transformer = extractors.create_resnet50(output_shape = len(class_names))\n",
        "      train_data.transform = transformer\n",
        "      test_data.transform = transformer\n",
        "      experiment_train_loader = torch.utils.data.DataLoader(dataset = train_data,\n",
        "                                                            batch_size = 32,\n",
        "                                                            shuffle = True,\n",
        "                                                            num_workers = os.cpu_count(),\n",
        "                                                            pin_memory = True)\n",
        "      experiment_val_loader = torch.utils.data.DataLoader(dataset = test_data,\n",
        "                                                          batch_size = 32,\n",
        "                                                          shuffle = False,\n",
        "                                                          num_workers = os.cpu_count(),\n",
        "                                                          pin_memory = True)\n",
        "\n",
        "      criterion = nn.CrossEntropyLoss()\n",
        "      optimizer = torch.optim.Adam(params = model.parameters(), lr=0.001)\n",
        "\n",
        "      model_ops.train(model = model,\n",
        "                      train_dataloader = experiment_train_loader,\n",
        "                      test_dataloader = experiment_val_loader,\n",
        "                      loss_function = criterion,\n",
        "                      optimizer = optimizer,\n",
        "                      metric = \"f1\",\n",
        "                      epochs = epoch,\n",
        "                      device = device,\n",
        "                      writer = utils.create_writer(experiment_name = f\"{epoch}_epochs\",\n",
        "                                                   model_name = extractor.__class__.__name__),\n",
        "                      verbose = 1)"
      ],
      "metadata": {
        "id": "hzUogRXBIR9H",
        "outputId": "1efb232e-e064-4711-cdad-6d949abe7d4d",
        "colab": {
          "base_uri": "https://localhost:8080/",
          "height": 451,
          "referenced_widgets": [
            "395dd6dbd3ff43479b5106c2bb828d90",
            "4028b87eab5a45018dbcf9b8b614bcf4",
            "4adff15cc8c249c995ffe3c2b96ff691",
            "1be2752648644e0c95a55ce670c1f62f",
            "3516bd6822ef468b95f09225f67e9b84",
            "60b286a6ef254f6aa12da1ca18cd0fdc",
            "36c1b52c401744f891a22272e20a4008",
            "ddc47e631dbf4907aa3ce3189cd9a4b1",
            "25d44e9317de4c0cb5d0adaf2c8448ab",
            "3088113f61634e2993a9909de9ebbcb0",
            "f11a5b5b632d48358d3b24c8ab2220bc"
          ]
        }
      },
      "execution_count": 7,
      "outputs": [
        {
          "output_type": "stream",
          "name": "stdout",
          "text": [
            "Experiment n°1, model: AlexNet, 5 epochs\n",
            "[INFO] Created SummaryWriter, saving to: runs/2023-11-24/5_epochs/AlexNet...\n"
          ]
        },
        {
          "output_type": "display_data",
          "data": {
            "text/plain": [
              "Training:   0%|          | 0/5 [00:00<?, ?it/s]"
            ],
            "application/vnd.jupyter.widget-view+json": {
              "version_major": 2,
              "version_minor": 0,
              "model_id": "395dd6dbd3ff43479b5106c2bb828d90"
            }
          },
          "metadata": {}
        },
        {
          "output_type": "error",
          "ename": "TypeError",
          "evalue": "ignored",
          "traceback": [
            "\u001b[0;31m---------------------------------------------------------------------------\u001b[0m",
            "\u001b[0;31mTypeError\u001b[0m                                 Traceback (most recent call last)",
            "\u001b[0;32m<ipython-input-7-a3096f57a341>\u001b[0m in \u001b[0;36m<cell line: 5>\u001b[0;34m()\u001b[0m\n\u001b[1;32m     28\u001b[0m       \u001b[0moptimizer\u001b[0m \u001b[0;34m=\u001b[0m \u001b[0mtorch\u001b[0m\u001b[0;34m.\u001b[0m\u001b[0moptim\u001b[0m\u001b[0;34m.\u001b[0m\u001b[0mAdam\u001b[0m\u001b[0;34m(\u001b[0m\u001b[0mparams\u001b[0m \u001b[0;34m=\u001b[0m \u001b[0mmodel\u001b[0m\u001b[0;34m.\u001b[0m\u001b[0mparameters\u001b[0m\u001b[0;34m(\u001b[0m\u001b[0;34m)\u001b[0m\u001b[0;34m,\u001b[0m \u001b[0mlr\u001b[0m\u001b[0;34m=\u001b[0m\u001b[0;36m0.001\u001b[0m\u001b[0;34m)\u001b[0m\u001b[0;34m\u001b[0m\u001b[0;34m\u001b[0m\u001b[0m\n\u001b[1;32m     29\u001b[0m \u001b[0;34m\u001b[0m\u001b[0m\n\u001b[0;32m---> 30\u001b[0;31m       model_ops.train(model = model,\n\u001b[0m\u001b[1;32m     31\u001b[0m                       \u001b[0mtrain_dataloader\u001b[0m \u001b[0;34m=\u001b[0m \u001b[0mexperiment_train_loader\u001b[0m\u001b[0;34m,\u001b[0m\u001b[0;34m\u001b[0m\u001b[0;34m\u001b[0m\u001b[0m\n\u001b[1;32m     32\u001b[0m                       \u001b[0mtest_dataloader\u001b[0m \u001b[0;34m=\u001b[0m \u001b[0mexperiment_val_loader\u001b[0m\u001b[0;34m,\u001b[0m\u001b[0;34m\u001b[0m\u001b[0;34m\u001b[0m\u001b[0m\n",
            "\u001b[0;32m/content/Libraries/model_ops.py\u001b[0m in \u001b[0;36mtrain\u001b[0;34m(model, train_dataloader, test_dataloader, loss_function, optimizer, metric, epochs, device, writer, verbose, seed)\u001b[0m\n\u001b[1;32m    205\u001b[0m \u001b[0;34m\u001b[0m\u001b[0m\n\u001b[1;32m    206\u001b[0m   \u001b[0;32mfor\u001b[0m \u001b[0mepoch\u001b[0m \u001b[0;32min\u001b[0m \u001b[0mrange\u001b[0m\u001b[0;34m(\u001b[0m\u001b[0mepochs\u001b[0m\u001b[0;34m)\u001b[0m\u001b[0;34m:\u001b[0m\u001b[0;34m\u001b[0m\u001b[0;34m\u001b[0m\u001b[0m\n\u001b[0;32m--> 207\u001b[0;31m     train_loss, train_metric = train_step(model = model,\n\u001b[0m\u001b[1;32m    208\u001b[0m                                           \u001b[0mdataloader\u001b[0m \u001b[0;34m=\u001b[0m \u001b[0mtrain_dataloader\u001b[0m\u001b[0;34m,\u001b[0m\u001b[0;34m\u001b[0m\u001b[0;34m\u001b[0m\u001b[0m\n\u001b[1;32m    209\u001b[0m                                           \u001b[0mloss_function\u001b[0m \u001b[0;34m=\u001b[0m \u001b[0mloss_function\u001b[0m\u001b[0;34m,\u001b[0m\u001b[0;34m\u001b[0m\u001b[0;34m\u001b[0m\u001b[0m\n",
            "\u001b[0;32m/content/Libraries/model_ops.py\u001b[0m in \u001b[0;36mtrain_step\u001b[0;34m(model, dataloader, loss_function, optimizer, metric, device, seed)\u001b[0m\n\u001b[1;32m    301\u001b[0m     \u001b[0moptimizer\u001b[0m\u001b[0;34m.\u001b[0m\u001b[0mstep\u001b[0m\u001b[0;34m(\u001b[0m\u001b[0;34m)\u001b[0m\u001b[0;34m\u001b[0m\u001b[0;34m\u001b[0m\u001b[0m\n\u001b[1;32m    302\u001b[0m     \u001b[0my_pred_class\u001b[0m \u001b[0;34m=\u001b[0m \u001b[0mtorch\u001b[0m\u001b[0;34m.\u001b[0m\u001b[0margmax\u001b[0m\u001b[0;34m(\u001b[0m\u001b[0mtorch\u001b[0m\u001b[0;34m.\u001b[0m\u001b[0msoftmax\u001b[0m\u001b[0;34m(\u001b[0m\u001b[0my_pred\u001b[0m\u001b[0;34m,\u001b[0m \u001b[0mdim\u001b[0m\u001b[0;34m=\u001b[0m\u001b[0;36m1\u001b[0m\u001b[0;34m)\u001b[0m\u001b[0;34m,\u001b[0m \u001b[0mdim\u001b[0m\u001b[0;34m=\u001b[0m\u001b[0;36m1\u001b[0m\u001b[0;34m)\u001b[0m\u001b[0;34m\u001b[0m\u001b[0;34m\u001b[0m\u001b[0m\n\u001b[0;32m--> 303\u001b[0;31m     \u001b[0;32mif\u001b[0m \u001b[0mmetric\u001b[0m \u001b[0;34m==\u001b[0m \u001b[0;34m\"f1\"\u001b[0m \u001b[0;32mand\u001b[0m \u001b[0mlen\u001b[0m\u001b[0;34m(\u001b[0m\u001b[0mnp\u001b[0m\u001b[0;34m.\u001b[0m\u001b[0munique\u001b[0m\u001b[0;34m(\u001b[0m\u001b[0my\u001b[0m\u001b[0;34m)\u001b[0m\u001b[0;34m)\u001b[0m\u001b[0;34m:\u001b[0m\u001b[0;34m\u001b[0m\u001b[0;34m\u001b[0m\u001b[0m\n\u001b[0m\u001b[1;32m    304\u001b[0m       \u001b[0mtrain_metric\u001b[0m \u001b[0;34m+=\u001b[0m \u001b[0mmetric_dict\u001b[0m\u001b[0;34m[\u001b[0m\u001b[0mmetric\u001b[0m\u001b[0;34m]\u001b[0m\u001b[0;34m(\u001b[0m\u001b[0my\u001b[0m\u001b[0;34m.\u001b[0m\u001b[0mcpu\u001b[0m\u001b[0;34m(\u001b[0m\u001b[0;34m)\u001b[0m\u001b[0;34m,\u001b[0m \u001b[0my_pred_class\u001b[0m\u001b[0;34m.\u001b[0m\u001b[0mcpu\u001b[0m\u001b[0;34m(\u001b[0m\u001b[0;34m)\u001b[0m\u001b[0;34m,\u001b[0m \u001b[0maverage\u001b[0m \u001b[0;34m=\u001b[0m \u001b[0;34m\"weighted\"\u001b[0m\u001b[0;34m)\u001b[0m\u001b[0;34m\u001b[0m\u001b[0;34m\u001b[0m\u001b[0m\n\u001b[1;32m    305\u001b[0m     \u001b[0;32melse\u001b[0m\u001b[0;34m:\u001b[0m\u001b[0;34m\u001b[0m\u001b[0;34m\u001b[0m\u001b[0m\n",
            "\u001b[0;32m/usr/local/lib/python3.10/dist-packages/numpy/core/overrides.py\u001b[0m in \u001b[0;36munique\u001b[0;34m(*args, **kwargs)\u001b[0m\n",
            "\u001b[0;32m/usr/local/lib/python3.10/dist-packages/numpy/lib/arraysetops.py\u001b[0m in \u001b[0;36munique\u001b[0;34m(ar, return_index, return_inverse, return_counts, axis, equal_nan)\u001b[0m\n\u001b[1;32m    270\u001b[0m \u001b[0;34m\u001b[0m\u001b[0m\n\u001b[1;32m    271\u001b[0m     \"\"\"\n\u001b[0;32m--> 272\u001b[0;31m     \u001b[0mar\u001b[0m \u001b[0;34m=\u001b[0m \u001b[0mnp\u001b[0m\u001b[0;34m.\u001b[0m\u001b[0masanyarray\u001b[0m\u001b[0;34m(\u001b[0m\u001b[0mar\u001b[0m\u001b[0;34m)\u001b[0m\u001b[0;34m\u001b[0m\u001b[0;34m\u001b[0m\u001b[0m\n\u001b[0m\u001b[1;32m    273\u001b[0m     \u001b[0;32mif\u001b[0m \u001b[0maxis\u001b[0m \u001b[0;32mis\u001b[0m \u001b[0;32mNone\u001b[0m\u001b[0;34m:\u001b[0m\u001b[0;34m\u001b[0m\u001b[0;34m\u001b[0m\u001b[0m\n\u001b[1;32m    274\u001b[0m         ret = _unique1d(ar, return_index, return_inverse, return_counts, \n",
            "\u001b[0;32m/usr/local/lib/python3.10/dist-packages/torch/_tensor.py\u001b[0m in \u001b[0;36m__array__\u001b[0;34m(self, dtype)\u001b[0m\n\u001b[1;32m   1028\u001b[0m             \u001b[0;32mreturn\u001b[0m \u001b[0mhandle_torch_function\u001b[0m\u001b[0;34m(\u001b[0m\u001b[0mTensor\u001b[0m\u001b[0;34m.\u001b[0m\u001b[0m__array__\u001b[0m\u001b[0;34m,\u001b[0m \u001b[0;34m(\u001b[0m\u001b[0mself\u001b[0m\u001b[0;34m,\u001b[0m\u001b[0;34m)\u001b[0m\u001b[0;34m,\u001b[0m \u001b[0mself\u001b[0m\u001b[0;34m,\u001b[0m \u001b[0mdtype\u001b[0m\u001b[0;34m=\u001b[0m\u001b[0mdtype\u001b[0m\u001b[0;34m)\u001b[0m\u001b[0;34m\u001b[0m\u001b[0;34m\u001b[0m\u001b[0m\n\u001b[1;32m   1029\u001b[0m         \u001b[0;32mif\u001b[0m \u001b[0mdtype\u001b[0m \u001b[0;32mis\u001b[0m \u001b[0;32mNone\u001b[0m\u001b[0;34m:\u001b[0m\u001b[0;34m\u001b[0m\u001b[0;34m\u001b[0m\u001b[0m\n\u001b[0;32m-> 1030\u001b[0;31m             \u001b[0;32mreturn\u001b[0m \u001b[0mself\u001b[0m\u001b[0;34m.\u001b[0m\u001b[0mnumpy\u001b[0m\u001b[0;34m(\u001b[0m\u001b[0;34m)\u001b[0m\u001b[0;34m\u001b[0m\u001b[0;34m\u001b[0m\u001b[0m\n\u001b[0m\u001b[1;32m   1031\u001b[0m         \u001b[0;32melse\u001b[0m\u001b[0;34m:\u001b[0m\u001b[0;34m\u001b[0m\u001b[0;34m\u001b[0m\u001b[0m\n\u001b[1;32m   1032\u001b[0m             \u001b[0;32mreturn\u001b[0m \u001b[0mself\u001b[0m\u001b[0;34m.\u001b[0m\u001b[0mnumpy\u001b[0m\u001b[0;34m(\u001b[0m\u001b[0;34m)\u001b[0m\u001b[0;34m.\u001b[0m\u001b[0mastype\u001b[0m\u001b[0;34m(\u001b[0m\u001b[0mdtype\u001b[0m\u001b[0;34m,\u001b[0m \u001b[0mcopy\u001b[0m\u001b[0;34m=\u001b[0m\u001b[0;32mFalse\u001b[0m\u001b[0;34m)\u001b[0m\u001b[0;34m\u001b[0m\u001b[0;34m\u001b[0m\u001b[0m\n",
            "\u001b[0;31mTypeError\u001b[0m: can't convert cuda:0 device type tensor to numpy. Use Tensor.cpu() to copy the tensor to host memory first."
          ]
        }
      ]
    },
    {
      "cell_type": "code",
      "source": [
        "a = torch.Tensor([1,2,3]).to(\"cuda\")\n",
        "b = torch.Tensor([1,2,2]).to(\"cuda\")\n",
        "\n",
        "f1_score(a.cpu(),b.cpu(), average = \"weighted\")"
      ],
      "metadata": {
        "id": "8-YJy4rGRg9V"
      },
      "execution_count": null,
      "outputs": []
    },
    {
      "cell_type": "code",
      "source": [
        "%load_ext tensorboard\n",
        "%tensorboard --logdir runs"
      ],
      "metadata": {
        "id": "Qp_pO3V5Kk5U"
      },
      "execution_count": null,
      "outputs": []
    }
  ]
}