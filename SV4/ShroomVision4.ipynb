{
  "nbformat": 4,
  "nbformat_minor": 0,
  "metadata": {
    "colab": {
      "provenance": [],
      "authorship_tag": "ABX9TyNTHRXLnboKpTp+QWz1Bsin",
      "include_colab_link": true
    },
    "kernelspec": {
      "name": "python3",
      "display_name": "Python 3"
    },
    "language_info": {
      "name": "python"
    }
  },
  "cells": [
    {
      "cell_type": "markdown",
      "metadata": {
        "id": "view-in-github",
        "colab_type": "text"
      },
      "source": [
        "<a href=\"https://colab.research.google.com/github/Sim98B/ShroomVision/blob/main/SV4/ShroomVision4.ipynb\" target=\"_parent\"><img src=\"https://colab.research.google.com/assets/colab-badge.svg\" alt=\"Open In Colab\"/></a>"
      ]
    },
    {
      "cell_type": "code",
      "execution_count": 1,
      "metadata": {
        "colab": {
          "base_uri": "https://localhost:8080/",
          "height": 378
        },
        "id": "mIqrVp82Rvon",
        "outputId": "fd322eb6-284a-4304-8d28-a748782791ac"
      },
      "outputs": [
        {
          "output_type": "stream",
          "name": "stdout",
          "text": [
            "torch: 2.1.0+cu118\n",
            "torchvision: 0.16.0+cu118\n",
            "Cloning into 'ShroomVision'...\n",
            "remote: Enumerating objects: 2127, done.\u001b[K\n",
            "remote: Counting objects: 100% (580/580), done.\u001b[K\n",
            "remote: Compressing objects: 100% (435/435), done.\u001b[K\n",
            "remote: Total 2127 (delta 138), reused 549 (delta 124), pack-reused 1547\u001b[K\n",
            "Receiving objects: 100% (2127/2127), 244.87 MiB | 34.97 MiB/s, done.\n",
            "Resolving deltas: 100% (274/274), done.\n",
            "Updating files: 100% (1456/1456), done.\n"
          ]
        },
        {
          "output_type": "error",
          "ename": "NameError",
          "evalue": "ignored",
          "traceback": [
            "\u001b[0;31m---------------------------------------------------------------------------\u001b[0m",
            "\u001b[0;31mNameError\u001b[0m                                 Traceback (most recent call last)",
            "\u001b[0;32m<ipython-input-1-102afa12420c>\u001b[0m in \u001b[0;36m<cell line: 31>\u001b[0;34m()\u001b[0m\n\u001b[1;32m     29\u001b[0m \u001b[0;32mfrom\u001b[0m \u001b[0mLibraries\u001b[0m \u001b[0;32mimport\u001b[0m \u001b[0mutils\u001b[0m\u001b[0;34m\u001b[0m\u001b[0;34m\u001b[0m\u001b[0m\n\u001b[1;32m     30\u001b[0m \u001b[0;34m\u001b[0m\u001b[0m\n\u001b[0;32m---> 31\u001b[0;31m \u001b[0mos\u001b[0m\u001b[0;34m.\u001b[0m\u001b[0mremove\u001b[0m\u001b[0;34m(\u001b[0m\u001b[0mShroomVision\u001b[0m\u001b[0;34m)\u001b[0m\u001b[0;34m\u001b[0m\u001b[0;34m\u001b[0m\u001b[0m\n\u001b[0m",
            "\u001b[0;31mNameError\u001b[0m: name 'ShroomVision' is not defined"
          ]
        }
      ],
      "source": [
        "try:\n",
        "  import torch\n",
        "  print(f\"torch: {torch.__version__}\")\n",
        "  import torchvision\n",
        "  print(f\"torchvision: {torchvision.__version__}\")\n",
        "except:\n",
        "  print(\"Torch and Torchvision not installed, downloading\")\n",
        "  !pip install torch torchvision\n",
        "  import torch\n",
        "  import torchvision\n",
        "\n",
        "import os\n",
        "import zipfile\n",
        "from pathlib import Path\n",
        "import requests\n",
        "import shutil\n",
        "\n",
        "import numpy as np\n",
        "import pandas as pd\n",
        "\n",
        "import matplotlib.pyplot as plt\n",
        "\n",
        "from torch import nn\n",
        "from torchvision import transforms\n",
        "\n",
        "!git clone https://github.com/Sim98B/ShroomVision\n",
        "!mv ShroomVision/Modules/Libraries .\n",
        "\n",
        "from Libraries import data\n",
        "from Libraries import utils\n",
        "\n",
        "shutil.rmtree(\"ShroomVision\")"
      ]
    },
    {
      "cell_type": "code",
      "source": [
        "device = \"cuda\" if torch.cuda.is_available() else \"cpu\"\n",
        "device"
      ],
      "metadata": {
        "colab": {
          "base_uri": "https://localhost:8080/",
          "height": 35
        },
        "id": "RO3EBsDxahdh",
        "outputId": "16e649bc-6128-4a32-e285-3d7378452a2d"
      },
      "execution_count": 3,
      "outputs": [
        {
          "output_type": "execute_result",
          "data": {
            "text/plain": [
              "'cpu'"
            ],
            "application/vnd.google.colaboratory.intrinsic+json": {
              "type": "string"
            }
          },
          "metadata": {},
          "execution_count": 3
        }
      ]
    },
    {
      "cell_type": "code",
      "source": [
        "data_path = data.download_data(source = \"https://github.com/Sim98B/ShroomVision/raw/main/Data/SV4_data.zip\",\n",
        "                               remove_source = True)\n",
        "data_path"
      ],
      "metadata": {
        "colab": {
          "base_uri": "https://localhost:8080/"
        },
        "id": "sky0q4y8sqiA",
        "outputId": "08caf800-88c1-4339-c8ab-ade81e5775a5"
      },
      "execution_count": 4,
      "outputs": [
        {
          "output_type": "stream",
          "name": "stdout",
          "text": [
            "[INFO] Did not find data directory, creating one...\n",
            "[INFO] Downloading SV4_data.zip from https://github.com/Sim98B/ShroomVision/raw/main/Data/SV4_data.zip...\n",
            "[INFO] Unzipping SV4_data.zip data...\n"
          ]
        },
        {
          "output_type": "execute_result",
          "data": {
            "text/plain": [
              "PosixPath('data')"
            ]
          },
          "metadata": {},
          "execution_count": 4
        }
      ]
    },
    {
      "cell_type": "code",
      "source": [
        "data.inspect_dir(data_path)"
      ],
      "metadata": {
        "colab": {
          "base_uri": "https://localhost:8080/"
        },
        "id": "yJqIpe8HxAEh",
        "outputId": "b99706b3-6393-49e9-b634-d31796a5e424"
      },
      "execution_count": null,
      "outputs": [
        {
          "output_type": "stream",
          "name": "stdout",
          "text": [
            "There are 1 directory/ies and 0 file/s in data\n",
            "There are 3 directory/ies and 0 file/s in data/MV4_data\n",
            "There are 4 directory/ies and 0 file/s in data/MV4_data/train_data\n",
            "There are 0 directory/ies and 200 file/s in data/MV4_data/train_data/amanita_vaginata\n",
            "There are 0 directory/ies and 200 file/s in data/MV4_data/train_data/amanita_muscaria\n",
            "There are 0 directory/ies and 200 file/s in data/MV4_data/train_data/boletus_edulis\n",
            "There are 0 directory/ies and 200 file/s in data/MV4_data/train_data/boletus_erythropus\n",
            "There are 4 directory/ies and 0 file/s in data/MV4_data/test_data\n",
            "There are 0 directory/ies and 51 file/s in data/MV4_data/test_data/amanita_vaginata\n",
            "There are 0 directory/ies and 172 file/s in data/MV4_data/test_data/amanita_muscaria\n",
            "There are 0 directory/ies and 111 file/s in data/MV4_data/test_data/boletus_edulis\n",
            "There are 0 directory/ies and 39 file/s in data/MV4_data/test_data/boletus_erythropus\n",
            "There are 4 directory/ies and 0 file/s in data/MV4_data/val_data\n",
            "There are 0 directory/ies and 64 file/s in data/MV4_data/val_data/amanita_vaginata\n",
            "There are 0 directory/ies and 64 file/s in data/MV4_data/val_data/amanita_muscaria\n",
            "There are 0 directory/ies and 64 file/s in data/MV4_data/val_data/boletus_edulis\n",
            "There are 0 directory/ies and 64 file/s in data/MV4_data/val_data/boletus_erythropus\n"
          ]
        }
      ]
    }
  ]
}