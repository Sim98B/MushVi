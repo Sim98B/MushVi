{
  "nbformat": 4,
  "nbformat_minor": 0,
  "metadata": {
    "colab": {
      "provenance": [],
      "authorship_tag": "ABX9TyMiK+NGZ61zQZO4yBHlu12X",
      "include_colab_link": true
    },
    "kernelspec": {
      "name": "python3",
      "display_name": "Python 3"
    },
    "language_info": {
      "name": "python"
    }
  },
  "cells": [
    {
      "cell_type": "markdown",
      "metadata": {
        "id": "view-in-github",
        "colab_type": "text"
      },
      "source": [
        "<a href=\"https://colab.research.google.com/github/Sim98B/ShroomVision/blob/main/SV4/ShroomVision4Deployment.ipynb\" target=\"_parent\"><img src=\"https://colab.research.google.com/assets/colab-badge.svg\" alt=\"Open In Colab\"/></a>"
      ]
    },
    {
      "cell_type": "markdown",
      "source": [
        "# Shroom Vision 4 Deployment"
      ],
      "metadata": {
        "id": "FONkgfQ7FAAB"
      }
    },
    {
      "cell_type": "markdown",
      "source": [
        "## Setup"
      ],
      "metadata": {
        "id": "_OqRANnWE-Ym"
      }
    },
    {
      "cell_type": "code",
      "execution_count": null,
      "metadata": {
        "id": "OIZ_cZMU_8VF"
      },
      "outputs": [],
      "source": [
        "# Importing main libraries\n",
        "try:\n",
        "  import torch\n",
        "  print(f\"torch: {torch.__version__}\")\n",
        "  import torchvision\n",
        "  print(f\"torchvision: {torchvision.__version__}\")\n",
        "  import torchinfo\n",
        "  print(f\"torchinfo: {torchinfo.__version__}\")\n",
        "except:\n",
        "  print(\"[INFO] Torch and Torchvision not installed, downloading\")\n",
        "  !pip install -q torch torchvision torchinfo\n",
        "  import torch\n",
        "  import torchvision\n",
        "  import torchinfo\n",
        "\n",
        "# Utilities\n",
        "import os\n",
        "from pathlib import Path\n",
        "import requests\n",
        "import shutil\n",
        "from timeit import default_timer as timer\n",
        "import warnings\n",
        "warnings.filterwarnings(\"ignore\")\n",
        "\n",
        "# Cloning GitHub repository\n",
        "!git clone https://github.com/Sim98B/ShroomVision\n",
        "!mv ShroomVision/Modules/Libraries .\n",
        "!mv ShroomVision/Data .\n",
        "!mv ShroomVision/SV4/Models .\n",
        "\n",
        "# Custom functions\n",
        "from Libraries import data, extractors, model_ops, utils\n",
        "\n",
        "shutil.rmtree(\"ShroomVision\")"
      ]
    }
  ]
}