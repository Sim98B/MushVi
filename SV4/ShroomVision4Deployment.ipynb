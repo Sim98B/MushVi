{
  "nbformat": 4,
  "nbformat_minor": 0,
  "metadata": {
    "colab": {
      "provenance": [],
      "authorship_tag": "ABX9TyMU8pBrZzVxqA0LYYFP9BB6",
      "include_colab_link": true
    },
    "kernelspec": {
      "name": "python3",
      "display_name": "Python 3"
    },
    "language_info": {
      "name": "python"
    },
    "widgets": {
      "application/vnd.jupyter.widget-state+json": {
        "ccb35b4b067544b3983d27275ec2d1bf": {
          "model_module": "@jupyter-widgets/controls",
          "model_name": "HBoxModel",
          "model_module_version": "1.5.0",
          "state": {
            "_dom_classes": [],
            "_model_module": "@jupyter-widgets/controls",
            "_model_module_version": "1.5.0",
            "_model_name": "HBoxModel",
            "_view_count": null,
            "_view_module": "@jupyter-widgets/controls",
            "_view_module_version": "1.5.0",
            "_view_name": "HBoxView",
            "box_style": "",
            "children": [
              "IPY_MODEL_8d24448dfd5747ebbc736dac495acd9f",
              "IPY_MODEL_ffafe8faa631410b8d5cadb528252cb1",
              "IPY_MODEL_f2865c3fc3c24b35b08256a9cf768fd2"
            ],
            "layout": "IPY_MODEL_4387ad42ca444e958e1a094384627ab3"
          }
        },
        "8d24448dfd5747ebbc736dac495acd9f": {
          "model_module": "@jupyter-widgets/controls",
          "model_name": "HTMLModel",
          "model_module_version": "1.5.0",
          "state": {
            "_dom_classes": [],
            "_model_module": "@jupyter-widgets/controls",
            "_model_module_version": "1.5.0",
            "_model_name": "HTMLModel",
            "_view_count": null,
            "_view_module": "@jupyter-widgets/controls",
            "_view_module_version": "1.5.0",
            "_view_name": "HTMLView",
            "description": "",
            "description_tooltip": null,
            "layout": "IPY_MODEL_bc7dc7ba83d14ab19bf743b9c609b718",
            "placeholder": "​",
            "style": "IPY_MODEL_56f886d50b8540d6b1f4c2e9d11d2040",
            "value": "Predicting: 100%"
          }
        },
        "ffafe8faa631410b8d5cadb528252cb1": {
          "model_module": "@jupyter-widgets/controls",
          "model_name": "FloatProgressModel",
          "model_module_version": "1.5.0",
          "state": {
            "_dom_classes": [],
            "_model_module": "@jupyter-widgets/controls",
            "_model_module_version": "1.5.0",
            "_model_name": "FloatProgressModel",
            "_view_count": null,
            "_view_module": "@jupyter-widgets/controls",
            "_view_module_version": "1.5.0",
            "_view_name": "ProgressView",
            "bar_style": "success",
            "description": "",
            "description_tooltip": null,
            "layout": "IPY_MODEL_7952b27dda78408f9210497929d96f68",
            "max": 256,
            "min": 0,
            "orientation": "horizontal",
            "style": "IPY_MODEL_1263054d0da04ece91cdc19399fcda35",
            "value": 256
          }
        },
        "f2865c3fc3c24b35b08256a9cf768fd2": {
          "model_module": "@jupyter-widgets/controls",
          "model_name": "HTMLModel",
          "model_module_version": "1.5.0",
          "state": {
            "_dom_classes": [],
            "_model_module": "@jupyter-widgets/controls",
            "_model_module_version": "1.5.0",
            "_model_name": "HTMLModel",
            "_view_count": null,
            "_view_module": "@jupyter-widgets/controls",
            "_view_module_version": "1.5.0",
            "_view_name": "HTMLView",
            "description": "",
            "description_tooltip": null,
            "layout": "IPY_MODEL_fba0bb3304a74ebe91e5906fbc874135",
            "placeholder": "​",
            "style": "IPY_MODEL_7646f4a173c847a888c3dae1da1a7d70",
            "value": " 256/256 [01:49&lt;00:00,  2.53it/s]"
          }
        },
        "4387ad42ca444e958e1a094384627ab3": {
          "model_module": "@jupyter-widgets/base",
          "model_name": "LayoutModel",
          "model_module_version": "1.2.0",
          "state": {
            "_model_module": "@jupyter-widgets/base",
            "_model_module_version": "1.2.0",
            "_model_name": "LayoutModel",
            "_view_count": null,
            "_view_module": "@jupyter-widgets/base",
            "_view_module_version": "1.2.0",
            "_view_name": "LayoutView",
            "align_content": null,
            "align_items": null,
            "align_self": null,
            "border": null,
            "bottom": null,
            "display": null,
            "flex": null,
            "flex_flow": null,
            "grid_area": null,
            "grid_auto_columns": null,
            "grid_auto_flow": null,
            "grid_auto_rows": null,
            "grid_column": null,
            "grid_gap": null,
            "grid_row": null,
            "grid_template_areas": null,
            "grid_template_columns": null,
            "grid_template_rows": null,
            "height": null,
            "justify_content": null,
            "justify_items": null,
            "left": null,
            "margin": null,
            "max_height": null,
            "max_width": null,
            "min_height": null,
            "min_width": null,
            "object_fit": null,
            "object_position": null,
            "order": null,
            "overflow": null,
            "overflow_x": null,
            "overflow_y": null,
            "padding": null,
            "right": null,
            "top": null,
            "visibility": null,
            "width": null
          }
        },
        "bc7dc7ba83d14ab19bf743b9c609b718": {
          "model_module": "@jupyter-widgets/base",
          "model_name": "LayoutModel",
          "model_module_version": "1.2.0",
          "state": {
            "_model_module": "@jupyter-widgets/base",
            "_model_module_version": "1.2.0",
            "_model_name": "LayoutModel",
            "_view_count": null,
            "_view_module": "@jupyter-widgets/base",
            "_view_module_version": "1.2.0",
            "_view_name": "LayoutView",
            "align_content": null,
            "align_items": null,
            "align_self": null,
            "border": null,
            "bottom": null,
            "display": null,
            "flex": null,
            "flex_flow": null,
            "grid_area": null,
            "grid_auto_columns": null,
            "grid_auto_flow": null,
            "grid_auto_rows": null,
            "grid_column": null,
            "grid_gap": null,
            "grid_row": null,
            "grid_template_areas": null,
            "grid_template_columns": null,
            "grid_template_rows": null,
            "height": null,
            "justify_content": null,
            "justify_items": null,
            "left": null,
            "margin": null,
            "max_height": null,
            "max_width": null,
            "min_height": null,
            "min_width": null,
            "object_fit": null,
            "object_position": null,
            "order": null,
            "overflow": null,
            "overflow_x": null,
            "overflow_y": null,
            "padding": null,
            "right": null,
            "top": null,
            "visibility": null,
            "width": null
          }
        },
        "56f886d50b8540d6b1f4c2e9d11d2040": {
          "model_module": "@jupyter-widgets/controls",
          "model_name": "DescriptionStyleModel",
          "model_module_version": "1.5.0",
          "state": {
            "_model_module": "@jupyter-widgets/controls",
            "_model_module_version": "1.5.0",
            "_model_name": "DescriptionStyleModel",
            "_view_count": null,
            "_view_module": "@jupyter-widgets/base",
            "_view_module_version": "1.2.0",
            "_view_name": "StyleView",
            "description_width": ""
          }
        },
        "7952b27dda78408f9210497929d96f68": {
          "model_module": "@jupyter-widgets/base",
          "model_name": "LayoutModel",
          "model_module_version": "1.2.0",
          "state": {
            "_model_module": "@jupyter-widgets/base",
            "_model_module_version": "1.2.0",
            "_model_name": "LayoutModel",
            "_view_count": null,
            "_view_module": "@jupyter-widgets/base",
            "_view_module_version": "1.2.0",
            "_view_name": "LayoutView",
            "align_content": null,
            "align_items": null,
            "align_self": null,
            "border": null,
            "bottom": null,
            "display": null,
            "flex": null,
            "flex_flow": null,
            "grid_area": null,
            "grid_auto_columns": null,
            "grid_auto_flow": null,
            "grid_auto_rows": null,
            "grid_column": null,
            "grid_gap": null,
            "grid_row": null,
            "grid_template_areas": null,
            "grid_template_columns": null,
            "grid_template_rows": null,
            "height": null,
            "justify_content": null,
            "justify_items": null,
            "left": null,
            "margin": null,
            "max_height": null,
            "max_width": null,
            "min_height": null,
            "min_width": null,
            "object_fit": null,
            "object_position": null,
            "order": null,
            "overflow": null,
            "overflow_x": null,
            "overflow_y": null,
            "padding": null,
            "right": null,
            "top": null,
            "visibility": null,
            "width": null
          }
        },
        "1263054d0da04ece91cdc19399fcda35": {
          "model_module": "@jupyter-widgets/controls",
          "model_name": "ProgressStyleModel",
          "model_module_version": "1.5.0",
          "state": {
            "_model_module": "@jupyter-widgets/controls",
            "_model_module_version": "1.5.0",
            "_model_name": "ProgressStyleModel",
            "_view_count": null,
            "_view_module": "@jupyter-widgets/base",
            "_view_module_version": "1.2.0",
            "_view_name": "StyleView",
            "bar_color": null,
            "description_width": ""
          }
        },
        "fba0bb3304a74ebe91e5906fbc874135": {
          "model_module": "@jupyter-widgets/base",
          "model_name": "LayoutModel",
          "model_module_version": "1.2.0",
          "state": {
            "_model_module": "@jupyter-widgets/base",
            "_model_module_version": "1.2.0",
            "_model_name": "LayoutModel",
            "_view_count": null,
            "_view_module": "@jupyter-widgets/base",
            "_view_module_version": "1.2.0",
            "_view_name": "LayoutView",
            "align_content": null,
            "align_items": null,
            "align_self": null,
            "border": null,
            "bottom": null,
            "display": null,
            "flex": null,
            "flex_flow": null,
            "grid_area": null,
            "grid_auto_columns": null,
            "grid_auto_flow": null,
            "grid_auto_rows": null,
            "grid_column": null,
            "grid_gap": null,
            "grid_row": null,
            "grid_template_areas": null,
            "grid_template_columns": null,
            "grid_template_rows": null,
            "height": null,
            "justify_content": null,
            "justify_items": null,
            "left": null,
            "margin": null,
            "max_height": null,
            "max_width": null,
            "min_height": null,
            "min_width": null,
            "object_fit": null,
            "object_position": null,
            "order": null,
            "overflow": null,
            "overflow_x": null,
            "overflow_y": null,
            "padding": null,
            "right": null,
            "top": null,
            "visibility": null,
            "width": null
          }
        },
        "7646f4a173c847a888c3dae1da1a7d70": {
          "model_module": "@jupyter-widgets/controls",
          "model_name": "DescriptionStyleModel",
          "model_module_version": "1.5.0",
          "state": {
            "_model_module": "@jupyter-widgets/controls",
            "_model_module_version": "1.5.0",
            "_model_name": "DescriptionStyleModel",
            "_view_count": null,
            "_view_module": "@jupyter-widgets/base",
            "_view_module_version": "1.2.0",
            "_view_name": "StyleView",
            "description_width": ""
          }
        },
        "6047969e96e04e418b221c25d735cde3": {
          "model_module": "@jupyter-widgets/controls",
          "model_name": "HBoxModel",
          "model_module_version": "1.5.0",
          "state": {
            "_dom_classes": [],
            "_model_module": "@jupyter-widgets/controls",
            "_model_module_version": "1.5.0",
            "_model_name": "HBoxModel",
            "_view_count": null,
            "_view_module": "@jupyter-widgets/controls",
            "_view_module_version": "1.5.0",
            "_view_name": "HBoxView",
            "box_style": "",
            "children": [
              "IPY_MODEL_644e486aee5e4933b1f72bad5cf9f2b0",
              "IPY_MODEL_336398d99f714e37bd966158131c331f",
              "IPY_MODEL_920c1103b59a41869c8c47c55df050ab"
            ],
            "layout": "IPY_MODEL_5ca13b33188c4136a1f3108d9d82d1c2"
          }
        },
        "644e486aee5e4933b1f72bad5cf9f2b0": {
          "model_module": "@jupyter-widgets/controls",
          "model_name": "HTMLModel",
          "model_module_version": "1.5.0",
          "state": {
            "_dom_classes": [],
            "_model_module": "@jupyter-widgets/controls",
            "_model_module_version": "1.5.0",
            "_model_name": "HTMLModel",
            "_view_count": null,
            "_view_module": "@jupyter-widgets/controls",
            "_view_module_version": "1.5.0",
            "_view_name": "HTMLView",
            "description": "",
            "description_tooltip": null,
            "layout": "IPY_MODEL_e7628ea1fa394d65abbca3128a35ce3c",
            "placeholder": "​",
            "style": "IPY_MODEL_efdb6cfdb6b44ec59343070cbe577fbb",
            "value": "Predicting: 100%"
          }
        },
        "336398d99f714e37bd966158131c331f": {
          "model_module": "@jupyter-widgets/controls",
          "model_name": "FloatProgressModel",
          "model_module_version": "1.5.0",
          "state": {
            "_dom_classes": [],
            "_model_module": "@jupyter-widgets/controls",
            "_model_module_version": "1.5.0",
            "_model_name": "FloatProgressModel",
            "_view_count": null,
            "_view_module": "@jupyter-widgets/controls",
            "_view_module_version": "1.5.0",
            "_view_name": "ProgressView",
            "bar_style": "success",
            "description": "",
            "description_tooltip": null,
            "layout": "IPY_MODEL_6bdc11d8e3944478acf3df9b0d6d79e0",
            "max": 446,
            "min": 0,
            "orientation": "horizontal",
            "style": "IPY_MODEL_85a70f0e98634c8d8df0e449a3b64cb5",
            "value": 446
          }
        },
        "920c1103b59a41869c8c47c55df050ab": {
          "model_module": "@jupyter-widgets/controls",
          "model_name": "HTMLModel",
          "model_module_version": "1.5.0",
          "state": {
            "_dom_classes": [],
            "_model_module": "@jupyter-widgets/controls",
            "_model_module_version": "1.5.0",
            "_model_name": "HTMLModel",
            "_view_count": null,
            "_view_module": "@jupyter-widgets/controls",
            "_view_module_version": "1.5.0",
            "_view_name": "HTMLView",
            "description": "",
            "description_tooltip": null,
            "layout": "IPY_MODEL_748e3265d82a426987396b0adee8b9c5",
            "placeholder": "​",
            "style": "IPY_MODEL_8d55addf8f5640508f6c639359869129",
            "value": " 446/446 [02:56&lt;00:00,  2.80it/s]"
          }
        },
        "5ca13b33188c4136a1f3108d9d82d1c2": {
          "model_module": "@jupyter-widgets/base",
          "model_name": "LayoutModel",
          "model_module_version": "1.2.0",
          "state": {
            "_model_module": "@jupyter-widgets/base",
            "_model_module_version": "1.2.0",
            "_model_name": "LayoutModel",
            "_view_count": null,
            "_view_module": "@jupyter-widgets/base",
            "_view_module_version": "1.2.0",
            "_view_name": "LayoutView",
            "align_content": null,
            "align_items": null,
            "align_self": null,
            "border": null,
            "bottom": null,
            "display": null,
            "flex": null,
            "flex_flow": null,
            "grid_area": null,
            "grid_auto_columns": null,
            "grid_auto_flow": null,
            "grid_auto_rows": null,
            "grid_column": null,
            "grid_gap": null,
            "grid_row": null,
            "grid_template_areas": null,
            "grid_template_columns": null,
            "grid_template_rows": null,
            "height": null,
            "justify_content": null,
            "justify_items": null,
            "left": null,
            "margin": null,
            "max_height": null,
            "max_width": null,
            "min_height": null,
            "min_width": null,
            "object_fit": null,
            "object_position": null,
            "order": null,
            "overflow": null,
            "overflow_x": null,
            "overflow_y": null,
            "padding": null,
            "right": null,
            "top": null,
            "visibility": null,
            "width": null
          }
        },
        "e7628ea1fa394d65abbca3128a35ce3c": {
          "model_module": "@jupyter-widgets/base",
          "model_name": "LayoutModel",
          "model_module_version": "1.2.0",
          "state": {
            "_model_module": "@jupyter-widgets/base",
            "_model_module_version": "1.2.0",
            "_model_name": "LayoutModel",
            "_view_count": null,
            "_view_module": "@jupyter-widgets/base",
            "_view_module_version": "1.2.0",
            "_view_name": "LayoutView",
            "align_content": null,
            "align_items": null,
            "align_self": null,
            "border": null,
            "bottom": null,
            "display": null,
            "flex": null,
            "flex_flow": null,
            "grid_area": null,
            "grid_auto_columns": null,
            "grid_auto_flow": null,
            "grid_auto_rows": null,
            "grid_column": null,
            "grid_gap": null,
            "grid_row": null,
            "grid_template_areas": null,
            "grid_template_columns": null,
            "grid_template_rows": null,
            "height": null,
            "justify_content": null,
            "justify_items": null,
            "left": null,
            "margin": null,
            "max_height": null,
            "max_width": null,
            "min_height": null,
            "min_width": null,
            "object_fit": null,
            "object_position": null,
            "order": null,
            "overflow": null,
            "overflow_x": null,
            "overflow_y": null,
            "padding": null,
            "right": null,
            "top": null,
            "visibility": null,
            "width": null
          }
        },
        "efdb6cfdb6b44ec59343070cbe577fbb": {
          "model_module": "@jupyter-widgets/controls",
          "model_name": "DescriptionStyleModel",
          "model_module_version": "1.5.0",
          "state": {
            "_model_module": "@jupyter-widgets/controls",
            "_model_module_version": "1.5.0",
            "_model_name": "DescriptionStyleModel",
            "_view_count": null,
            "_view_module": "@jupyter-widgets/base",
            "_view_module_version": "1.2.0",
            "_view_name": "StyleView",
            "description_width": ""
          }
        },
        "6bdc11d8e3944478acf3df9b0d6d79e0": {
          "model_module": "@jupyter-widgets/base",
          "model_name": "LayoutModel",
          "model_module_version": "1.2.0",
          "state": {
            "_model_module": "@jupyter-widgets/base",
            "_model_module_version": "1.2.0",
            "_model_name": "LayoutModel",
            "_view_count": null,
            "_view_module": "@jupyter-widgets/base",
            "_view_module_version": "1.2.0",
            "_view_name": "LayoutView",
            "align_content": null,
            "align_items": null,
            "align_self": null,
            "border": null,
            "bottom": null,
            "display": null,
            "flex": null,
            "flex_flow": null,
            "grid_area": null,
            "grid_auto_columns": null,
            "grid_auto_flow": null,
            "grid_auto_rows": null,
            "grid_column": null,
            "grid_gap": null,
            "grid_row": null,
            "grid_template_areas": null,
            "grid_template_columns": null,
            "grid_template_rows": null,
            "height": null,
            "justify_content": null,
            "justify_items": null,
            "left": null,
            "margin": null,
            "max_height": null,
            "max_width": null,
            "min_height": null,
            "min_width": null,
            "object_fit": null,
            "object_position": null,
            "order": null,
            "overflow": null,
            "overflow_x": null,
            "overflow_y": null,
            "padding": null,
            "right": null,
            "top": null,
            "visibility": null,
            "width": null
          }
        },
        "85a70f0e98634c8d8df0e449a3b64cb5": {
          "model_module": "@jupyter-widgets/controls",
          "model_name": "ProgressStyleModel",
          "model_module_version": "1.5.0",
          "state": {
            "_model_module": "@jupyter-widgets/controls",
            "_model_module_version": "1.5.0",
            "_model_name": "ProgressStyleModel",
            "_view_count": null,
            "_view_module": "@jupyter-widgets/base",
            "_view_module_version": "1.2.0",
            "_view_name": "StyleView",
            "bar_color": null,
            "description_width": ""
          }
        },
        "748e3265d82a426987396b0adee8b9c5": {
          "model_module": "@jupyter-widgets/base",
          "model_name": "LayoutModel",
          "model_module_version": "1.2.0",
          "state": {
            "_model_module": "@jupyter-widgets/base",
            "_model_module_version": "1.2.0",
            "_model_name": "LayoutModel",
            "_view_count": null,
            "_view_module": "@jupyter-widgets/base",
            "_view_module_version": "1.2.0",
            "_view_name": "LayoutView",
            "align_content": null,
            "align_items": null,
            "align_self": null,
            "border": null,
            "bottom": null,
            "display": null,
            "flex": null,
            "flex_flow": null,
            "grid_area": null,
            "grid_auto_columns": null,
            "grid_auto_flow": null,
            "grid_auto_rows": null,
            "grid_column": null,
            "grid_gap": null,
            "grid_row": null,
            "grid_template_areas": null,
            "grid_template_columns": null,
            "grid_template_rows": null,
            "height": null,
            "justify_content": null,
            "justify_items": null,
            "left": null,
            "margin": null,
            "max_height": null,
            "max_width": null,
            "min_height": null,
            "min_width": null,
            "object_fit": null,
            "object_position": null,
            "order": null,
            "overflow": null,
            "overflow_x": null,
            "overflow_y": null,
            "padding": null,
            "right": null,
            "top": null,
            "visibility": null,
            "width": null
          }
        },
        "8d55addf8f5640508f6c639359869129": {
          "model_module": "@jupyter-widgets/controls",
          "model_name": "DescriptionStyleModel",
          "model_module_version": "1.5.0",
          "state": {
            "_model_module": "@jupyter-widgets/controls",
            "_model_module_version": "1.5.0",
            "_model_name": "DescriptionStyleModel",
            "_view_count": null,
            "_view_module": "@jupyter-widgets/base",
            "_view_module_version": "1.2.0",
            "_view_name": "StyleView",
            "description_width": ""
          }
        }
      }
    }
  },
  "cells": [
    {
      "cell_type": "markdown",
      "metadata": {
        "id": "view-in-github",
        "colab_type": "text"
      },
      "source": [
        "<a href=\"https://colab.research.google.com/github/Sim98B/ShroomVision/blob/main/SV4/ShroomVision4Deployment.ipynb\" target=\"_parent\"><img src=\"https://colab.research.google.com/assets/colab-badge.svg\" alt=\"Open In Colab\"/></a>"
      ]
    },
    {
      "cell_type": "markdown",
      "source": [
        "# Shroom Vision 4 Deployment"
      ],
      "metadata": {
        "id": "FONkgfQ7FAAB"
      }
    },
    {
      "cell_type": "markdown",
      "source": [
        "## Setup"
      ],
      "metadata": {
        "id": "_OqRANnWE-Ym"
      }
    },
    {
      "cell_type": "code",
      "execution_count": 9,
      "metadata": {
        "id": "OIZ_cZMU_8VF",
        "colab": {
          "base_uri": "https://localhost:8080/"
        },
        "outputId": "b8e5320d-e4bc-4dbc-d047-fc8e67545597"
      },
      "outputs": [
        {
          "output_type": "stream",
          "name": "stdout",
          "text": [
            "torch: 2.1.0+cu118\n",
            "torchvision: 0.16.0+cu118\n",
            "torchinfo: 1.8.0\n",
            "Cloning into 'ShroomVision'...\n",
            "remote: Enumerating objects: 3239, done.\u001b[K\n",
            "remote: Counting objects: 100% (51/51), done.\u001b[K\n",
            "remote: Compressing objects: 100% (50/50), done.\u001b[K\n",
            "remote: Total 3239 (delta 22), reused 6 (delta 1), pack-reused 3188\u001b[K\n",
            "Receiving objects: 100% (3239/3239), 468.76 MiB | 34.53 MiB/s, done.\n",
            "Resolving deltas: 100% (677/677), done.\n",
            "Updating files: 100% (1733/1733), done.\n",
            "mv: cannot move 'ShroomVision/Modules/Libraries' to './Libraries': Directory not empty\n",
            "mv: cannot move 'ShroomVision/Data' to './Data': Directory not empty\n",
            "mv: cannot move 'ShroomVision/SV4/Models' to './Models': Directory not empty\n"
          ]
        }
      ],
      "source": [
        "# Importing main libraries\n",
        "try:\n",
        "  import torch\n",
        "  print(f\"torch: {torch.__version__}\")\n",
        "  import torchvision\n",
        "  print(f\"torchvision: {torchvision.__version__}\")\n",
        "  import torchinfo\n",
        "  print(f\"torchinfo: {torchinfo.__version__}\")\n",
        "except:\n",
        "  print(\"[INFO] Torch and Torchvision not installed, downloading\")\n",
        "  !pip install -q torch torchvision torchinfo\n",
        "  import torch\n",
        "  import torchvision\n",
        "  import torchinfo\n",
        "\n",
        "# Utilities\n",
        "import os\n",
        "import zipfile\n",
        "from pathlib import Path\n",
        "import requests\n",
        "import shutil\n",
        "from timeit import default_timer as timer\n",
        "import warnings\n",
        "warnings.filterwarnings(\"ignore\")\n",
        "\n",
        "# Manipulation\n",
        "import numpy as np\n",
        "import pandas as pd\n",
        "\n",
        "# Neural networks\n",
        "from torch import nn\n",
        "from torchvision import transforms\n",
        "import torchvision.models\n",
        "from torchinfo import summary\n",
        "\n",
        "# Cloning GitHub repository\n",
        "!git clone https://github.com/Sim98B/ShroomVision\n",
        "!mv ShroomVision/Modules/Libraries .\n",
        "!mv ShroomVision/Data .\n",
        "!mv ShroomVision/SV4/Models .\n",
        "\n",
        "# Custom functions\n",
        "from Libraries import data, extractors, model_ops, utils\n",
        "\n",
        "shutil.rmtree(\"ShroomVision\")"
      ]
    },
    {
      "cell_type": "code",
      "source": [
        "# Device agnostic code\n",
        "device = \"cuda\" if torch.cuda.is_available() else \"cpu\"\n",
        "device"
      ],
      "metadata": {
        "id": "_nooVU-VFo_s",
        "outputId": "3fd31513-bca1-43f1-cb62-2ac3e2e3dde1",
        "colab": {
          "base_uri": "https://localhost:8080/",
          "height": 35
        }
      },
      "execution_count": 2,
      "outputs": [
        {
          "output_type": "execute_result",
          "data": {
            "text/plain": [
              "'cpu'"
            ],
            "application/vnd.google.colaboratory.intrinsic+json": {
              "type": "string"
            }
          },
          "metadata": {},
          "execution_count": 2
        }
      ]
    },
    {
      "cell_type": "markdown",
      "source": [
        "## Data"
      ],
      "metadata": {
        "id": "ZmBjNyoiGNms"
      }
    },
    {
      "cell_type": "code",
      "source": [
        "# Validation and test data\n",
        "data_path = Path(\"Data\")\n",
        "val_dir = data_path / \"val_data\"\n",
        "val_paths_list = list(Path(val_dir).glob(\"*/*.jpg\"))\n",
        "\n",
        "test_dir = data_path / \"test_data\"\n",
        "test_paths_list = list(Path(test_dir).glob(\"*/*.jpg\"))\n",
        "\n",
        "data.inspect_dir(data_path)\n",
        "\n",
        "# Extracting trained DenseNet161 paramters\n",
        "densenet161_zip = Path(\"Models/DenseNet161_20epochs.zip\")\n",
        "\n",
        "with zipfile.ZipFile(densenet161_zip, 'r') as zip_ref:\n",
        "  zip_ref.extractall(Path(\"Models\"))\n",
        "\n",
        "densenet161_weights_path = Path(\"Models/State_dicts/20_epochs_DenseNet161.pth\")"
      ],
      "metadata": {
        "id": "YT3zPwVGGKAd",
        "outputId": "0fa16f26-c021-4f9b-fdfd-1597b7e6bc25",
        "colab": {
          "base_uri": "https://localhost:8080/"
        }
      },
      "execution_count": 3,
      "outputs": [
        {
          "output_type": "stream",
          "name": "stdout",
          "text": [
            "There are 3 directory/ies and 0 file/s in Data\n",
            "There are 4 directory/ies and 0 file/s in Data/test_data\n",
            "There are 0 directory/ies and 173 file/s in Data/test_data/boletus_edulis\n",
            "There are 0 directory/ies and 16 file/s in Data/test_data/amanita_vaginata\n",
            "There are 0 directory/ies and 17 file/s in Data/test_data/boletus_erythropus\n",
            "There are 0 directory/ies and 240 file/s in Data/test_data/amanita_muscaria\n",
            "There are 4 directory/ies and 0 file/s in Data/val_data\n",
            "There are 0 directory/ies and 64 file/s in Data/val_data/boletus_edulis\n",
            "There are 0 directory/ies and 64 file/s in Data/val_data/amanita_vaginata\n",
            "There are 0 directory/ies and 64 file/s in Data/val_data/boletus_erythropus\n",
            "There are 0 directory/ies and 64 file/s in Data/val_data/amanita_muscaria\n",
            "There are 4 directory/ies and 0 file/s in Data/train_data\n",
            "There are 0 directory/ies and 250 file/s in Data/train_data/boletus_edulis\n",
            "There are 0 directory/ies and 250 file/s in Data/train_data/amanita_vaginata\n",
            "There are 0 directory/ies and 250 file/s in Data/train_data/boletus_erythropus\n",
            "There are 0 directory/ies and 250 file/s in Data/train_data/amanita_muscaria\n"
          ]
        }
      ]
    },
    {
      "cell_type": "markdown",
      "source": [
        "## Pretrained model"
      ],
      "metadata": {
        "id": "5JdymiHpKvpj"
      }
    },
    {
      "cell_type": "code",
      "source": [
        "# Creating the model and the transformer\n",
        "densenet161, transformer = extractors.create_densenet161(output_shape = 4)\n",
        "\n",
        "# Loading weights from\n",
        "model = utils.load_model(model = densenet161,\n",
        "                         weights_path = densenet161_weights_path)"
      ],
      "metadata": {
        "id": "AE7KJKxuI9VY",
        "outputId": "16adee95-c1ea-4d26-fdbf-7ec29ce89abc",
        "colab": {
          "base_uri": "https://localhost:8080/"
        }
      },
      "execution_count": 4,
      "outputs": [
        {
          "output_type": "stream",
          "name": "stderr",
          "text": [
            "Downloading: \"https://download.pytorch.org/models/densenet161-8d451a50.pth\" to /root/.cache/torch/hub/checkpoints/densenet161-8d451a50.pth\n",
            "100%|██████████| 110M/110M [00:01<00:00, 84.2MB/s]\n"
          ]
        },
        {
          "output_type": "stream",
          "name": "stdout",
          "text": [
            "[INFO] Loading weights into model...\n",
            "<All keys matched successfully>\n"
          ]
        }
      ]
    },
    {
      "cell_type": "markdown",
      "source": [
        "### Checking performance"
      ],
      "metadata": {
        "id": "TzUh9s-hMMwS"
      }
    },
    {
      "cell_type": "code",
      "source": [
        "# Creating vaòidation and test dataloader\n",
        "val_loader, class_names = data.dataloader(data_dir = val_dir,\n",
        "                                          transformer = transformer,\n",
        "                                          bs = 32,\n",
        "                                          shuffle = False,\n",
        "                                          workers = os.cpu_count())\n",
        "\n",
        "test_loader, _ = data.dataloader(data_dir = test_dir,\n",
        "                                 transformer = transformer,\n",
        "                                 bs = 32,\n",
        "                                 shuffle = False,\n",
        "                                 workers = os.cpu_count())"
      ],
      "metadata": {
        "id": "93Kq9aEqKoTg"
      },
      "execution_count": 5,
      "outputs": []
    },
    {
      "cell_type": "code",
      "source": [
        "# Predicting on validation set\n",
        "model_val_pred = model_ops.make_predictions(model = model,\n",
        "                                            test_dataloader = val_loader,\n",
        "                                            device = device)\n",
        "\n",
        "# Confusion matrix\n",
        "utils.plot_confusion_matrix(y_true = model_val_pred[\"true_labels\"],\n",
        "                            y_pred = model_val_pred[\"predictions\"],\n",
        "                            class_names = class_names,\n",
        "                            norm = None,\n",
        "                            title = f\"DenseNet161 performance on validation set\")\n",
        "\n",
        "# Predicting on test set\n",
        "model_test_pred = model_ops.make_predictions(model = model,\n",
        "                                             test_dataloader = test_loader,\n",
        "                                             device = device)\n",
        "\n",
        "# Confusion matrix\n",
        "utils.plot_confusion_matrix(y_true = model_test_pred[\"true_labels\"],\n",
        "                            y_pred = model_test_pred[\"predictions\"],\n",
        "                            class_names = class_names,\n",
        "                            norm = None,\n",
        "                            title = f\"DenseNet161 performance on test set\")"
      ],
      "metadata": {
        "id": "DVD3OQ_kMQ1i",
        "outputId": "8fe3365c-36ff-4abe-d0d2-c97803b6f879",
        "colab": {
          "base_uri": "https://localhost:8080/",
          "height": 1000
        }
      },
      "execution_count": 13,
      "outputs": [
        {
          "output_type": "display_data",
          "data": {
            "text/plain": [
              "<Figure size 700x700 with 1 Axes>"
            ],
            "image/png": "[encoded data removed]"
          },
          "metadata": {}
        },
        {
          "output_type": "display_data",
          "data": {
            "text/plain": [
              "<Figure size 700x700 with 1 Axes>"
            ],
            "image/png": "[encoded data removed]"
          },
          "metadata": {}
        }
      ]
    },
    {
      "cell_type": "markdown",
      "source": [
        "### Some stats"
      ],
      "metadata": {
        "id": "XtoQK_KbPIHj"
      }
    },
    {
      "cell_type": "code",
      "source": [
        "# Model size\n",
        "print(f\"DenseNet161 size: {densenet161_weights_path.stat().st_size / (1024*1024):.2f} MB\")"
      ],
      "metadata": {
        "id": "lIhVd7Y9OmvH",
        "outputId": "4b301330-c17e-4d1b-92cc-a71c558fe2d7",
        "colab": {
          "base_uri": "https://localhost:8080/"
        }
      },
      "execution_count": 6,
      "outputs": [
        {
          "output_type": "stream",
          "name": "stdout",
          "text": [
            "DenseNet161 size: 102.21 MB\n"
          ]
        }
      ]
    },
    {
      "cell_type": "code",
      "source": [
        "val_pred_list = model_ops.pred_and_track(model = model,\n",
        "                                         path_list = val_paths_list,\n",
        "                                         transform = transformer,\n",
        "                                         class_names = class_names)\n",
        "test_pred_list = model_ops.pred_and_track(model = model,\n",
        "                                          path_list = test_paths_list,\n",
        "                                          transform = transformer,\n",
        "                                          class_names = class_names)"
      ],
      "metadata": {
        "id": "V52HrTgdcfmZ",
        "outputId": "31d24da5-4f12-4261-9066-de5bc3629508",
        "colab": {
          "base_uri": "https://localhost:8080/",
          "height": 81,
          "referenced_widgets": [
            "ccb35b4b067544b3983d27275ec2d1bf",
            "8d24448dfd5747ebbc736dac495acd9f",
            "ffafe8faa631410b8d5cadb528252cb1",
            "f2865c3fc3c24b35b08256a9cf768fd2",
            "4387ad42ca444e958e1a094384627ab3",
            "bc7dc7ba83d14ab19bf743b9c609b718",
            "56f886d50b8540d6b1f4c2e9d11d2040",
            "7952b27dda78408f9210497929d96f68",
            "1263054d0da04ece91cdc19399fcda35",
            "fba0bb3304a74ebe91e5906fbc874135",
            "7646f4a173c847a888c3dae1da1a7d70",
            "6047969e96e04e418b221c25d735cde3",
            "644e486aee5e4933b1f72bad5cf9f2b0",
            "336398d99f714e37bd966158131c331f",
            "920c1103b59a41869c8c47c55df050ab",
            "5ca13b33188c4136a1f3108d9d82d1c2",
            "e7628ea1fa394d65abbca3128a35ce3c",
            "efdb6cfdb6b44ec59343070cbe577fbb",
            "6bdc11d8e3944478acf3df9b0d6d79e0",
            "85a70f0e98634c8d8df0e449a3b64cb5",
            "748e3265d82a426987396b0adee8b9c5",
            "8d55addf8f5640508f6c639359869129"
          ]
        }
      },
      "execution_count": 28,
      "outputs": [
        {
          "output_type": "display_data",
          "data": {
            "text/plain": [
              "Predicting:   0%|          | 0/256 [00:00<?, ?it/s]"
            ],
            "application/vnd.jupyter.widget-view+json": {
              "version_major": 2,
              "version_minor": 0,
              "model_id": "ccb35b4b067544b3983d27275ec2d1bf"
            }
          },
          "metadata": {}
        },
        {
          "output_type": "display_data",
          "data": {
            "text/plain": [
              "Predicting:   0%|          | 0/446 [00:00<?, ?it/s]"
            ],
            "application/vnd.jupyter.widget-view+json": {
              "version_major": 2,
              "version_minor": 0,
              "model_id": "6047969e96e04e418b221c25d735cde3"
            }
          },
          "metadata": {}
        }
      ]
    },
    {
      "cell_type": "code",
      "source": [
        "# Creating a dataframe with the list of dicts\n",
        "val_df = pd.DataFrame(val_pred_list)\n",
        "test_df = pd.DataFrame(test_pred_list)\n",
        "\n",
        "print(f\"Mean time for predictions on validation set {val_df.time_for_pred.mean():.4f} sec\")\n",
        "print(f\"Mean time for predictions on test set {test_df.time_for_pred.mean():.4f} sec\")\n",
        "\n",
        "print(f\"\\nPredictions on validation set:\\nCorret: {val_df.correct.value_counts()[0]}\\nWrong: {val_df.correct.value_counts()[1]}\")\n",
        "print(f\"\\nPredictions on test set:\\nCorret: {test_df.correct.value_counts()[0]}\\nWrong: {test_df.correct.value_counts()[1]}\")"
      ],
      "metadata": {
        "id": "cqUctq9YeM1Z",
        "outputId": "82654b9b-b06e-425a-93fd-f0cafc18982f",
        "colab": {
          "base_uri": "https://localhost:8080/"
        }
      },
      "execution_count": 34,
      "outputs": [
        {
          "output_type": "stream",
          "name": "stdout",
          "text": [
            "Mean time for predictions on validation set 0.4268 sec\n",
            "Mean time for predictions on test set 0.3934 sec\n",
            "\n",
            "Predictions on validation set:\n",
            "Corret: 245\n",
            "Wrong: 11\n",
            "\n",
            "Predictions on test set:\n",
            "Corret: 423\n",
            "Wrong: 23\n"
          ]
        }
      ]
    },
    {
      "cell_type": "markdown",
      "source": [
        "The model has an acceptable performance so we can go ahead with deployment on [HuggingFace](https://huggingface.co/) using [Gradio](https://www.gradio.app/)."
      ],
      "metadata": {
        "id": "Dl0tICOIuNc4"
      }
    },
    {
      "cell_type": "markdown",
      "source": [
        "## Getting ready to upload the model\n",
        "\n",
        "Despite the model was trained on a GPU the model won't run on a GPU in real life so we have to set put it on a cpu."
      ],
      "metadata": {
        "id": "3BH7CnfCtga1"
      }
    },
    {
      "cell_type": "code",
      "source": [
        "model.to(\"cpu\")\n",
        "next(iter(model.parameters())).device"
      ],
      "metadata": {
        "id": "1rW5i50mtimn",
        "outputId": "b6d8e5b7-3548-4681-e74c-712e5d0f898c",
        "colab": {
          "base_uri": "https://localhost:8080/"
        }
      },
      "execution_count": 39,
      "outputs": [
        {
          "output_type": "execute_result",
          "data": {
            "text/plain": [
              "device(type='cpu')"
            ]
          },
          "metadata": {},
          "execution_count": 39
        }
      ]
    },
    {
      "cell_type": "code",
      "source": [
        "# Create a list for edibility\n",
        "edibility_list = [\"Toxic\", \"Not edible\", \"Great\", \"Toxic when raw\"]"
      ],
      "metadata": {
        "id": "Qhoib23X0yDJ"
      },
      "execution_count": 41,
      "outputs": []
    },
    {
      "cell_type": "markdown",
      "source": [
        "### Creating a function to make predictions"
      ],
      "metadata": {
        "id": "I_IeMN2NxEzj"
      }
    },
    {
      "cell_type": "code",
      "source": [
        "def predict(img):\n",
        "  \"\"\"\n",
        "  Transforms and makes prediction on an image and return prediction and time.\n",
        "  \"\"\"\n",
        "\n",
        "  start_time = timer()\n",
        "\n",
        "  img = transformer(img).unsqueeze(0)\n",
        "\n",
        "  model.eval()\n",
        "  with torch.inference_mode():\n",
        "    pred_probs = torch.softmax(model(img), dim=1)\n",
        "\n",
        "  pred_labels_and_probs = {class_names[i]: float(pred_probs[0][i]) for i in range(len(class_names))}\n",
        "\n",
        "  pred_info = edibility_list[np.argmax(pred_probs)]\n",
        "\n",
        "  pred_time = round(timer() - start_time, 5)\n",
        "\n",
        "  return pred_labels_and_probs, pred_info, pred_time"
      ],
      "metadata": {
        "id": "AtE5THnhtkG7"
      },
      "execution_count": 54,
      "outputs": []
    }
  ]
}